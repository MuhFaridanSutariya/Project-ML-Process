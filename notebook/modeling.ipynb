{
  "nbformat": 4,
  "nbformat_minor": 0,
  "metadata": {
    "colab": {
      "provenance": []
    },
    "kernelspec": {
      "name": "python3",
      "display_name": "Python 3"
    },
    "language_info": {
      "name": "python"
    }
  },
  "cells": [
    {
      "cell_type": "code",
      "execution_count": 1,
      "metadata": {
        "id": "Xsh5oQvctU8w"
      },
      "outputs": [],
      "source": [
        "from sklearn.linear_model import LogisticRegression\n",
        "from sklearn.tree import DecisionTreeClassifier\n",
        "from sklearn.ensemble import RandomForestClassifier\n",
        "from sklearn.neighbors import KNeighborsClassifier\n",
        "from xgboost import XGBClassifier\n",
        "from sklearn.svm import SVC\n",
        "\n",
        "\n",
        "from sklearn.metrics import classification_report, ConfusionMatrixDisplay, roc_curve, roc_auc_score\n",
        "from sklearn.model_selection import RandomizedSearchCV, GridSearchCV\n",
        "\n",
        "from datetime import datetime\n",
        "from tqdm import tqdm\n",
        "import yaml\n",
        "import joblib\n",
        "import json\n",
        "import pandas as pd\n",
        "import matplotlib.pyplot as plt\n",
        "import seaborn as sns\n",
        "import copy\n",
        "import hashlib"
      ]
    },
    {
      "cell_type": "markdown",
      "source": [
        "## 1. Load Dataset"
      ],
      "metadata": {
        "id": "ziEZ8j4Gv5pL"
      }
    },
    {
      "cell_type": "code",
      "source": [
        "x_rus = joblib.load(\"/data/processed/x_rus.pkl\")\n",
        "y_rus = joblib.load(\"/data/processed/y_rus.pkl\")\n",
        "\n",
        "x_ros = joblib.load(\"/data/processed/x_ros.pkl\")\n",
        "y_ros = joblib.load(\"/data/processed/y_ros.pkl\")\n",
        "\n",
        "x_sm = joblib.load(\"/data/processed/x_sm.pkl\")\n",
        "y_sm = joblib.load(\"/data/processed/y_sm.pkl\")\n",
        "\n",
        "x_valid = joblib.load(\"/data/processed/x_valid_feng.pkl\")\n",
        "y_valid = joblib.load(\"/data/processed/y_valid_feng.pkl\")\n",
        "\n",
        "x_test = joblib.load(\"/data/processed/x_test_feng.pkl\")\n",
        "y_test = joblib.load(\"/data/processed/y_test_feng.pkl\")"
      ],
      "metadata": {
        "id": "jFLcr49Otb07"
      },
      "execution_count": 2,
      "outputs": []
    },
    {
      "cell_type": "markdown",
      "source": [
        "## 2. Create Log Template"
      ],
      "metadata": {
        "id": "ApUr7f-bv6UD"
      }
    },
    {
      "cell_type": "code",
      "source": [
        "def time_stamp():\n",
        "    return datetime.now()"
      ],
      "metadata": {
        "id": "3ta35fY-vf9p"
      },
      "execution_count": 3,
      "outputs": []
    },
    {
      "cell_type": "code",
      "source": [
        "def create_log_template():\n",
        "    logger = {\n",
        "        \"model_name\" : [],\n",
        "        \"model_uid\" : [],\n",
        "        \"training_time\" : [],\n",
        "        \"training_date\" : [],\n",
        "        \"performance\" : [],\n",
        "        \"f1_score_avg\" : [],\n",
        "        \"data_configurations\" : [],\n",
        "    }\n",
        "\n",
        "    return logger"
      ],
      "metadata": {
        "id": "U4gn5RiNv9YP"
      },
      "execution_count": 4,
      "outputs": []
    },
    {
      "cell_type": "code",
      "source": [
        "def training_log_updater(current_log, log_path):\n",
        "    current_log = current_log.copy()\n",
        "\n",
        "    try:\n",
        "        with open(log_path, \"r\") as file:\n",
        "            last_log = json.load(file)\n",
        "        file.close()\n",
        "    except FileNotFoundError as ffe:\n",
        "        with open(log_path, \"w\") as file:\n",
        "            file.write(\"[]\")\n",
        "        file.close()\n",
        "        with open(log_path, \"r\") as file:\n",
        "            last_log = json.load(file)\n",
        "        file.close()\n",
        "\n",
        "    last_log.append(current_log)\n",
        "\n",
        "    with open(log_path, \"w\") as file:\n",
        "        json.dump(last_log, file)\n",
        "        file.close()\n",
        "\n",
        "    return last_log"
      ],
      "metadata": {
        "id": "0AJkGx96v-ES"
      },
      "execution_count": 5,
      "outputs": []
    },
    {
      "cell_type": "markdown",
      "source": [
        "## 2. Training and Evaluation"
      ],
      "metadata": {
        "id": "GmAKbOfdwBtf"
      }
    },
    {
      "cell_type": "markdown",
      "source": [
        "### 2.1. Create Model Object"
      ],
      "metadata": {
        "id": "xCVxWuMJwC88"
      }
    },
    {
      "cell_type": "code",
      "source": [
        "lgr_baseline = LogisticRegression()\n",
        "dct_baseline = DecisionTreeClassifier()\n",
        "rfc_baseline = RandomForestClassifier()\n",
        "knn_baseline = KNeighborsClassifier()\n",
        "xgb_baseline = XGBClassifier()\n",
        "svm_baseline = SVC()"
      ],
      "metadata": {
        "id": "fS1v-QAiv_Ij"
      },
      "execution_count": 6,
      "outputs": []
    },
    {
      "cell_type": "code",
      "source": [
        "list_of_model = {\n",
        "    \"undersampling\" : [\n",
        "        { \"model_name\": lgr_baseline.__class__.__name__, \"model_object\": lgr_baseline, \"model_uid\": \"\"},\n",
        "        { \"model_name\": dct_baseline.__class__.__name__, \"model_object\": dct_baseline, \"model_uid\": \"\"},\n",
        "        { \"model_name\": rfc_baseline.__class__.__name__, \"model_object\": rfc_baseline, \"model_uid\": \"\"},\n",
        "        { \"model_name\": knn_baseline.__class__.__name__, \"model_object\": knn_baseline, \"model_uid\": \"\"},\n",
        "        { \"model_name\": xgb_baseline.__class__.__name__, \"model_object\": xgb_baseline, \"model_uid\": \"\"},\n",
        "        { \"model_name\": svm_baseline.__class__.__name__, \"model_object\": svm_baseline, \"model_uid\": \"\"}\n",
        "        ],\n",
        "    \"oversampling\" : [\n",
        "        { \"model_name\": lgr_baseline.__class__.__name__, \"model_object\": lgr_baseline, \"model_uid\": \"\"},\n",
        "        { \"model_name\": dct_baseline.__class__.__name__, \"model_object\": dct_baseline, \"model_uid\": \"\"},\n",
        "        { \"model_name\": rfc_baseline.__class__.__name__, \"model_object\": rfc_baseline, \"model_uid\": \"\"},\n",
        "        { \"model_name\": knn_baseline.__class__.__name__, \"model_object\": knn_baseline, \"model_uid\": \"\"},\n",
        "        { \"model_name\": xgb_baseline.__class__.__name__, \"model_object\": xgb_baseline, \"model_uid\": \"\"},\n",
        "        { \"model_name\": svm_baseline.__class__.__name__, \"model_object\": svm_baseline, \"model_uid\": \"\"}\n",
        "        ],\n",
        "    \"smote\" : [\n",
        "        { \"model_name\": lgr_baseline.__class__.__name__, \"model_object\": lgr_baseline, \"model_uid\": \"\"},\n",
        "        { \"model_name\": dct_baseline.__class__.__name__, \"model_object\": dct_baseline, \"model_uid\": \"\"},\n",
        "        { \"model_name\": rfc_baseline.__class__.__name__, \"model_object\": rfc_baseline, \"model_uid\": \"\"},\n",
        "        { \"model_name\": knn_baseline.__class__.__name__, \"model_object\": knn_baseline, \"model_uid\": \"\"},\n",
        "        { \"model_name\": xgb_baseline.__class__.__name__, \"model_object\": xgb_baseline, \"model_uid\": \"\"},\n",
        "        { \"model_name\": svm_baseline.__class__.__name__, \"model_object\": svm_baseline, \"model_uid\": \"\"}\n",
        "        ],\n",
        "    }"
      ],
      "metadata": {
        "id": "rCUmcA6NwD9E"
      },
      "execution_count": 7,
      "outputs": []
    },
    {
      "cell_type": "markdown",
      "source": [
        "### 2.2. Training Model"
      ],
      "metadata": {
        "id": "lJJ5PpEGwHlM"
      }
    },
    {
      "cell_type": "code",
      "source": [
        "def train_eval_model(list_of_model, prefix_model_name, x_train, y_train, data_configuration_name, x_valid, y_valid, log_path):\n",
        "\n",
        "    list_of_model = copy.deepcopy(list_of_model)\n",
        "    logger = create_log_template()\n",
        "\n",
        "    for model in tqdm(list_of_model):\n",
        "        model_name = prefix_model_name + \"-\" + model[\"model_name\"]\n",
        "\n",
        "        start_time = time_stamp()\n",
        "        model[\"model_object\"].fit(x_train, y_train)\n",
        "        finished_time = time_stamp()\n",
        "\n",
        "        elapsed_time = finished_time - start_time\n",
        "        elapsed_time = elapsed_time.total_seconds()\n",
        "\n",
        "        y_pred = model[\"model_object\"].predict(x_valid)\n",
        "        performance = classification_report(y_valid, y_pred, output_dict = True)\n",
        "\n",
        "        plain_id = str(start_time) + str(finished_time)\n",
        "        chiper_id = hashlib.md5(plain_id.encode()).hexdigest()\n",
        "\n",
        "        model[\"model_uid\"] = chiper_id\n",
        "\n",
        "        logger[\"model_name\"].append(model_name)\n",
        "        logger[\"model_uid\"].append(chiper_id)\n",
        "        logger[\"training_time\"].append(elapsed_time)\n",
        "        logger[\"training_date\"].append(str(start_time))\n",
        "        logger[\"performance\"].append(performance)\n",
        "        logger[\"f1_score_avg\"].append(performance[\"macro avg\"][\"f1-score\"])\n",
        "        logger[\"data_configurations\"].append(data_configuration_name)\n",
        "\n",
        "    training_log = training_log_updater(logger, log_path)\n",
        "\n",
        "    return training_log, list_of_model"
      ],
      "metadata": {
        "id": "baeg_Tn6wFrJ"
      },
      "execution_count": 8,
      "outputs": []
    },
    {
      "cell_type": "markdown",
      "source": [
        "#### 2.2.1. Baseline Model Undersampling"
      ],
      "metadata": {
        "id": "d4FW9TRLwi_9"
      }
    },
    {
      "cell_type": "code",
      "source": [
        "training_log, list_of_model_rus = train_eval_model(\n",
        "    list_of_model[\"undersampling\"],\n",
        "    \"baseline_model\",\n",
        "    x_rus,\n",
        "    y_rus,\n",
        "    \"undersampling\",\n",
        "    x_valid,\n",
        "    y_valid,\n",
        "    \"/log/training_log.json\"\n",
        ")"
      ],
      "metadata": {
        "colab": {
          "base_uri": "https://localhost:8080/"
        },
        "id": "fCZ3ZgeEwjIQ",
        "outputId": "26159bcd-75cd-4ecc-ecc4-20dc86de7c48"
      },
      "execution_count": 9,
      "outputs": [
        {
          "output_type": "stream",
          "name": "stderr",
          "text": [
            "\r  0%|          | 0/6 [00:00<?, ?it/s]/usr/local/lib/python3.10/dist-packages/sklearn/linear_model/_logistic.py:458: ConvergenceWarning: lbfgs failed to converge (status=1):\n",
            "STOP: TOTAL NO. of ITERATIONS REACHED LIMIT.\n",
            "\n",
            "Increase the number of iterations (max_iter) or scale the data as shown in:\n",
            "    https://scikit-learn.org/stable/modules/preprocessing.html\n",
            "Please also refer to the documentation for alternative solver options:\n",
            "    https://scikit-learn.org/stable/modules/linear_model.html#logistic-regression\n",
            "  n_iter_i = _check_optimize_result(\n",
            "100%|██████████| 6/6 [00:00<00:00, 16.48it/s]\n"
          ]
        }
      ]
    },
    {
      "cell_type": "code",
      "source": [
        "list_of_model[\"undersampling\"] = copy.deepcopy(list_of_model_rus)"
      ],
      "metadata": {
        "id": "AQ_f28F_wmgk"
      },
      "execution_count": 10,
      "outputs": []
    },
    {
      "cell_type": "markdown",
      "source": [
        "#### 2.2.2. Baseline Model Oversampling"
      ],
      "metadata": {
        "id": "oGs3HgO1xF8k"
      }
    },
    {
      "cell_type": "code",
      "source": [
        "training_log, list_of_model_ros = train_eval_model(\n",
        "    list_of_model[\"oversampling\"],\n",
        "    \"baseline_model\",\n",
        "    x_rus,\n",
        "    y_rus,\n",
        "    \"oversampling\",\n",
        "    x_valid,\n",
        "    y_valid,\n",
        "    \"/log/training_log.json\"\n",
        ")"
      ],
      "metadata": {
        "colab": {
          "base_uri": "https://localhost:8080/"
        },
        "id": "DiqZCRcpxELH",
        "outputId": "1ea7500c-54e2-4cb7-eed1-60408d645065"
      },
      "execution_count": 11,
      "outputs": [
        {
          "output_type": "stream",
          "name": "stderr",
          "text": [
            "\r  0%|          | 0/6 [00:00<?, ?it/s]/usr/local/lib/python3.10/dist-packages/sklearn/linear_model/_logistic.py:458: ConvergenceWarning: lbfgs failed to converge (status=1):\n",
            "STOP: TOTAL NO. of ITERATIONS REACHED LIMIT.\n",
            "\n",
            "Increase the number of iterations (max_iter) or scale the data as shown in:\n",
            "    https://scikit-learn.org/stable/modules/preprocessing.html\n",
            "Please also refer to the documentation for alternative solver options:\n",
            "    https://scikit-learn.org/stable/modules/linear_model.html#logistic-regression\n",
            "  n_iter_i = _check_optimize_result(\n",
            "100%|██████████| 6/6 [00:00<00:00, 18.32it/s]\n"
          ]
        }
      ]
    },
    {
      "cell_type": "code",
      "source": [
        "list_of_model[\"oversampling\"] = copy.deepcopy(list_of_model_ros)"
      ],
      "metadata": {
        "id": "U2OhWXmHxHS9"
      },
      "execution_count": 12,
      "outputs": []
    },
    {
      "cell_type": "markdown",
      "source": [
        "#### 2.2.3. Baseline Model SMOTE"
      ],
      "metadata": {
        "id": "sUJvX8z8xLr0"
      }
    },
    {
      "cell_type": "code",
      "source": [
        "training_log, list_of_model_sm = train_eval_model(\n",
        "    list_of_model[\"smote\"],\n",
        "    \"baseline_model\",\n",
        "    x_rus,\n",
        "    y_rus,\n",
        "    \"smote\",\n",
        "    x_valid,\n",
        "    y_valid,\n",
        "    \"/log/training_log.json\"\n",
        ")"
      ],
      "metadata": {
        "colab": {
          "base_uri": "https://localhost:8080/"
        },
        "id": "ONVrkdNKxKbS",
        "outputId": "61e134c7-c164-4a53-c1dd-02a0cb1f15ac"
      },
      "execution_count": 13,
      "outputs": [
        {
          "output_type": "stream",
          "name": "stderr",
          "text": [
            "\r  0%|          | 0/6 [00:00<?, ?it/s]/usr/local/lib/python3.10/dist-packages/sklearn/linear_model/_logistic.py:458: ConvergenceWarning: lbfgs failed to converge (status=1):\n",
            "STOP: TOTAL NO. of ITERATIONS REACHED LIMIT.\n",
            "\n",
            "Increase the number of iterations (max_iter) or scale the data as shown in:\n",
            "    https://scikit-learn.org/stable/modules/preprocessing.html\n",
            "Please also refer to the documentation for alternative solver options:\n",
            "    https://scikit-learn.org/stable/modules/linear_model.html#logistic-regression\n",
            "  n_iter_i = _check_optimize_result(\n",
            "100%|██████████| 6/6 [00:00<00:00, 18.46it/s]\n"
          ]
        }
      ]
    },
    {
      "cell_type": "code",
      "source": [
        "list_of_model[\"smote\"] = copy.deepcopy(list_of_model_sm)"
      ],
      "metadata": {
        "id": "KKcGp96jxM_p"
      },
      "execution_count": 14,
      "outputs": []
    },
    {
      "cell_type": "markdown",
      "source": [
        "#### 2.3.4. Best Performance"
      ],
      "metadata": {
        "id": "1ETBdr5ZxQCE"
      }
    },
    {
      "cell_type": "code",
      "source": [
        "def training_log_to_df(training_log):\n",
        "    training_res = pd.DataFrame()\n",
        "\n",
        "    for log in tqdm(training_log):\n",
        "        training_res = pd.concat([training_res, pd.DataFrame(log)])\n",
        "\n",
        "    training_res.sort_values([\"f1_score_avg\", \"training_time\"], ascending = [False, True], inplace = True)\n",
        "    training_res.reset_index(inplace = True, drop = True)\n",
        "\n",
        "    return training_res"
      ],
      "metadata": {
        "id": "qJhO64BjxOho"
      },
      "execution_count": 15,
      "outputs": []
    },
    {
      "cell_type": "code",
      "source": [
        "training_res = training_log_to_df(training_log)"
      ],
      "metadata": {
        "colab": {
          "base_uri": "https://localhost:8080/"
        },
        "id": "R8gmOLJ4xRfg",
        "outputId": "d7c389d5-c1f1-4e8f-b82d-415b890ef8b4"
      },
      "execution_count": 16,
      "outputs": [
        {
          "output_type": "stream",
          "name": "stderr",
          "text": [
            "100%|██████████| 3/3 [00:00<00:00, 289.57it/s]\n"
          ]
        }
      ]
    },
    {
      "cell_type": "code",
      "source": [
        "training_res"
      ],
      "metadata": {
        "colab": {
          "base_uri": "https://localhost:8080/",
          "height": 1000
        },
        "id": "iCSsIabwxSU7",
        "outputId": "5efe83ea-771b-40f7-fe49-20e119097b5c"
      },
      "execution_count": 17,
      "outputs": [
        {
          "output_type": "execute_result",
          "data": {
            "text/plain": [
              "                               model_name                         model_uid  \\\n",
              "0   baseline_model-DecisionTreeClassifier  a9d9106a560f0a9d8ec6b74ab267c50e   \n",
              "1   baseline_model-DecisionTreeClassifier  92050687b25e8c8d1b560d9af8bd0aef   \n",
              "2   baseline_model-DecisionTreeClassifier  6c70d2f41f558321a326a66bee7d9d58   \n",
              "3            baseline_model-XGBClassifier  99ee3076455a8ca6d12d829ee19b79ac   \n",
              "4            baseline_model-XGBClassifier  596b651c13db459cfe7599e3d194214d   \n",
              "5            baseline_model-XGBClassifier  ab157fa70218ada5d8da51f65a0dec4c   \n",
              "6   baseline_model-RandomForestClassifier  f699aea8988685c15e00961f82524c90   \n",
              "7   baseline_model-RandomForestClassifier  3ced878fd9551a32ec2937adc5bceb85   \n",
              "8   baseline_model-RandomForestClassifier  23aec1c4dd83bffa29871bbe4afc060b   \n",
              "9     baseline_model-KNeighborsClassifier  0759e174462869c84ea8139c2b023f33   \n",
              "10    baseline_model-KNeighborsClassifier  bb356bd8613bb275cbe696d62be9a40f   \n",
              "11    baseline_model-KNeighborsClassifier  50f8dedd9bde799fe74bbfacc33f14e5   \n",
              "12                     baseline_model-SVC  6b58f1527a73f3af5446e8a83467c147   \n",
              "13                     baseline_model-SVC  9e0159918777755163af538cb46e2b61   \n",
              "14                     baseline_model-SVC  a48f57cf586dbb06fbe8b1f716175e80   \n",
              "15      baseline_model-LogisticRegression  2109e17bd02a7e587498715096915815   \n",
              "16      baseline_model-LogisticRegression  38372dd92783fca592f6fd5bf171f9d3   \n",
              "17      baseline_model-LogisticRegression  a5bd95af4f56bd86d73f7f2cc79bf9d1   \n",
              "\n",
              "    training_time               training_date  \\\n",
              "0        0.002345  2023-07-09 09:21:52.944223   \n",
              "1        0.002760  2023-07-09 09:21:51.571088   \n",
              "2        0.003914  2023-07-09 09:21:48.536433   \n",
              "3        0.031430  2023-07-09 09:21:53.181775   \n",
              "4        0.035148  2023-07-09 09:21:51.795417   \n",
              "5        0.039948  2023-07-09 09:21:48.791811   \n",
              "6        0.180451  2023-07-09 09:21:52.957636   \n",
              "7        0.191106  2023-07-09 09:21:48.549186   \n",
              "8        0.174190  2023-07-09 09:21:51.580589   \n",
              "9        0.003471  2023-07-09 09:21:51.776756   \n",
              "10       0.004959  2023-07-09 09:21:48.764387   \n",
              "11       0.005927  2023-07-09 09:21:53.159787   \n",
              "12       0.005088  2023-07-09 09:21:51.839992   \n",
              "13       0.005102  2023-07-09 09:21:53.223531   \n",
              "14       0.005936  2023-07-09 09:21:48.842536   \n",
              "15       0.024279  2023-07-09 09:21:52.912868   \n",
              "16       0.026592  2023-07-09 09:21:48.496372   \n",
              "17       0.033263  2023-07-09 09:21:51.528970   \n",
              "\n",
              "                                          performance  f1_score_avg  \\\n",
              "0   {'0': {'precision': 1.0, 'recall': 1.0, 'f1-sc...      1.000000   \n",
              "1   {'0': {'precision': 1.0, 'recall': 1.0, 'f1-sc...      1.000000   \n",
              "2   {'0': {'precision': 1.0, 'recall': 1.0, 'f1-sc...      1.000000   \n",
              "3   {'0': {'precision': 0.9956709956709957, 'recal...      0.992743   \n",
              "4   {'0': {'precision': 0.9956709956709957, 'recal...      0.992743   \n",
              "5   {'0': {'precision': 0.9956709956709957, 'recal...      0.992743   \n",
              "6   {'0': {'precision': 0.9956709956709957, 'recal...      0.992743   \n",
              "7   {'0': {'precision': 0.9956709956709957, 'recal...      0.992743   \n",
              "8   {'0': {'precision': 0.9956521739130435, 'recal...      0.985631   \n",
              "9   {'0': {'precision': 0.9953917050691244, 'recal...      0.904274   \n",
              "10  {'0': {'precision': 0.9953917050691244, 'recal...      0.904274   \n",
              "11  {'0': {'precision': 0.9953917050691244, 'recal...      0.904274   \n",
              "12  {'0': {'precision': 1.0, 'recall': 0.926086956...      0.894954   \n",
              "13  {'0': {'precision': 1.0, 'recall': 0.926086956...      0.894954   \n",
              "14  {'0': {'precision': 1.0, 'recall': 0.926086956...      0.894954   \n",
              "15  {'0': {'precision': 0.995260663507109, 'recall...      0.872230   \n",
              "16  {'0': {'precision': 0.995260663507109, 'recall...      0.872230   \n",
              "17  {'0': {'precision': 0.995260663507109, 'recall...      0.872230   \n",
              "\n",
              "   data_configurations  \n",
              "0                smote  \n",
              "1         oversampling  \n",
              "2        undersampling  \n",
              "3                smote  \n",
              "4         oversampling  \n",
              "5        undersampling  \n",
              "6                smote  \n",
              "7        undersampling  \n",
              "8         oversampling  \n",
              "9         oversampling  \n",
              "10       undersampling  \n",
              "11               smote  \n",
              "12        oversampling  \n",
              "13               smote  \n",
              "14       undersampling  \n",
              "15               smote  \n",
              "16       undersampling  \n",
              "17        oversampling  "
            ],
            "text/html": [
              "\n",
              "  <div id=\"df-f967b162-e501-4557-a4c3-9bdeff8ea5d3\">\n",
              "    <div class=\"colab-df-container\">\n",
              "      <div>\n",
              "<style scoped>\n",
              "    .dataframe tbody tr th:only-of-type {\n",
              "        vertical-align: middle;\n",
              "    }\n",
              "\n",
              "    .dataframe tbody tr th {\n",
              "        vertical-align: top;\n",
              "    }\n",
              "\n",
              "    .dataframe thead th {\n",
              "        text-align: right;\n",
              "    }\n",
              "</style>\n",
              "<table border=\"1\" class=\"dataframe\">\n",
              "  <thead>\n",
              "    <tr style=\"text-align: right;\">\n",
              "      <th></th>\n",
              "      <th>model_name</th>\n",
              "      <th>model_uid</th>\n",
              "      <th>training_time</th>\n",
              "      <th>training_date</th>\n",
              "      <th>performance</th>\n",
              "      <th>f1_score_avg</th>\n",
              "      <th>data_configurations</th>\n",
              "    </tr>\n",
              "  </thead>\n",
              "  <tbody>\n",
              "    <tr>\n",
              "      <th>0</th>\n",
              "      <td>baseline_model-DecisionTreeClassifier</td>\n",
              "      <td>a9d9106a560f0a9d8ec6b74ab267c50e</td>\n",
              "      <td>0.002345</td>\n",
              "      <td>2023-07-09 09:21:52.944223</td>\n",
              "      <td>{'0': {'precision': 1.0, 'recall': 1.0, 'f1-sc...</td>\n",
              "      <td>1.000000</td>\n",
              "      <td>smote</td>\n",
              "    </tr>\n",
              "    <tr>\n",
              "      <th>1</th>\n",
              "      <td>baseline_model-DecisionTreeClassifier</td>\n",
              "      <td>92050687b25e8c8d1b560d9af8bd0aef</td>\n",
              "      <td>0.002760</td>\n",
              "      <td>2023-07-09 09:21:51.571088</td>\n",
              "      <td>{'0': {'precision': 1.0, 'recall': 1.0, 'f1-sc...</td>\n",
              "      <td>1.000000</td>\n",
              "      <td>oversampling</td>\n",
              "    </tr>\n",
              "    <tr>\n",
              "      <th>2</th>\n",
              "      <td>baseline_model-DecisionTreeClassifier</td>\n",
              "      <td>6c70d2f41f558321a326a66bee7d9d58</td>\n",
              "      <td>0.003914</td>\n",
              "      <td>2023-07-09 09:21:48.536433</td>\n",
              "      <td>{'0': {'precision': 1.0, 'recall': 1.0, 'f1-sc...</td>\n",
              "      <td>1.000000</td>\n",
              "      <td>undersampling</td>\n",
              "    </tr>\n",
              "    <tr>\n",
              "      <th>3</th>\n",
              "      <td>baseline_model-XGBClassifier</td>\n",
              "      <td>99ee3076455a8ca6d12d829ee19b79ac</td>\n",
              "      <td>0.031430</td>\n",
              "      <td>2023-07-09 09:21:53.181775</td>\n",
              "      <td>{'0': {'precision': 0.9956709956709957, 'recal...</td>\n",
              "      <td>0.992743</td>\n",
              "      <td>smote</td>\n",
              "    </tr>\n",
              "    <tr>\n",
              "      <th>4</th>\n",
              "      <td>baseline_model-XGBClassifier</td>\n",
              "      <td>596b651c13db459cfe7599e3d194214d</td>\n",
              "      <td>0.035148</td>\n",
              "      <td>2023-07-09 09:21:51.795417</td>\n",
              "      <td>{'0': {'precision': 0.9956709956709957, 'recal...</td>\n",
              "      <td>0.992743</td>\n",
              "      <td>oversampling</td>\n",
              "    </tr>\n",
              "    <tr>\n",
              "      <th>5</th>\n",
              "      <td>baseline_model-XGBClassifier</td>\n",
              "      <td>ab157fa70218ada5d8da51f65a0dec4c</td>\n",
              "      <td>0.039948</td>\n",
              "      <td>2023-07-09 09:21:48.791811</td>\n",
              "      <td>{'0': {'precision': 0.9956709956709957, 'recal...</td>\n",
              "      <td>0.992743</td>\n",
              "      <td>undersampling</td>\n",
              "    </tr>\n",
              "    <tr>\n",
              "      <th>6</th>\n",
              "      <td>baseline_model-RandomForestClassifier</td>\n",
              "      <td>f699aea8988685c15e00961f82524c90</td>\n",
              "      <td>0.180451</td>\n",
              "      <td>2023-07-09 09:21:52.957636</td>\n",
              "      <td>{'0': {'precision': 0.9956709956709957, 'recal...</td>\n",
              "      <td>0.992743</td>\n",
              "      <td>smote</td>\n",
              "    </tr>\n",
              "    <tr>\n",
              "      <th>7</th>\n",
              "      <td>baseline_model-RandomForestClassifier</td>\n",
              "      <td>3ced878fd9551a32ec2937adc5bceb85</td>\n",
              "      <td>0.191106</td>\n",
              "      <td>2023-07-09 09:21:48.549186</td>\n",
              "      <td>{'0': {'precision': 0.9956709956709957, 'recal...</td>\n",
              "      <td>0.992743</td>\n",
              "      <td>undersampling</td>\n",
              "    </tr>\n",
              "    <tr>\n",
              "      <th>8</th>\n",
              "      <td>baseline_model-RandomForestClassifier</td>\n",
              "      <td>23aec1c4dd83bffa29871bbe4afc060b</td>\n",
              "      <td>0.174190</td>\n",
              "      <td>2023-07-09 09:21:51.580589</td>\n",
              "      <td>{'0': {'precision': 0.9956521739130435, 'recal...</td>\n",
              "      <td>0.985631</td>\n",
              "      <td>oversampling</td>\n",
              "    </tr>\n",
              "    <tr>\n",
              "      <th>9</th>\n",
              "      <td>baseline_model-KNeighborsClassifier</td>\n",
              "      <td>0759e174462869c84ea8139c2b023f33</td>\n",
              "      <td>0.003471</td>\n",
              "      <td>2023-07-09 09:21:51.776756</td>\n",
              "      <td>{'0': {'precision': 0.9953917050691244, 'recal...</td>\n",
              "      <td>0.904274</td>\n",
              "      <td>oversampling</td>\n",
              "    </tr>\n",
              "    <tr>\n",
              "      <th>10</th>\n",
              "      <td>baseline_model-KNeighborsClassifier</td>\n",
              "      <td>bb356bd8613bb275cbe696d62be9a40f</td>\n",
              "      <td>0.004959</td>\n",
              "      <td>2023-07-09 09:21:48.764387</td>\n",
              "      <td>{'0': {'precision': 0.9953917050691244, 'recal...</td>\n",
              "      <td>0.904274</td>\n",
              "      <td>undersampling</td>\n",
              "    </tr>\n",
              "    <tr>\n",
              "      <th>11</th>\n",
              "      <td>baseline_model-KNeighborsClassifier</td>\n",
              "      <td>50f8dedd9bde799fe74bbfacc33f14e5</td>\n",
              "      <td>0.005927</td>\n",
              "      <td>2023-07-09 09:21:53.159787</td>\n",
              "      <td>{'0': {'precision': 0.9953917050691244, 'recal...</td>\n",
              "      <td>0.904274</td>\n",
              "      <td>smote</td>\n",
              "    </tr>\n",
              "    <tr>\n",
              "      <th>12</th>\n",
              "      <td>baseline_model-SVC</td>\n",
              "      <td>6b58f1527a73f3af5446e8a83467c147</td>\n",
              "      <td>0.005088</td>\n",
              "      <td>2023-07-09 09:21:51.839992</td>\n",
              "      <td>{'0': {'precision': 1.0, 'recall': 0.926086956...</td>\n",
              "      <td>0.894954</td>\n",
              "      <td>oversampling</td>\n",
              "    </tr>\n",
              "    <tr>\n",
              "      <th>13</th>\n",
              "      <td>baseline_model-SVC</td>\n",
              "      <td>9e0159918777755163af538cb46e2b61</td>\n",
              "      <td>0.005102</td>\n",
              "      <td>2023-07-09 09:21:53.223531</td>\n",
              "      <td>{'0': {'precision': 1.0, 'recall': 0.926086956...</td>\n",
              "      <td>0.894954</td>\n",
              "      <td>smote</td>\n",
              "    </tr>\n",
              "    <tr>\n",
              "      <th>14</th>\n",
              "      <td>baseline_model-SVC</td>\n",
              "      <td>a48f57cf586dbb06fbe8b1f716175e80</td>\n",
              "      <td>0.005936</td>\n",
              "      <td>2023-07-09 09:21:48.842536</td>\n",
              "      <td>{'0': {'precision': 1.0, 'recall': 0.926086956...</td>\n",
              "      <td>0.894954</td>\n",
              "      <td>undersampling</td>\n",
              "    </tr>\n",
              "    <tr>\n",
              "      <th>15</th>\n",
              "      <td>baseline_model-LogisticRegression</td>\n",
              "      <td>2109e17bd02a7e587498715096915815</td>\n",
              "      <td>0.024279</td>\n",
              "      <td>2023-07-09 09:21:52.912868</td>\n",
              "      <td>{'0': {'precision': 0.995260663507109, 'recall...</td>\n",
              "      <td>0.872230</td>\n",
              "      <td>smote</td>\n",
              "    </tr>\n",
              "    <tr>\n",
              "      <th>16</th>\n",
              "      <td>baseline_model-LogisticRegression</td>\n",
              "      <td>38372dd92783fca592f6fd5bf171f9d3</td>\n",
              "      <td>0.026592</td>\n",
              "      <td>2023-07-09 09:21:48.496372</td>\n",
              "      <td>{'0': {'precision': 0.995260663507109, 'recall...</td>\n",
              "      <td>0.872230</td>\n",
              "      <td>undersampling</td>\n",
              "    </tr>\n",
              "    <tr>\n",
              "      <th>17</th>\n",
              "      <td>baseline_model-LogisticRegression</td>\n",
              "      <td>a5bd95af4f56bd86d73f7f2cc79bf9d1</td>\n",
              "      <td>0.033263</td>\n",
              "      <td>2023-07-09 09:21:51.528970</td>\n",
              "      <td>{'0': {'precision': 0.995260663507109, 'recall...</td>\n",
              "      <td>0.872230</td>\n",
              "      <td>oversampling</td>\n",
              "    </tr>\n",
              "  </tbody>\n",
              "</table>\n",
              "</div>\n",
              "      <button class=\"colab-df-convert\" onclick=\"convertToInteractive('df-f967b162-e501-4557-a4c3-9bdeff8ea5d3')\"\n",
              "              title=\"Convert this dataframe to an interactive table.\"\n",
              "              style=\"display:none;\">\n",
              "        \n",
              "  <svg xmlns=\"http://www.w3.org/2000/svg\" height=\"24px\"viewBox=\"0 0 24 24\"\n",
              "       width=\"24px\">\n",
              "    <path d=\"M0 0h24v24H0V0z\" fill=\"none\"/>\n",
              "    <path d=\"M18.56 5.44l.94 2.06.94-2.06 2.06-.94-2.06-.94-.94-2.06-.94 2.06-2.06.94zm-11 1L8.5 8.5l.94-2.06 2.06-.94-2.06-.94L8.5 2.5l-.94 2.06-2.06.94zm10 10l.94 2.06.94-2.06 2.06-.94-2.06-.94-.94-2.06-.94 2.06-2.06.94z\"/><path d=\"M17.41 7.96l-1.37-1.37c-.4-.4-.92-.59-1.43-.59-.52 0-1.04.2-1.43.59L10.3 9.45l-7.72 7.72c-.78.78-.78 2.05 0 2.83L4 21.41c.39.39.9.59 1.41.59.51 0 1.02-.2 1.41-.59l7.78-7.78 2.81-2.81c.8-.78.8-2.07 0-2.86zM5.41 20L4 18.59l7.72-7.72 1.47 1.35L5.41 20z\"/>\n",
              "  </svg>\n",
              "      </button>\n",
              "      \n",
              "  <style>\n",
              "    .colab-df-container {\n",
              "      display:flex;\n",
              "      flex-wrap:wrap;\n",
              "      gap: 12px;\n",
              "    }\n",
              "\n",
              "    .colab-df-convert {\n",
              "      background-color: #E8F0FE;\n",
              "      border: none;\n",
              "      border-radius: 50%;\n",
              "      cursor: pointer;\n",
              "      display: none;\n",
              "      fill: #1967D2;\n",
              "      height: 32px;\n",
              "      padding: 0 0 0 0;\n",
              "      width: 32px;\n",
              "    }\n",
              "\n",
              "    .colab-df-convert:hover {\n",
              "      background-color: #E2EBFA;\n",
              "      box-shadow: 0px 1px 2px rgba(60, 64, 67, 0.3), 0px 1px 3px 1px rgba(60, 64, 67, 0.15);\n",
              "      fill: #174EA6;\n",
              "    }\n",
              "\n",
              "    [theme=dark] .colab-df-convert {\n",
              "      background-color: #3B4455;\n",
              "      fill: #D2E3FC;\n",
              "    }\n",
              "\n",
              "    [theme=dark] .colab-df-convert:hover {\n",
              "      background-color: #434B5C;\n",
              "      box-shadow: 0px 1px 3px 1px rgba(0, 0, 0, 0.15);\n",
              "      filter: drop-shadow(0px 1px 2px rgba(0, 0, 0, 0.3));\n",
              "      fill: #FFFFFF;\n",
              "    }\n",
              "  </style>\n",
              "\n",
              "      <script>\n",
              "        const buttonEl =\n",
              "          document.querySelector('#df-f967b162-e501-4557-a4c3-9bdeff8ea5d3 button.colab-df-convert');\n",
              "        buttonEl.style.display =\n",
              "          google.colab.kernel.accessAllowed ? 'block' : 'none';\n",
              "\n",
              "        async function convertToInteractive(key) {\n",
              "          const element = document.querySelector('#df-f967b162-e501-4557-a4c3-9bdeff8ea5d3');\n",
              "          const dataTable =\n",
              "            await google.colab.kernel.invokeFunction('convertToInteractive',\n",
              "                                                     [key], {});\n",
              "          if (!dataTable) return;\n",
              "\n",
              "          const docLinkHtml = 'Like what you see? Visit the ' +\n",
              "            '<a target=\"_blank\" href=https://colab.research.google.com/notebooks/data_table.ipynb>data table notebook</a>'\n",
              "            + ' to learn more about interactive tables.';\n",
              "          element.innerHTML = '';\n",
              "          dataTable['output_type'] = 'display_data';\n",
              "          await google.colab.output.renderOutput(dataTable, element);\n",
              "          const docLink = document.createElement('div');\n",
              "          docLink.innerHTML = docLinkHtml;\n",
              "          element.appendChild(docLink);\n",
              "        }\n",
              "      </script>\n",
              "    </div>\n",
              "  </div>\n",
              "  "
            ]
          },
          "metadata": {},
          "execution_count": 17
        }
      ]
    },
    {
      "cell_type": "code",
      "source": [
        "def get_best_model(training_log_df, list_of_model):\n",
        "    model_object = None\n",
        "\n",
        "    best_model_info = training_log_df.sort_values([\"f1_score_avg\", \"training_time\"], ascending = [False, True]).iloc[0]\n",
        "\n",
        "    for configuration_data in list_of_model:\n",
        "        for model_data in list_of_model[configuration_data]:\n",
        "            if model_data[\"model_uid\"] == best_model_info[\"model_uid\"]:\n",
        "                model_object = model_data[\"model_object\"]\n",
        "                break\n",
        "\n",
        "    if model_object == None:\n",
        "        raise RuntimeError(\"The best model not found in your list of model.\")\n",
        "\n",
        "    return model_object\n",
        ""
      ],
      "metadata": {
        "id": "5nFKCTR4xTea"
      },
      "execution_count": 18,
      "outputs": []
    },
    {
      "cell_type": "code",
      "source": [
        "model = get_best_model(training_res, list_of_model)"
      ],
      "metadata": {
        "id": "BOdTZYNjxhHP"
      },
      "execution_count": 19,
      "outputs": []
    },
    {
      "cell_type": "code",
      "source": [
        "model"
      ],
      "metadata": {
        "colab": {
          "base_uri": "https://localhost:8080/",
          "height": 74
        },
        "id": "C9GQGuR8xh8k",
        "outputId": "60f87eba-8277-4436-d2fe-6b9059f0bd5b"
      },
      "execution_count": 20,
      "outputs": [
        {
          "output_type": "execute_result",
          "data": {
            "text/plain": [
              "DecisionTreeClassifier()"
            ],
            "text/html": [
              "<style>#sk-container-id-1 {color: black;background-color: white;}#sk-container-id-1 pre{padding: 0;}#sk-container-id-1 div.sk-toggleable {background-color: white;}#sk-container-id-1 label.sk-toggleable__label {cursor: pointer;display: block;width: 100%;margin-bottom: 0;padding: 0.3em;box-sizing: border-box;text-align: center;}#sk-container-id-1 label.sk-toggleable__label-arrow:before {content: \"▸\";float: left;margin-right: 0.25em;color: #696969;}#sk-container-id-1 label.sk-toggleable__label-arrow:hover:before {color: black;}#sk-container-id-1 div.sk-estimator:hover label.sk-toggleable__label-arrow:before {color: black;}#sk-container-id-1 div.sk-toggleable__content {max-height: 0;max-width: 0;overflow: hidden;text-align: left;background-color: #f0f8ff;}#sk-container-id-1 div.sk-toggleable__content pre {margin: 0.2em;color: black;border-radius: 0.25em;background-color: #f0f8ff;}#sk-container-id-1 input.sk-toggleable__control:checked~div.sk-toggleable__content {max-height: 200px;max-width: 100%;overflow: auto;}#sk-container-id-1 input.sk-toggleable__control:checked~label.sk-toggleable__label-arrow:before {content: \"▾\";}#sk-container-id-1 div.sk-estimator input.sk-toggleable__control:checked~label.sk-toggleable__label {background-color: #d4ebff;}#sk-container-id-1 div.sk-label input.sk-toggleable__control:checked~label.sk-toggleable__label {background-color: #d4ebff;}#sk-container-id-1 input.sk-hidden--visually {border: 0;clip: rect(1px 1px 1px 1px);clip: rect(1px, 1px, 1px, 1px);height: 1px;margin: -1px;overflow: hidden;padding: 0;position: absolute;width: 1px;}#sk-container-id-1 div.sk-estimator {font-family: monospace;background-color: #f0f8ff;border: 1px dotted black;border-radius: 0.25em;box-sizing: border-box;margin-bottom: 0.5em;}#sk-container-id-1 div.sk-estimator:hover {background-color: #d4ebff;}#sk-container-id-1 div.sk-parallel-item::after {content: \"\";width: 100%;border-bottom: 1px solid gray;flex-grow: 1;}#sk-container-id-1 div.sk-label:hover label.sk-toggleable__label {background-color: #d4ebff;}#sk-container-id-1 div.sk-serial::before {content: \"\";position: absolute;border-left: 1px solid gray;box-sizing: border-box;top: 0;bottom: 0;left: 50%;z-index: 0;}#sk-container-id-1 div.sk-serial {display: flex;flex-direction: column;align-items: center;background-color: white;padding-right: 0.2em;padding-left: 0.2em;position: relative;}#sk-container-id-1 div.sk-item {position: relative;z-index: 1;}#sk-container-id-1 div.sk-parallel {display: flex;align-items: stretch;justify-content: center;background-color: white;position: relative;}#sk-container-id-1 div.sk-item::before, #sk-container-id-1 div.sk-parallel-item::before {content: \"\";position: absolute;border-left: 1px solid gray;box-sizing: border-box;top: 0;bottom: 0;left: 50%;z-index: -1;}#sk-container-id-1 div.sk-parallel-item {display: flex;flex-direction: column;z-index: 1;position: relative;background-color: white;}#sk-container-id-1 div.sk-parallel-item:first-child::after {align-self: flex-end;width: 50%;}#sk-container-id-1 div.sk-parallel-item:last-child::after {align-self: flex-start;width: 50%;}#sk-container-id-1 div.sk-parallel-item:only-child::after {width: 0;}#sk-container-id-1 div.sk-dashed-wrapped {border: 1px dashed gray;margin: 0 0.4em 0.5em 0.4em;box-sizing: border-box;padding-bottom: 0.4em;background-color: white;}#sk-container-id-1 div.sk-label label {font-family: monospace;font-weight: bold;display: inline-block;line-height: 1.2em;}#sk-container-id-1 div.sk-label-container {text-align: center;}#sk-container-id-1 div.sk-container {/* jupyter's `normalize.less` sets `[hidden] { display: none; }` but bootstrap.min.css set `[hidden] { display: none !important; }` so we also need the `!important` here to be able to override the default hidden behavior on the sphinx rendered scikit-learn.org. See: https://github.com/scikit-learn/scikit-learn/issues/21755 */display: inline-block !important;position: relative;}#sk-container-id-1 div.sk-text-repr-fallback {display: none;}</style><div id=\"sk-container-id-1\" class=\"sk-top-container\"><div class=\"sk-text-repr-fallback\"><pre>DecisionTreeClassifier()</pre><b>In a Jupyter environment, please rerun this cell to show the HTML representation or trust the notebook. <br />On GitHub, the HTML representation is unable to render, please try loading this page with nbviewer.org.</b></div><div class=\"sk-container\" hidden><div class=\"sk-item\"><div class=\"sk-estimator sk-toggleable\"><input class=\"sk-toggleable__control sk-hidden--visually\" id=\"sk-estimator-id-1\" type=\"checkbox\" checked><label for=\"sk-estimator-id-1\" class=\"sk-toggleable__label sk-toggleable__label-arrow\">DecisionTreeClassifier</label><div class=\"sk-toggleable__content\"><pre>DecisionTreeClassifier()</pre></div></div></div></div></div>"
            ]
          },
          "metadata": {},
          "execution_count": 20
        }
      ]
    },
    {
      "cell_type": "code",
      "source": [
        "joblib.dump(model, \"model.pkl\")"
      ],
      "metadata": {
        "colab": {
          "base_uri": "https://localhost:8080/"
        },
        "id": "4KmMW21Rxixf",
        "outputId": "5c7c0606-78d0-49a5-82de-6ed11b1c19c8"
      },
      "execution_count": 21,
      "outputs": [
        {
          "output_type": "execute_result",
          "data": {
            "text/plain": [
              "['model.pkl']"
            ]
          },
          "metadata": {},
          "execution_count": 21
        }
      ]
    },
    {
      "cell_type": "markdown",
      "source": [
        "#### 2.2.5. Hyperparameter Tuning"
      ],
      "metadata": {
        "id": "vUHHQZslxtxl"
      }
    },
    {
      "cell_type": "code",
      "source": [
        "# dist_params_xgb = {\n",
        "#     'n_estimators': [100, 200, 500],\n",
        "#     'learning_rate': [0.01,0.05,0.1],\n",
        "#     'booster': ['gbtree', 'gblinear'],\n",
        "#     'gamma': [0, 0.5, 1],\n",
        "#     'reg_alpha': [0, 0.5, 1],\n",
        "#     'reg_lambda': [0.5, 1, 5],\n",
        "#     'base_score': [0.2, 0.5, 1]\n",
        "# }\n",
        "\n",
        "dist_params_knn = {\n",
        "    \"algorithm\" : [\"ball_tree\", \"kd_tree\", \"brute\"],\n",
        "    \"n_neighbors\" : [2, 3, 4, 5, 6, 10, 15, 20, 25],\n",
        "    \"leaf_size\" : [2, 3, 4, 5, 6, 10, 15, 20, 25],\n",
        "}"
      ],
      "metadata": {
        "id": "PEq2XTmvxlQN"
      },
      "execution_count": 22,
      "outputs": []
    },
    {
      "cell_type": "code",
      "source": [
        "knn_enh = GridSearchCV(KNeighborsClassifier(), dist_params_knn, n_jobs = -1, verbose = 420)"
      ],
      "metadata": {
        "id": "mfLJ1_ftxx28"
      },
      "execution_count": 26,
      "outputs": []
    },
    {
      "cell_type": "code",
      "source": [
        "list_of_model[\"undersampling\"].append({\"model_name\": knn_enh.__class__.__name__ + \"-\" + knn_enh.estimator.__class__.__name__, \"model_object\": copy.deepcopy(knn_enh), \"model_uid\": \"\"})\n",
        "list_of_model[\"oversampling\"].append({\"model_name\": knn_enh.__class__.__name__ + \"-\" + knn_enh.estimator.__class__.__name__, \"model_object\": copy.deepcopy(knn_enh), \"model_uid\": \"\"})\n",
        "list_of_model[\"smote\"].append({\"model_name\": knn_enh.__class__.__name__ + \"-\" + knn_enh.estimator.__class__.__name__, \"model_object\": copy.deepcopy(knn_enh), \"model_uid\": \"\"})"
      ],
      "metadata": {
        "id": "CjqOXXThx1Zt"
      },
      "execution_count": 27,
      "outputs": []
    },
    {
      "cell_type": "code",
      "source": [
        "training_log, list_of_model_rus_hyp = train_eval_model(\n",
        "    [list_of_model[\"undersampling\"][-1]],\n",
        "    \"hyperparams\",\n",
        "    x_rus,\n",
        "    y_rus,\n",
        "    \"undersampling\",\n",
        "    x_valid,\n",
        "    y_valid,\n",
        "    \"/log/training_log.json\"\n",
        ")"
      ],
      "metadata": {
        "colab": {
          "base_uri": "https://localhost:8080/"
        },
        "id": "C42B67Vhx2_-",
        "outputId": "9e62f05c-e1e1-4623-932a-208dc0a65de7"
      },
      "execution_count": 28,
      "outputs": [
        {
          "output_type": "stream",
          "name": "stderr",
          "text": [
            "\r  0%|          | 0/1 [00:00<?, ?it/s]"
          ]
        },
        {
          "output_type": "stream",
          "name": "stdout",
          "text": [
            "Fitting 5 folds for each of 243 candidates, totalling 1215 fits\n"
          ]
        },
        {
          "output_type": "stream",
          "name": "stderr",
          "text": [
            "100%|██████████| 1/1 [00:11<00:00, 11.69s/it]\n"
          ]
        }
      ]
    },
    {
      "cell_type": "code",
      "source": [
        "list_of_model[\"undersampling\"][-1] = copy.deepcopy(list_of_model_rus_hyp[0])"
      ],
      "metadata": {
        "id": "m9L-lUqux4dv"
      },
      "execution_count": 29,
      "outputs": []
    },
    {
      "cell_type": "code",
      "source": [
        "list_of_model['undersampling'][-1]"
      ],
      "metadata": {
        "colab": {
          "base_uri": "https://localhost:8080/"
        },
        "id": "qeWv3VhQ2awM",
        "outputId": "d0377733-aab2-4609-bcfd-986c64a9939c"
      },
      "execution_count": 30,
      "outputs": [
        {
          "output_type": "execute_result",
          "data": {
            "text/plain": [
              "{'model_name': 'GridSearchCV-KNeighborsClassifier',\n",
              " 'model_object': GridSearchCV(estimator=KNeighborsClassifier(), n_jobs=-1,\n",
              "              param_grid={'algorithm': ['ball_tree', 'kd_tree', 'brute'],\n",
              "                          'leaf_size': [2, 3, 4, 5, 6, 10, 15, 20, 25],\n",
              "                          'n_neighbors': [2, 3, 4, 5, 6, 10, 15, 20, 25]},\n",
              "              verbose=420),\n",
              " 'model_uid': 'ba2f45ab4a3284b3c7415b5343098541'}"
            ]
          },
          "metadata": {},
          "execution_count": 30
        }
      ]
    },
    {
      "cell_type": "code",
      "source": [
        "training_log_to_df(training_log)"
      ],
      "metadata": {
        "colab": {
          "base_uri": "https://localhost:8080/",
          "height": 1000
        },
        "id": "DNpRTz5oy1wL",
        "outputId": "e853a917-6370-4075-ccb6-d60970cd0dc9"
      },
      "execution_count": 31,
      "outputs": [
        {
          "output_type": "stream",
          "name": "stderr",
          "text": [
            "100%|██████████| 4/4 [00:00<00:00, 232.63it/s]\n"
          ]
        },
        {
          "output_type": "execute_result",
          "data": {
            "text/plain": [
              "                                       model_name  \\\n",
              "0           baseline_model-DecisionTreeClassifier   \n",
              "1           baseline_model-DecisionTreeClassifier   \n",
              "2           baseline_model-DecisionTreeClassifier   \n",
              "3                    baseline_model-XGBClassifier   \n",
              "4                    baseline_model-XGBClassifier   \n",
              "5                    baseline_model-XGBClassifier   \n",
              "6           baseline_model-RandomForestClassifier   \n",
              "7           baseline_model-RandomForestClassifier   \n",
              "8           baseline_model-RandomForestClassifier   \n",
              "9   hyperparams-GridSearchCV-KNeighborsClassifier   \n",
              "10            baseline_model-KNeighborsClassifier   \n",
              "11            baseline_model-KNeighborsClassifier   \n",
              "12            baseline_model-KNeighborsClassifier   \n",
              "13                             baseline_model-SVC   \n",
              "14                             baseline_model-SVC   \n",
              "15                             baseline_model-SVC   \n",
              "16              baseline_model-LogisticRegression   \n",
              "17              baseline_model-LogisticRegression   \n",
              "18              baseline_model-LogisticRegression   \n",
              "\n",
              "                           model_uid  training_time  \\\n",
              "0   a9d9106a560f0a9d8ec6b74ab267c50e       0.002345   \n",
              "1   92050687b25e8c8d1b560d9af8bd0aef       0.002760   \n",
              "2   6c70d2f41f558321a326a66bee7d9d58       0.003914   \n",
              "3   99ee3076455a8ca6d12d829ee19b79ac       0.031430   \n",
              "4   596b651c13db459cfe7599e3d194214d       0.035148   \n",
              "5   ab157fa70218ada5d8da51f65a0dec4c       0.039948   \n",
              "6   f699aea8988685c15e00961f82524c90       0.180451   \n",
              "7   3ced878fd9551a32ec2937adc5bceb85       0.191106   \n",
              "8   23aec1c4dd83bffa29871bbe4afc060b       0.174190   \n",
              "9   ba2f45ab4a3284b3c7415b5343098541      11.671896   \n",
              "10  0759e174462869c84ea8139c2b023f33       0.003471   \n",
              "11  bb356bd8613bb275cbe696d62be9a40f       0.004959   \n",
              "12  50f8dedd9bde799fe74bbfacc33f14e5       0.005927   \n",
              "13  6b58f1527a73f3af5446e8a83467c147       0.005088   \n",
              "14  9e0159918777755163af538cb46e2b61       0.005102   \n",
              "15  a48f57cf586dbb06fbe8b1f716175e80       0.005936   \n",
              "16  2109e17bd02a7e587498715096915815       0.024279   \n",
              "17  38372dd92783fca592f6fd5bf171f9d3       0.026592   \n",
              "18  a5bd95af4f56bd86d73f7f2cc79bf9d1       0.033263   \n",
              "\n",
              "                 training_date  \\\n",
              "0   2023-07-09 09:21:52.944223   \n",
              "1   2023-07-09 09:21:51.571088   \n",
              "2   2023-07-09 09:21:48.536433   \n",
              "3   2023-07-09 09:21:53.181775   \n",
              "4   2023-07-09 09:21:51.795417   \n",
              "5   2023-07-09 09:21:48.791811   \n",
              "6   2023-07-09 09:21:52.957636   \n",
              "7   2023-07-09 09:21:48.549186   \n",
              "8   2023-07-09 09:21:51.580589   \n",
              "9   2023-07-09 09:22:54.978869   \n",
              "10  2023-07-09 09:21:51.776756   \n",
              "11  2023-07-09 09:21:48.764387   \n",
              "12  2023-07-09 09:21:53.159787   \n",
              "13  2023-07-09 09:21:51.839992   \n",
              "14  2023-07-09 09:21:53.223531   \n",
              "15  2023-07-09 09:21:48.842536   \n",
              "16  2023-07-09 09:21:52.912868   \n",
              "17  2023-07-09 09:21:48.496372   \n",
              "18  2023-07-09 09:21:51.528970   \n",
              "\n",
              "                                          performance  f1_score_avg  \\\n",
              "0   {'0': {'precision': 1.0, 'recall': 1.0, 'f1-sc...      1.000000   \n",
              "1   {'0': {'precision': 1.0, 'recall': 1.0, 'f1-sc...      1.000000   \n",
              "2   {'0': {'precision': 1.0, 'recall': 1.0, 'f1-sc...      1.000000   \n",
              "3   {'0': {'precision': 0.9956709956709957, 'recal...      0.992743   \n",
              "4   {'0': {'precision': 0.9956709956709957, 'recal...      0.992743   \n",
              "5   {'0': {'precision': 0.9956709956709957, 'recal...      0.992743   \n",
              "6   {'0': {'precision': 0.9956709956709957, 'recal...      0.992743   \n",
              "7   {'0': {'precision': 0.9956709956709957, 'recal...      0.992743   \n",
              "8   {'0': {'precision': 0.9956521739130435, 'recal...      0.985631   \n",
              "9   {'0': {'precision': 0.9954128440366973, 'recal...      0.909907   \n",
              "10  {'0': {'precision': 0.9953917050691244, 'recal...      0.904274   \n",
              "11  {'0': {'precision': 0.9953917050691244, 'recal...      0.904274   \n",
              "12  {'0': {'precision': 0.9953917050691244, 'recal...      0.904274   \n",
              "13  {'0': {'precision': 1.0, 'recall': 0.926086956...      0.894954   \n",
              "14  {'0': {'precision': 1.0, 'recall': 0.926086956...      0.894954   \n",
              "15  {'0': {'precision': 1.0, 'recall': 0.926086956...      0.894954   \n",
              "16  {'0': {'precision': 0.995260663507109, 'recall...      0.872230   \n",
              "17  {'0': {'precision': 0.995260663507109, 'recall...      0.872230   \n",
              "18  {'0': {'precision': 0.995260663507109, 'recall...      0.872230   \n",
              "\n",
              "   data_configurations  \n",
              "0                smote  \n",
              "1         oversampling  \n",
              "2        undersampling  \n",
              "3                smote  \n",
              "4         oversampling  \n",
              "5        undersampling  \n",
              "6                smote  \n",
              "7        undersampling  \n",
              "8         oversampling  \n",
              "9        undersampling  \n",
              "10        oversampling  \n",
              "11       undersampling  \n",
              "12               smote  \n",
              "13        oversampling  \n",
              "14               smote  \n",
              "15       undersampling  \n",
              "16               smote  \n",
              "17       undersampling  \n",
              "18        oversampling  "
            ],
            "text/html": [
              "\n",
              "  <div id=\"df-74bdaab4-d77f-4457-b369-1d61d6d31162\">\n",
              "    <div class=\"colab-df-container\">\n",
              "      <div>\n",
              "<style scoped>\n",
              "    .dataframe tbody tr th:only-of-type {\n",
              "        vertical-align: middle;\n",
              "    }\n",
              "\n",
              "    .dataframe tbody tr th {\n",
              "        vertical-align: top;\n",
              "    }\n",
              "\n",
              "    .dataframe thead th {\n",
              "        text-align: right;\n",
              "    }\n",
              "</style>\n",
              "<table border=\"1\" class=\"dataframe\">\n",
              "  <thead>\n",
              "    <tr style=\"text-align: right;\">\n",
              "      <th></th>\n",
              "      <th>model_name</th>\n",
              "      <th>model_uid</th>\n",
              "      <th>training_time</th>\n",
              "      <th>training_date</th>\n",
              "      <th>performance</th>\n",
              "      <th>f1_score_avg</th>\n",
              "      <th>data_configurations</th>\n",
              "    </tr>\n",
              "  </thead>\n",
              "  <tbody>\n",
              "    <tr>\n",
              "      <th>0</th>\n",
              "      <td>baseline_model-DecisionTreeClassifier</td>\n",
              "      <td>a9d9106a560f0a9d8ec6b74ab267c50e</td>\n",
              "      <td>0.002345</td>\n",
              "      <td>2023-07-09 09:21:52.944223</td>\n",
              "      <td>{'0': {'precision': 1.0, 'recall': 1.0, 'f1-sc...</td>\n",
              "      <td>1.000000</td>\n",
              "      <td>smote</td>\n",
              "    </tr>\n",
              "    <tr>\n",
              "      <th>1</th>\n",
              "      <td>baseline_model-DecisionTreeClassifier</td>\n",
              "      <td>92050687b25e8c8d1b560d9af8bd0aef</td>\n",
              "      <td>0.002760</td>\n",
              "      <td>2023-07-09 09:21:51.571088</td>\n",
              "      <td>{'0': {'precision': 1.0, 'recall': 1.0, 'f1-sc...</td>\n",
              "      <td>1.000000</td>\n",
              "      <td>oversampling</td>\n",
              "    </tr>\n",
              "    <tr>\n",
              "      <th>2</th>\n",
              "      <td>baseline_model-DecisionTreeClassifier</td>\n",
              "      <td>6c70d2f41f558321a326a66bee7d9d58</td>\n",
              "      <td>0.003914</td>\n",
              "      <td>2023-07-09 09:21:48.536433</td>\n",
              "      <td>{'0': {'precision': 1.0, 'recall': 1.0, 'f1-sc...</td>\n",
              "      <td>1.000000</td>\n",
              "      <td>undersampling</td>\n",
              "    </tr>\n",
              "    <tr>\n",
              "      <th>3</th>\n",
              "      <td>baseline_model-XGBClassifier</td>\n",
              "      <td>99ee3076455a8ca6d12d829ee19b79ac</td>\n",
              "      <td>0.031430</td>\n",
              "      <td>2023-07-09 09:21:53.181775</td>\n",
              "      <td>{'0': {'precision': 0.9956709956709957, 'recal...</td>\n",
              "      <td>0.992743</td>\n",
              "      <td>smote</td>\n",
              "    </tr>\n",
              "    <tr>\n",
              "      <th>4</th>\n",
              "      <td>baseline_model-XGBClassifier</td>\n",
              "      <td>596b651c13db459cfe7599e3d194214d</td>\n",
              "      <td>0.035148</td>\n",
              "      <td>2023-07-09 09:21:51.795417</td>\n",
              "      <td>{'0': {'precision': 0.9956709956709957, 'recal...</td>\n",
              "      <td>0.992743</td>\n",
              "      <td>oversampling</td>\n",
              "    </tr>\n",
              "    <tr>\n",
              "      <th>5</th>\n",
              "      <td>baseline_model-XGBClassifier</td>\n",
              "      <td>ab157fa70218ada5d8da51f65a0dec4c</td>\n",
              "      <td>0.039948</td>\n",
              "      <td>2023-07-09 09:21:48.791811</td>\n",
              "      <td>{'0': {'precision': 0.9956709956709957, 'recal...</td>\n",
              "      <td>0.992743</td>\n",
              "      <td>undersampling</td>\n",
              "    </tr>\n",
              "    <tr>\n",
              "      <th>6</th>\n",
              "      <td>baseline_model-RandomForestClassifier</td>\n",
              "      <td>f699aea8988685c15e00961f82524c90</td>\n",
              "      <td>0.180451</td>\n",
              "      <td>2023-07-09 09:21:52.957636</td>\n",
              "      <td>{'0': {'precision': 0.9956709956709957, 'recal...</td>\n",
              "      <td>0.992743</td>\n",
              "      <td>smote</td>\n",
              "    </tr>\n",
              "    <tr>\n",
              "      <th>7</th>\n",
              "      <td>baseline_model-RandomForestClassifier</td>\n",
              "      <td>3ced878fd9551a32ec2937adc5bceb85</td>\n",
              "      <td>0.191106</td>\n",
              "      <td>2023-07-09 09:21:48.549186</td>\n",
              "      <td>{'0': {'precision': 0.9956709956709957, 'recal...</td>\n",
              "      <td>0.992743</td>\n",
              "      <td>undersampling</td>\n",
              "    </tr>\n",
              "    <tr>\n",
              "      <th>8</th>\n",
              "      <td>baseline_model-RandomForestClassifier</td>\n",
              "      <td>23aec1c4dd83bffa29871bbe4afc060b</td>\n",
              "      <td>0.174190</td>\n",
              "      <td>2023-07-09 09:21:51.580589</td>\n",
              "      <td>{'0': {'precision': 0.9956521739130435, 'recal...</td>\n",
              "      <td>0.985631</td>\n",
              "      <td>oversampling</td>\n",
              "    </tr>\n",
              "    <tr>\n",
              "      <th>9</th>\n",
              "      <td>hyperparams-GridSearchCV-KNeighborsClassifier</td>\n",
              "      <td>ba2f45ab4a3284b3c7415b5343098541</td>\n",
              "      <td>11.671896</td>\n",
              "      <td>2023-07-09 09:22:54.978869</td>\n",
              "      <td>{'0': {'precision': 0.9954128440366973, 'recal...</td>\n",
              "      <td>0.909907</td>\n",
              "      <td>undersampling</td>\n",
              "    </tr>\n",
              "    <tr>\n",
              "      <th>10</th>\n",
              "      <td>baseline_model-KNeighborsClassifier</td>\n",
              "      <td>0759e174462869c84ea8139c2b023f33</td>\n",
              "      <td>0.003471</td>\n",
              "      <td>2023-07-09 09:21:51.776756</td>\n",
              "      <td>{'0': {'precision': 0.9953917050691244, 'recal...</td>\n",
              "      <td>0.904274</td>\n",
              "      <td>oversampling</td>\n",
              "    </tr>\n",
              "    <tr>\n",
              "      <th>11</th>\n",
              "      <td>baseline_model-KNeighborsClassifier</td>\n",
              "      <td>bb356bd8613bb275cbe696d62be9a40f</td>\n",
              "      <td>0.004959</td>\n",
              "      <td>2023-07-09 09:21:48.764387</td>\n",
              "      <td>{'0': {'precision': 0.9953917050691244, 'recal...</td>\n",
              "      <td>0.904274</td>\n",
              "      <td>undersampling</td>\n",
              "    </tr>\n",
              "    <tr>\n",
              "      <th>12</th>\n",
              "      <td>baseline_model-KNeighborsClassifier</td>\n",
              "      <td>50f8dedd9bde799fe74bbfacc33f14e5</td>\n",
              "      <td>0.005927</td>\n",
              "      <td>2023-07-09 09:21:53.159787</td>\n",
              "      <td>{'0': {'precision': 0.9953917050691244, 'recal...</td>\n",
              "      <td>0.904274</td>\n",
              "      <td>smote</td>\n",
              "    </tr>\n",
              "    <tr>\n",
              "      <th>13</th>\n",
              "      <td>baseline_model-SVC</td>\n",
              "      <td>6b58f1527a73f3af5446e8a83467c147</td>\n",
              "      <td>0.005088</td>\n",
              "      <td>2023-07-09 09:21:51.839992</td>\n",
              "      <td>{'0': {'precision': 1.0, 'recall': 0.926086956...</td>\n",
              "      <td>0.894954</td>\n",
              "      <td>oversampling</td>\n",
              "    </tr>\n",
              "    <tr>\n",
              "      <th>14</th>\n",
              "      <td>baseline_model-SVC</td>\n",
              "      <td>9e0159918777755163af538cb46e2b61</td>\n",
              "      <td>0.005102</td>\n",
              "      <td>2023-07-09 09:21:53.223531</td>\n",
              "      <td>{'0': {'precision': 1.0, 'recall': 0.926086956...</td>\n",
              "      <td>0.894954</td>\n",
              "      <td>smote</td>\n",
              "    </tr>\n",
              "    <tr>\n",
              "      <th>15</th>\n",
              "      <td>baseline_model-SVC</td>\n",
              "      <td>a48f57cf586dbb06fbe8b1f716175e80</td>\n",
              "      <td>0.005936</td>\n",
              "      <td>2023-07-09 09:21:48.842536</td>\n",
              "      <td>{'0': {'precision': 1.0, 'recall': 0.926086956...</td>\n",
              "      <td>0.894954</td>\n",
              "      <td>undersampling</td>\n",
              "    </tr>\n",
              "    <tr>\n",
              "      <th>16</th>\n",
              "      <td>baseline_model-LogisticRegression</td>\n",
              "      <td>2109e17bd02a7e587498715096915815</td>\n",
              "      <td>0.024279</td>\n",
              "      <td>2023-07-09 09:21:52.912868</td>\n",
              "      <td>{'0': {'precision': 0.995260663507109, 'recall...</td>\n",
              "      <td>0.872230</td>\n",
              "      <td>smote</td>\n",
              "    </tr>\n",
              "    <tr>\n",
              "      <th>17</th>\n",
              "      <td>baseline_model-LogisticRegression</td>\n",
              "      <td>38372dd92783fca592f6fd5bf171f9d3</td>\n",
              "      <td>0.026592</td>\n",
              "      <td>2023-07-09 09:21:48.496372</td>\n",
              "      <td>{'0': {'precision': 0.995260663507109, 'recall...</td>\n",
              "      <td>0.872230</td>\n",
              "      <td>undersampling</td>\n",
              "    </tr>\n",
              "    <tr>\n",
              "      <th>18</th>\n",
              "      <td>baseline_model-LogisticRegression</td>\n",
              "      <td>a5bd95af4f56bd86d73f7f2cc79bf9d1</td>\n",
              "      <td>0.033263</td>\n",
              "      <td>2023-07-09 09:21:51.528970</td>\n",
              "      <td>{'0': {'precision': 0.995260663507109, 'recall...</td>\n",
              "      <td>0.872230</td>\n",
              "      <td>oversampling</td>\n",
              "    </tr>\n",
              "  </tbody>\n",
              "</table>\n",
              "</div>\n",
              "      <button class=\"colab-df-convert\" onclick=\"convertToInteractive('df-74bdaab4-d77f-4457-b369-1d61d6d31162')\"\n",
              "              title=\"Convert this dataframe to an interactive table.\"\n",
              "              style=\"display:none;\">\n",
              "        \n",
              "  <svg xmlns=\"http://www.w3.org/2000/svg\" height=\"24px\"viewBox=\"0 0 24 24\"\n",
              "       width=\"24px\">\n",
              "    <path d=\"M0 0h24v24H0V0z\" fill=\"none\"/>\n",
              "    <path d=\"M18.56 5.44l.94 2.06.94-2.06 2.06-.94-2.06-.94-.94-2.06-.94 2.06-2.06.94zm-11 1L8.5 8.5l.94-2.06 2.06-.94-2.06-.94L8.5 2.5l-.94 2.06-2.06.94zm10 10l.94 2.06.94-2.06 2.06-.94-2.06-.94-.94-2.06-.94 2.06-2.06.94z\"/><path d=\"M17.41 7.96l-1.37-1.37c-.4-.4-.92-.59-1.43-.59-.52 0-1.04.2-1.43.59L10.3 9.45l-7.72 7.72c-.78.78-.78 2.05 0 2.83L4 21.41c.39.39.9.59 1.41.59.51 0 1.02-.2 1.41-.59l7.78-7.78 2.81-2.81c.8-.78.8-2.07 0-2.86zM5.41 20L4 18.59l7.72-7.72 1.47 1.35L5.41 20z\"/>\n",
              "  </svg>\n",
              "      </button>\n",
              "      \n",
              "  <style>\n",
              "    .colab-df-container {\n",
              "      display:flex;\n",
              "      flex-wrap:wrap;\n",
              "      gap: 12px;\n",
              "    }\n",
              "\n",
              "    .colab-df-convert {\n",
              "      background-color: #E8F0FE;\n",
              "      border: none;\n",
              "      border-radius: 50%;\n",
              "      cursor: pointer;\n",
              "      display: none;\n",
              "      fill: #1967D2;\n",
              "      height: 32px;\n",
              "      padding: 0 0 0 0;\n",
              "      width: 32px;\n",
              "    }\n",
              "\n",
              "    .colab-df-convert:hover {\n",
              "      background-color: #E2EBFA;\n",
              "      box-shadow: 0px 1px 2px rgba(60, 64, 67, 0.3), 0px 1px 3px 1px rgba(60, 64, 67, 0.15);\n",
              "      fill: #174EA6;\n",
              "    }\n",
              "\n",
              "    [theme=dark] .colab-df-convert {\n",
              "      background-color: #3B4455;\n",
              "      fill: #D2E3FC;\n",
              "    }\n",
              "\n",
              "    [theme=dark] .colab-df-convert:hover {\n",
              "      background-color: #434B5C;\n",
              "      box-shadow: 0px 1px 3px 1px rgba(0, 0, 0, 0.15);\n",
              "      filter: drop-shadow(0px 1px 2px rgba(0, 0, 0, 0.3));\n",
              "      fill: #FFFFFF;\n",
              "    }\n",
              "  </style>\n",
              "\n",
              "      <script>\n",
              "        const buttonEl =\n",
              "          document.querySelector('#df-74bdaab4-d77f-4457-b369-1d61d6d31162 button.colab-df-convert');\n",
              "        buttonEl.style.display =\n",
              "          google.colab.kernel.accessAllowed ? 'block' : 'none';\n",
              "\n",
              "        async function convertToInteractive(key) {\n",
              "          const element = document.querySelector('#df-74bdaab4-d77f-4457-b369-1d61d6d31162');\n",
              "          const dataTable =\n",
              "            await google.colab.kernel.invokeFunction('convertToInteractive',\n",
              "                                                     [key], {});\n",
              "          if (!dataTable) return;\n",
              "\n",
              "          const docLinkHtml = 'Like what you see? Visit the ' +\n",
              "            '<a target=\"_blank\" href=https://colab.research.google.com/notebooks/data_table.ipynb>data table notebook</a>'\n",
              "            + ' to learn more about interactive tables.';\n",
              "          element.innerHTML = '';\n",
              "          dataTable['output_type'] = 'display_data';\n",
              "          await google.colab.output.renderOutput(dataTable, element);\n",
              "          const docLink = document.createElement('div');\n",
              "          docLink.innerHTML = docLinkHtml;\n",
              "          element.appendChild(docLink);\n",
              "        }\n",
              "      </script>\n",
              "    </div>\n",
              "  </div>\n",
              "  "
            ]
          },
          "metadata": {},
          "execution_count": 31
        }
      ]
    },
    {
      "cell_type": "markdown",
      "source": [
        "#### 2.2.6. Melihat Confusion Matrix"
      ],
      "metadata": {
        "id": "rd-Je6Z49twC"
      }
    },
    {
      "cell_type": "code",
      "source": [
        "y_pred = model.predict(x_valid)"
      ],
      "metadata": {
        "id": "KeSSu28t00ho"
      },
      "execution_count": 32,
      "outputs": []
    },
    {
      "cell_type": "code",
      "source": [
        "ConfusionMatrixDisplay.from_predictions(y_valid, y_pred)"
      ],
      "metadata": {
        "colab": {
          "base_uri": "https://localhost:8080/",
          "height": 467
        },
        "id": "rriwBRYB90zg",
        "outputId": "fa7bf8b1-6675-4477-a614-865f7ce33edf"
      },
      "execution_count": 33,
      "outputs": [
        {
          "output_type": "execute_result",
          "data": {
            "text/plain": [
              "<sklearn.metrics._plot.confusion_matrix.ConfusionMatrixDisplay at 0x7f059fd02770>"
            ]
          },
          "metadata": {},
          "execution_count": 33
        },
        {
          "output_type": "display_data",
          "data": {
            "text/plain": [
              "<Figure size 640x480 with 2 Axes>"
            ],
            "image/png": "[encoded data removed]"
          },
          "metadata": {}
        }
      ]
    },
    {
      "cell_type": "code",
      "source": [],
      "metadata": {
        "id": "fego3FXA91vt"
      },
      "execution_count": null,
      "outputs": []
    }
  ]
}