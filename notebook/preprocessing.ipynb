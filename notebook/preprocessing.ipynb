{
  "nbformat": 4,
  "nbformat_minor": 0,
  "metadata": {
    "colab": {
      "provenance": [],
      "gpuType": "T4"
    },
    "kernelspec": {
      "name": "python3",
      "display_name": "Python 3"
    },
    "language_info": {
      "name": "python"
    },
    "accelerator": "GPU"
  },
  "cells": [
    {
      "cell_type": "code",
      "execution_count": null,
      "metadata": {
        "colab": {
          "base_uri": "https://localhost:8080/"
        },
        "id": "20RGaMqViQXd",
        "outputId": "c7c0b999-22c5-4c5b-e454-2109d7c97258"
      },
      "outputs": [
        {
          "output_type": "stream",
          "name": "stdout",
          "text": [
            "Collecting imblearn\n",
            "  Downloading imblearn-0.0-py2.py3-none-any.whl (1.9 kB)\n",
            "Requirement already satisfied: imbalanced-learn in /usr/local/lib/python3.10/dist-packages (from imblearn) (0.10.1)\n",
            "Requirement already satisfied: numpy>=1.17.3 in /usr/local/lib/python3.10/dist-packages (from imbalanced-learn->imblearn) (1.22.4)\n",
            "Requirement already satisfied: scipy>=1.3.2 in /usr/local/lib/python3.10/dist-packages (from imbalanced-learn->imblearn) (1.10.1)\n",
            "Requirement already satisfied: scikit-learn>=1.0.2 in /usr/local/lib/python3.10/dist-packages (from imbalanced-learn->imblearn) (1.2.2)\n",
            "Requirement already satisfied: joblib>=1.1.1 in /usr/local/lib/python3.10/dist-packages (from imbalanced-learn->imblearn) (1.2.0)\n",
            "Requirement already satisfied: threadpoolctl>=2.0.0 in /usr/local/lib/python3.10/dist-packages (from imbalanced-learn->imblearn) (3.1.0)\n",
            "Installing collected packages: imblearn\n",
            "Successfully installed imblearn-0.0\n"
          ]
        }
      ],
      "source": [
        "!pip install imblearn"
      ]
    },
    {
      "cell_type": "code",
      "source": [
        "import pandas as pd\n",
        "import numpy as np\n",
        "import seaborn as sns\n",
        "import scipy.stats as scs\n",
        "import joblib\n",
        "import yaml\n",
        "import matplotlib.pyplot as plt\n",
        "from imblearn.under_sampling import RandomUnderSampler\n",
        "from imblearn.over_sampling import RandomOverSampler, SMOTE\n",
        "from sklearn.preprocessing import LabelEncoder\n",
        "from sklearn.preprocessing import OneHotEncoder"
      ],
      "metadata": {
        "id": "YGL8dxbniaBX"
      },
      "execution_count": null,
      "outputs": []
    },
    {
      "cell_type": "markdown",
      "source": [
        "## 1. Todo List"
      ],
      "metadata": {
        "id": "VTIl_MZJidh_"
      }
    },
    {
      "cell_type": "markdown",
      "source": [
        "1. Missing value handling\n",
        "- pm10      : mean kelas\n",
        "- pm25      : mean kelas\n",
        "- so2       : mean\n",
        "- co        : median\n",
        "- o3        : median\n",
        "- no2       : median\n",
        "\n",
        "3. Balancing label baik dan tidak baik\n",
        "\n",
        "4. Outlier removal"
      ],
      "metadata": {
        "id": "vIif7hiLifLQ"
      }
    },
    {
      "cell_type": "markdown",
      "source": [
        "## 2. Import Params"
      ],
      "metadata": {
        "id": "KcfF7wYyio6u"
      }
    },
    {
      "cell_type": "code",
      "source": [
        "params_dir = \"/content/params.yaml\""
      ],
      "metadata": {
        "id": "H71HrjNVia88"
      },
      "execution_count": null,
      "outputs": []
    },
    {
      "cell_type": "code",
      "source": [
        "def load_params(param_dir):\n",
        "    with open(param_dir, \"r\") as file:\n",
        "        params = yaml.safe_load(file)\n",
        "\n",
        "    return params"
      ],
      "metadata": {
        "id": "90bjgCIyit6L"
      },
      "execution_count": null,
      "outputs": []
    },
    {
      "cell_type": "code",
      "source": [
        "def params_updater(key, value, params, params_dir):\n",
        "    params = params.copy()\n",
        "    params[key] = value\n",
        "\n",
        "    with open(params_dir, \"w\") as file:\n",
        "        yaml.dump(params, file)\n",
        "\n",
        "    params = load_params(params_dir)\n",
        "\n",
        "    return params"
      ],
      "metadata": {
        "id": "CLEjkelOiu5n"
      },
      "execution_count": null,
      "outputs": []
    },
    {
      "cell_type": "code",
      "source": [
        "params = load_params(params_dir)"
      ],
      "metadata": {
        "id": "XvhvHYR_ivpc"
      },
      "execution_count": null,
      "outputs": []
    },
    {
      "cell_type": "markdown",
      "source": [
        "## 3. Load Dataset"
      ],
      "metadata": {
        "id": "hiOdUUUai4Aw"
      }
    },
    {
      "cell_type": "code",
      "source": [
        "x_train = joblib.load(\"/content/x_train.pkl\")\n",
        "y_train = joblib.load(\"/content/y_train.pkl\")\n",
        "\n",
        "x_valid = joblib.load(\"/content/x_valid.pkl\")\n",
        "y_valid = joblib.load(\"/content/y_valid.pkl\")\n",
        "\n",
        "x_test = joblib.load(\"/content/x_test.pkl\")\n",
        "y_test = joblib.load(\"/content/y_test.pkl\")"
      ],
      "metadata": {
        "id": "oQ00M5VdiyNH"
      },
      "execution_count": null,
      "outputs": []
    },
    {
      "cell_type": "code",
      "source": [
        "df = pd.concat([x_train, y_train], axis = 1)\n",
        "\n",
        "valid_set = pd.concat([x_valid, y_valid], axis = 1)\n",
        "\n",
        "test_set = pd.concat([x_test, y_test], axis = 1)"
      ],
      "metadata": {
        "id": "iWoH9cIwi434"
      },
      "execution_count": null,
      "outputs": []
    },
    {
      "cell_type": "markdown",
      "source": [
        "## 4. Handling Missing Value"
      ],
      "metadata": {
        "id": "jXsWkUGdjUkx"
      }
    },
    {
      "cell_type": "code",
      "source": [
        "def nan_detector(set_data):\n",
        "    set_data = set_data.copy()\n",
        "    set_data.replace(-1, np.nan, inplace = True)\n",
        "    return set_data"
      ],
      "metadata": {
        "id": "CcvgEcdHjCd4"
      },
      "execution_count": null,
      "outputs": []
    },
    {
      "cell_type": "markdown",
      "source": [
        "### 4.1. Convert -1 to NaN"
      ],
      "metadata": {
        "id": "SP621EG-jYm6"
      }
    },
    {
      "cell_type": "markdown",
      "source": [
        "#### 4.1.1. Trainset"
      ],
      "metadata": {
        "id": "St0jnxRpjapV"
      }
    },
    {
      "cell_type": "code",
      "source": [
        "df.describe()"
      ],
      "metadata": {
        "colab": {
          "base_uri": "https://localhost:8080/",
          "height": 300
        },
        "id": "q3QZxvpCjW3m",
        "outputId": "7981f0fd-fadd-4c28-d34b-8fb3819d50a3"
      },
      "execution_count": null,
      "outputs": [
        {
          "output_type": "execute_result",
          "data": {
            "text/plain": [
              "              pm10         pm25          so2           co           o3  \\\n",
              "count  1266.000000  1266.000000  1266.000000  1266.000000  1266.000000   \n",
              "mean     50.757504    74.639021    32.990521    11.683254    30.887836   \n",
              "std      17.005615    27.531714    15.149685     4.961829    15.441335   \n",
              "min      -1.000000    -1.000000    -1.000000    -1.000000    -1.000000   \n",
              "25%      42.000000    60.000000    24.000000     9.000000    21.000000   \n",
              "50%      54.000000    77.000000    33.000000    11.000000    28.000000   \n",
              "75%      61.000000    91.000000    43.000000    14.000000    38.000000   \n",
              "max     179.000000   174.000000    82.000000    43.000000   151.000000   \n",
              "\n",
              "               no2  \n",
              "count  1266.000000  \n",
              "mean     19.442338  \n",
              "std       9.668346  \n",
              "min      -1.000000  \n",
              "25%      13.000000  \n",
              "50%      18.000000  \n",
              "75%      25.000000  \n",
              "max      65.000000  "
            ],
            "text/html": [
              "\n",
              "  <div id=\"df-06749ad6-92a2-48a7-a2ae-54dbc46ecc86\">\n",
              "    <div class=\"colab-df-container\">\n",
              "      <div>\n",
              "<style scoped>\n",
              "    .dataframe tbody tr th:only-of-type {\n",
              "        vertical-align: middle;\n",
              "    }\n",
              "\n",
              "    .dataframe tbody tr th {\n",
              "        vertical-align: top;\n",
              "    }\n",
              "\n",
              "    .dataframe thead th {\n",
              "        text-align: right;\n",
              "    }\n",
              "</style>\n",
              "<table border=\"1\" class=\"dataframe\">\n",
              "  <thead>\n",
              "    <tr style=\"text-align: right;\">\n",
              "      <th></th>\n",
              "      <th>pm10</th>\n",
              "      <th>pm25</th>\n",
              "      <th>so2</th>\n",
              "      <th>co</th>\n",
              "      <th>o3</th>\n",
              "      <th>no2</th>\n",
              "    </tr>\n",
              "  </thead>\n",
              "  <tbody>\n",
              "    <tr>\n",
              "      <th>count</th>\n",
              "      <td>1266.000000</td>\n",
              "      <td>1266.000000</td>\n",
              "      <td>1266.000000</td>\n",
              "      <td>1266.000000</td>\n",
              "      <td>1266.000000</td>\n",
              "      <td>1266.000000</td>\n",
              "    </tr>\n",
              "    <tr>\n",
              "      <th>mean</th>\n",
              "      <td>50.757504</td>\n",
              "      <td>74.639021</td>\n",
              "      <td>32.990521</td>\n",
              "      <td>11.683254</td>\n",
              "      <td>30.887836</td>\n",
              "      <td>19.442338</td>\n",
              "    </tr>\n",
              "    <tr>\n",
              "      <th>std</th>\n",
              "      <td>17.005615</td>\n",
              "      <td>27.531714</td>\n",
              "      <td>15.149685</td>\n",
              "      <td>4.961829</td>\n",
              "      <td>15.441335</td>\n",
              "      <td>9.668346</td>\n",
              "    </tr>\n",
              "    <tr>\n",
              "      <th>min</th>\n",
              "      <td>-1.000000</td>\n",
              "      <td>-1.000000</td>\n",
              "      <td>-1.000000</td>\n",
              "      <td>-1.000000</td>\n",
              "      <td>-1.000000</td>\n",
              "      <td>-1.000000</td>\n",
              "    </tr>\n",
              "    <tr>\n",
              "      <th>25%</th>\n",
              "      <td>42.000000</td>\n",
              "      <td>60.000000</td>\n",
              "      <td>24.000000</td>\n",
              "      <td>9.000000</td>\n",
              "      <td>21.000000</td>\n",
              "      <td>13.000000</td>\n",
              "    </tr>\n",
              "    <tr>\n",
              "      <th>50%</th>\n",
              "      <td>54.000000</td>\n",
              "      <td>77.000000</td>\n",
              "      <td>33.000000</td>\n",
              "      <td>11.000000</td>\n",
              "      <td>28.000000</td>\n",
              "      <td>18.000000</td>\n",
              "    </tr>\n",
              "    <tr>\n",
              "      <th>75%</th>\n",
              "      <td>61.000000</td>\n",
              "      <td>91.000000</td>\n",
              "      <td>43.000000</td>\n",
              "      <td>14.000000</td>\n",
              "      <td>38.000000</td>\n",
              "      <td>25.000000</td>\n",
              "    </tr>\n",
              "    <tr>\n",
              "      <th>max</th>\n",
              "      <td>179.000000</td>\n",
              "      <td>174.000000</td>\n",
              "      <td>82.000000</td>\n",
              "      <td>43.000000</td>\n",
              "      <td>151.000000</td>\n",
              "      <td>65.000000</td>\n",
              "    </tr>\n",
              "  </tbody>\n",
              "</table>\n",
              "</div>\n",
              "      <button class=\"colab-df-convert\" onclick=\"convertToInteractive('df-06749ad6-92a2-48a7-a2ae-54dbc46ecc86')\"\n",
              "              title=\"Convert this dataframe to an interactive table.\"\n",
              "              style=\"display:none;\">\n",
              "        \n",
              "  <svg xmlns=\"http://www.w3.org/2000/svg\" height=\"24px\"viewBox=\"0 0 24 24\"\n",
              "       width=\"24px\">\n",
              "    <path d=\"M0 0h24v24H0V0z\" fill=\"none\"/>\n",
              "    <path d=\"M18.56 5.44l.94 2.06.94-2.06 2.06-.94-2.06-.94-.94-2.06-.94 2.06-2.06.94zm-11 1L8.5 8.5l.94-2.06 2.06-.94-2.06-.94L8.5 2.5l-.94 2.06-2.06.94zm10 10l.94 2.06.94-2.06 2.06-.94-2.06-.94-.94-2.06-.94 2.06-2.06.94z\"/><path d=\"M17.41 7.96l-1.37-1.37c-.4-.4-.92-.59-1.43-.59-.52 0-1.04.2-1.43.59L10.3 9.45l-7.72 7.72c-.78.78-.78 2.05 0 2.83L4 21.41c.39.39.9.59 1.41.59.51 0 1.02-.2 1.41-.59l7.78-7.78 2.81-2.81c.8-.78.8-2.07 0-2.86zM5.41 20L4 18.59l7.72-7.72 1.47 1.35L5.41 20z\"/>\n",
              "  </svg>\n",
              "      </button>\n",
              "      \n",
              "  <style>\n",
              "    .colab-df-container {\n",
              "      display:flex;\n",
              "      flex-wrap:wrap;\n",
              "      gap: 12px;\n",
              "    }\n",
              "\n",
              "    .colab-df-convert {\n",
              "      background-color: #E8F0FE;\n",
              "      border: none;\n",
              "      border-radius: 50%;\n",
              "      cursor: pointer;\n",
              "      display: none;\n",
              "      fill: #1967D2;\n",
              "      height: 32px;\n",
              "      padding: 0 0 0 0;\n",
              "      width: 32px;\n",
              "    }\n",
              "\n",
              "    .colab-df-convert:hover {\n",
              "      background-color: #E2EBFA;\n",
              "      box-shadow: 0px 1px 2px rgba(60, 64, 67, 0.3), 0px 1px 3px 1px rgba(60, 64, 67, 0.15);\n",
              "      fill: #174EA6;\n",
              "    }\n",
              "\n",
              "    [theme=dark] .colab-df-convert {\n",
              "      background-color: #3B4455;\n",
              "      fill: #D2E3FC;\n",
              "    }\n",
              "\n",
              "    [theme=dark] .colab-df-convert:hover {\n",
              "      background-color: #434B5C;\n",
              "      box-shadow: 0px 1px 3px 1px rgba(0, 0, 0, 0.15);\n",
              "      filter: drop-shadow(0px 1px 2px rgba(0, 0, 0, 0.3));\n",
              "      fill: #FFFFFF;\n",
              "    }\n",
              "  </style>\n",
              "\n",
              "      <script>\n",
              "        const buttonEl =\n",
              "          document.querySelector('#df-06749ad6-92a2-48a7-a2ae-54dbc46ecc86 button.colab-df-convert');\n",
              "        buttonEl.style.display =\n",
              "          google.colab.kernel.accessAllowed ? 'block' : 'none';\n",
              "\n",
              "        async function convertToInteractive(key) {\n",
              "          const element = document.querySelector('#df-06749ad6-92a2-48a7-a2ae-54dbc46ecc86');\n",
              "          const dataTable =\n",
              "            await google.colab.kernel.invokeFunction('convertToInteractive',\n",
              "                                                     [key], {});\n",
              "          if (!dataTable) return;\n",
              "\n",
              "          const docLinkHtml = 'Like what you see? Visit the ' +\n",
              "            '<a target=\"_blank\" href=https://colab.research.google.com/notebooks/data_table.ipynb>data table notebook</a>'\n",
              "            + ' to learn more about interactive tables.';\n",
              "          element.innerHTML = '';\n",
              "          dataTable['output_type'] = 'display_data';\n",
              "          await google.colab.output.renderOutput(dataTable, element);\n",
              "          const docLink = document.createElement('div');\n",
              "          docLink.innerHTML = docLinkHtml;\n",
              "          element.appendChild(docLink);\n",
              "        }\n",
              "      </script>\n",
              "    </div>\n",
              "  </div>\n",
              "  "
            ]
          },
          "metadata": {},
          "execution_count": 9
        }
      ]
    },
    {
      "cell_type": "code",
      "source": [
        "df.isnull().sum()"
      ],
      "metadata": {
        "colab": {
          "base_uri": "https://localhost:8080/"
        },
        "id": "Kqk3NgizjcYM",
        "outputId": "bd0d830f-e84e-433e-9d1e-5324797e4f01"
      },
      "execution_count": null,
      "outputs": [
        {
          "output_type": "execute_result",
          "data": {
            "text/plain": [
              "stasiun     0\n",
              "pm10        0\n",
              "pm25        0\n",
              "so2         0\n",
              "co          0\n",
              "o3          0\n",
              "no2         0\n",
              "categori    0\n",
              "dtype: int64"
            ]
          },
          "metadata": {},
          "execution_count": 10
        }
      ]
    },
    {
      "cell_type": "code",
      "source": [
        "df = nan_detector(df)"
      ],
      "metadata": {
        "id": "bRQyCbcHjd7Q"
      },
      "execution_count": null,
      "outputs": []
    },
    {
      "cell_type": "code",
      "source": [
        "df.isnull().sum()"
      ],
      "metadata": {
        "colab": {
          "base_uri": "https://localhost:8080/"
        },
        "id": "X2Evi-e_jh41",
        "outputId": "453e1fc0-2915-469a-90a9-8454eba70d28"
      },
      "execution_count": null,
      "outputs": [
        {
          "output_type": "execute_result",
          "data": {
            "text/plain": [
              "stasiun      0\n",
              "pm10        35\n",
              "pm25        55\n",
              "so2         75\n",
              "co          11\n",
              "o3          35\n",
              "no2         14\n",
              "categori     0\n",
              "dtype: int64"
            ]
          },
          "metadata": {},
          "execution_count": 12
        }
      ]
    },
    {
      "cell_type": "markdown",
      "source": [
        "#### 4.1.2. Validset"
      ],
      "metadata": {
        "id": "5PM5wdTvjnlZ"
      }
    },
    {
      "cell_type": "code",
      "source": [
        "valid_set.describe()"
      ],
      "metadata": {
        "colab": {
          "base_uri": "https://localhost:8080/",
          "height": 300
        },
        "id": "M2BmkTGoji3F",
        "outputId": "69575c18-81e8-4bf5-a519-591028afd54f"
      },
      "execution_count": null,
      "outputs": [
        {
          "output_type": "execute_result",
          "data": {
            "text/plain": [
              "             pm10        pm25         so2          co          o3         no2\n",
              "count  271.000000  271.000000  271.000000  271.000000  271.000000  271.000000\n",
              "mean    50.538745   73.199262   32.952030   12.450185   33.055351   19.365314\n",
              "std     16.870898   27.885031   15.219916    5.889437   17.631639    9.457671\n",
              "min     -1.000000   -1.000000   -1.000000   -1.000000   -1.000000   -1.000000\n",
              "25%     41.500000   59.000000   23.500000    9.000000   23.000000   13.000000\n",
              "50%     54.000000   76.000000   32.000000   11.000000   29.000000   18.000000\n",
              "75%     62.000000   92.500000   44.000000   15.000000   42.000000   25.000000\n",
              "max     92.000000  145.000000   80.000000   47.000000  134.000000   57.000000"
            ],
            "text/html": [
              "\n",
              "  <div id=\"df-5b85b619-72c9-4796-b9a9-aae6279f65a8\">\n",
              "    <div class=\"colab-df-container\">\n",
              "      <div>\n",
              "<style scoped>\n",
              "    .dataframe tbody tr th:only-of-type {\n",
              "        vertical-align: middle;\n",
              "    }\n",
              "\n",
              "    .dataframe tbody tr th {\n",
              "        vertical-align: top;\n",
              "    }\n",
              "\n",
              "    .dataframe thead th {\n",
              "        text-align: right;\n",
              "    }\n",
              "</style>\n",
              "<table border=\"1\" class=\"dataframe\">\n",
              "  <thead>\n",
              "    <tr style=\"text-align: right;\">\n",
              "      <th></th>\n",
              "      <th>pm10</th>\n",
              "      <th>pm25</th>\n",
              "      <th>so2</th>\n",
              "      <th>co</th>\n",
              "      <th>o3</th>\n",
              "      <th>no2</th>\n",
              "    </tr>\n",
              "  </thead>\n",
              "  <tbody>\n",
              "    <tr>\n",
              "      <th>count</th>\n",
              "      <td>271.000000</td>\n",
              "      <td>271.000000</td>\n",
              "      <td>271.000000</td>\n",
              "      <td>271.000000</td>\n",
              "      <td>271.000000</td>\n",
              "      <td>271.000000</td>\n",
              "    </tr>\n",
              "    <tr>\n",
              "      <th>mean</th>\n",
              "      <td>50.538745</td>\n",
              "      <td>73.199262</td>\n",
              "      <td>32.952030</td>\n",
              "      <td>12.450185</td>\n",
              "      <td>33.055351</td>\n",
              "      <td>19.365314</td>\n",
              "    </tr>\n",
              "    <tr>\n",
              "      <th>std</th>\n",
              "      <td>16.870898</td>\n",
              "      <td>27.885031</td>\n",
              "      <td>15.219916</td>\n",
              "      <td>5.889437</td>\n",
              "      <td>17.631639</td>\n",
              "      <td>9.457671</td>\n",
              "    </tr>\n",
              "    <tr>\n",
              "      <th>min</th>\n",
              "      <td>-1.000000</td>\n",
              "      <td>-1.000000</td>\n",
              "      <td>-1.000000</td>\n",
              "      <td>-1.000000</td>\n",
              "      <td>-1.000000</td>\n",
              "      <td>-1.000000</td>\n",
              "    </tr>\n",
              "    <tr>\n",
              "      <th>25%</th>\n",
              "      <td>41.500000</td>\n",
              "      <td>59.000000</td>\n",
              "      <td>23.500000</td>\n",
              "      <td>9.000000</td>\n",
              "      <td>23.000000</td>\n",
              "      <td>13.000000</td>\n",
              "    </tr>\n",
              "    <tr>\n",
              "      <th>50%</th>\n",
              "      <td>54.000000</td>\n",
              "      <td>76.000000</td>\n",
              "      <td>32.000000</td>\n",
              "      <td>11.000000</td>\n",
              "      <td>29.000000</td>\n",
              "      <td>18.000000</td>\n",
              "    </tr>\n",
              "    <tr>\n",
              "      <th>75%</th>\n",
              "      <td>62.000000</td>\n",
              "      <td>92.500000</td>\n",
              "      <td>44.000000</td>\n",
              "      <td>15.000000</td>\n",
              "      <td>42.000000</td>\n",
              "      <td>25.000000</td>\n",
              "    </tr>\n",
              "    <tr>\n",
              "      <th>max</th>\n",
              "      <td>92.000000</td>\n",
              "      <td>145.000000</td>\n",
              "      <td>80.000000</td>\n",
              "      <td>47.000000</td>\n",
              "      <td>134.000000</td>\n",
              "      <td>57.000000</td>\n",
              "    </tr>\n",
              "  </tbody>\n",
              "</table>\n",
              "</div>\n",
              "      <button class=\"colab-df-convert\" onclick=\"convertToInteractive('df-5b85b619-72c9-4796-b9a9-aae6279f65a8')\"\n",
              "              title=\"Convert this dataframe to an interactive table.\"\n",
              "              style=\"display:none;\">\n",
              "        \n",
              "  <svg xmlns=\"http://www.w3.org/2000/svg\" height=\"24px\"viewBox=\"0 0 24 24\"\n",
              "       width=\"24px\">\n",
              "    <path d=\"M0 0h24v24H0V0z\" fill=\"none\"/>\n",
              "    <path d=\"M18.56 5.44l.94 2.06.94-2.06 2.06-.94-2.06-.94-.94-2.06-.94 2.06-2.06.94zm-11 1L8.5 8.5l.94-2.06 2.06-.94-2.06-.94L8.5 2.5l-.94 2.06-2.06.94zm10 10l.94 2.06.94-2.06 2.06-.94-2.06-.94-.94-2.06-.94 2.06-2.06.94z\"/><path d=\"M17.41 7.96l-1.37-1.37c-.4-.4-.92-.59-1.43-.59-.52 0-1.04.2-1.43.59L10.3 9.45l-7.72 7.72c-.78.78-.78 2.05 0 2.83L4 21.41c.39.39.9.59 1.41.59.51 0 1.02-.2 1.41-.59l7.78-7.78 2.81-2.81c.8-.78.8-2.07 0-2.86zM5.41 20L4 18.59l7.72-7.72 1.47 1.35L5.41 20z\"/>\n",
              "  </svg>\n",
              "      </button>\n",
              "      \n",
              "  <style>\n",
              "    .colab-df-container {\n",
              "      display:flex;\n",
              "      flex-wrap:wrap;\n",
              "      gap: 12px;\n",
              "    }\n",
              "\n",
              "    .colab-df-convert {\n",
              "      background-color: #E8F0FE;\n",
              "      border: none;\n",
              "      border-radius: 50%;\n",
              "      cursor: pointer;\n",
              "      display: none;\n",
              "      fill: #1967D2;\n",
              "      height: 32px;\n",
              "      padding: 0 0 0 0;\n",
              "      width: 32px;\n",
              "    }\n",
              "\n",
              "    .colab-df-convert:hover {\n",
              "      background-color: #E2EBFA;\n",
              "      box-shadow: 0px 1px 2px rgba(60, 64, 67, 0.3), 0px 1px 3px 1px rgba(60, 64, 67, 0.15);\n",
              "      fill: #174EA6;\n",
              "    }\n",
              "\n",
              "    [theme=dark] .colab-df-convert {\n",
              "      background-color: #3B4455;\n",
              "      fill: #D2E3FC;\n",
              "    }\n",
              "\n",
              "    [theme=dark] .colab-df-convert:hover {\n",
              "      background-color: #434B5C;\n",
              "      box-shadow: 0px 1px 3px 1px rgba(0, 0, 0, 0.15);\n",
              "      filter: drop-shadow(0px 1px 2px rgba(0, 0, 0, 0.3));\n",
              "      fill: #FFFFFF;\n",
              "    }\n",
              "  </style>\n",
              "\n",
              "      <script>\n",
              "        const buttonEl =\n",
              "          document.querySelector('#df-5b85b619-72c9-4796-b9a9-aae6279f65a8 button.colab-df-convert');\n",
              "        buttonEl.style.display =\n",
              "          google.colab.kernel.accessAllowed ? 'block' : 'none';\n",
              "\n",
              "        async function convertToInteractive(key) {\n",
              "          const element = document.querySelector('#df-5b85b619-72c9-4796-b9a9-aae6279f65a8');\n",
              "          const dataTable =\n",
              "            await google.colab.kernel.invokeFunction('convertToInteractive',\n",
              "                                                     [key], {});\n",
              "          if (!dataTable) return;\n",
              "\n",
              "          const docLinkHtml = 'Like what you see? Visit the ' +\n",
              "            '<a target=\"_blank\" href=https://colab.research.google.com/notebooks/data_table.ipynb>data table notebook</a>'\n",
              "            + ' to learn more about interactive tables.';\n",
              "          element.innerHTML = '';\n",
              "          dataTable['output_type'] = 'display_data';\n",
              "          await google.colab.output.renderOutput(dataTable, element);\n",
              "          const docLink = document.createElement('div');\n",
              "          docLink.innerHTML = docLinkHtml;\n",
              "          element.appendChild(docLink);\n",
              "        }\n",
              "      </script>\n",
              "    </div>\n",
              "  </div>\n",
              "  "
            ]
          },
          "metadata": {},
          "execution_count": 13
        }
      ]
    },
    {
      "cell_type": "code",
      "source": [
        "valid_set.isnull().sum()"
      ],
      "metadata": {
        "colab": {
          "base_uri": "https://localhost:8080/"
        },
        "id": "n9QGimEvjoZn",
        "outputId": "25f055e2-9a56-4f24-b1ce-9b1f9db2fe67"
      },
      "execution_count": null,
      "outputs": [
        {
          "output_type": "execute_result",
          "data": {
            "text/plain": [
              "stasiun     0\n",
              "pm10        0\n",
              "pm25        0\n",
              "so2         0\n",
              "co          0\n",
              "o3          0\n",
              "no2         0\n",
              "categori    0\n",
              "dtype: int64"
            ]
          },
          "metadata": {},
          "execution_count": 14
        }
      ]
    },
    {
      "cell_type": "code",
      "source": [
        "valid_set = nan_detector(valid_set)"
      ],
      "metadata": {
        "id": "fz4w2LLjjpD9"
      },
      "execution_count": null,
      "outputs": []
    },
    {
      "cell_type": "code",
      "source": [
        "valid_set.isnull().sum()"
      ],
      "metadata": {
        "colab": {
          "base_uri": "https://localhost:8080/"
        },
        "id": "0jM5l0OFjqkT",
        "outputId": "37c999d4-9850-4159-c8d7-60a8d5c1e0e2"
      },
      "execution_count": null,
      "outputs": [
        {
          "output_type": "execute_result",
          "data": {
            "text/plain": [
              "stasiun      0\n",
              "pm10         9\n",
              "pm25        14\n",
              "so2         15\n",
              "co           3\n",
              "o3           9\n",
              "no2          2\n",
              "categori     0\n",
              "dtype: int64"
            ]
          },
          "metadata": {},
          "execution_count": 16
        }
      ]
    },
    {
      "cell_type": "markdown",
      "source": [
        "#### 4.1.1. Testset"
      ],
      "metadata": {
        "id": "34EdfaCHjtqR"
      }
    },
    {
      "cell_type": "code",
      "source": [
        "test_set = nan_detector(test_set)"
      ],
      "metadata": {
        "id": "ISI2E0ivjsEQ"
      },
      "execution_count": null,
      "outputs": []
    },
    {
      "cell_type": "code",
      "source": [
        "test_set.isnull().sum()"
      ],
      "metadata": {
        "colab": {
          "base_uri": "https://localhost:8080/"
        },
        "id": "dACuPEx3jvKt",
        "outputId": "c7433169-3df9-4f26-bf9e-8fdf5230e4e7"
      },
      "execution_count": null,
      "outputs": [
        {
          "output_type": "execute_result",
          "data": {
            "text/plain": [
              "stasiun      0\n",
              "pm10         8\n",
              "pm25        15\n",
              "so2          8\n",
              "co           6\n",
              "o3           8\n",
              "no2          3\n",
              "categori     0\n",
              "dtype: int64"
            ]
          },
          "metadata": {},
          "execution_count": 18
        }
      ]
    },
    {
      "cell_type": "markdown",
      "source": [
        "### 4.2. Handling in PM10"
      ],
      "metadata": {
        "id": "ECTJSof3j4Oi"
      }
    },
    {
      "cell_type": "markdown",
      "source": [
        "#### 4.2.1. Trainset"
      ],
      "metadata": {
        "id": "28ZBHw_mj6Oi"
      }
    },
    {
      "cell_type": "code",
      "source": [
        "df['categori'].value_counts()"
      ],
      "metadata": {
        "colab": {
          "base_uri": "https://localhost:8080/"
        },
        "id": "-yN6wcl0kKfz",
        "outputId": "7aa08997-2e35-44ad-f89d-2ba12f75d28d"
      },
      "execution_count": null,
      "outputs": [
        {
          "output_type": "execute_result",
          "data": {
            "text/plain": [
              "BAIK           1076\n",
              "TIDAK SEHAT     190\n",
              "Name: categori, dtype: int64"
            ]
          },
          "metadata": {},
          "execution_count": 19
        }
      ]
    },
    {
      "cell_type": "code",
      "source": [
        "impute_1 = int(df[df.categori == \"BAIK\"].pm10.mean())\n",
        "impute_0 = int(df[df.categori == \"TIDAK SEHAT\"].pm10.mean())\n"
      ],
      "metadata": {
        "id": "DPzRfFq7jv4k"
      },
      "execution_count": null,
      "outputs": []
    },
    {
      "cell_type": "code",
      "source": [
        "impute_1, impute_0"
      ],
      "metadata": {
        "colab": {
          "base_uri": "https://localhost:8080/"
        },
        "id": "M8B863M_j8l-",
        "outputId": "d6d49319-4faf-4cbc-aed9-41d803889a64"
      },
      "execution_count": null,
      "outputs": [
        {
          "output_type": "execute_result",
          "data": {
            "text/plain": [
              "(48, 70)"
            ]
          },
          "metadata": {},
          "execution_count": 21
        }
      ]
    },
    {
      "cell_type": "code",
      "source": [
        "params = params_updater(\"missing_value_pm10\", {\"BAIK\": 48, \"TIDAK SEHAT\": 70}, params, params_dir)"
      ],
      "metadata": {
        "id": "tYEoRpMTkUDD"
      },
      "execution_count": null,
      "outputs": []
    },
    {
      "cell_type": "code",
      "source": [
        "df[df.categori == \"BAIK\"].pm10.isnull().sum(), df[df.categori == \"TIDAK SEHAT\"].pm10.isnull().sum()"
      ],
      "metadata": {
        "colab": {
          "base_uri": "https://localhost:8080/"
        },
        "id": "ItsqjHfQkfrx",
        "outputId": "b5e3f696-3fe2-40e5-b7c3-165578c544de"
      },
      "execution_count": null,
      "outputs": [
        {
          "output_type": "execute_result",
          "data": {
            "text/plain": [
              "(29, 6)"
            ]
          },
          "metadata": {},
          "execution_count": 23
        }
      ]
    },
    {
      "cell_type": "code",
      "source": [
        "df.loc[df[(df.categori == \"BAIK\") & (df.pm10.isnull() == True)].index, \"pm10\"] = impute_1\n",
        "df.loc[df[(df.categori == \"TIDAK SEHAT\") & (df.pm10.isnull() == True)].index, \"pm10\"] = impute_0"
      ],
      "metadata": {
        "id": "Bk-vV6vTkqb1"
      },
      "execution_count": null,
      "outputs": []
    },
    {
      "cell_type": "code",
      "source": [
        "df[df.categori == \"BAIK\"].pm10.isnull().sum(), df[df.categori == \"TIDAK SEHAT\"].pm10.isnull().sum()"
      ],
      "metadata": {
        "colab": {
          "base_uri": "https://localhost:8080/"
        },
        "id": "Jg1FRur7k0sY",
        "outputId": "a87f7396-0024-42e7-f91f-867334f5db8c"
      },
      "execution_count": null,
      "outputs": [
        {
          "output_type": "execute_result",
          "data": {
            "text/plain": [
              "(0, 0)"
            ]
          },
          "metadata": {},
          "execution_count": 25
        }
      ]
    },
    {
      "cell_type": "markdown",
      "source": [
        "#### 4.2.2. Validset"
      ],
      "metadata": {
        "id": "XeBX38LZk6Qr"
      }
    },
    {
      "cell_type": "code",
      "source": [
        "valid_set[valid_set.categori == \"BAIK\"].pm10.isnull().sum(), valid_set[valid_set.categori == \"TIDAK SEHAT\"].pm10.isnull().sum()"
      ],
      "metadata": {
        "colab": {
          "base_uri": "https://localhost:8080/"
        },
        "id": "dRnoUQDtk3r4",
        "outputId": "c82391d1-af6a-4e11-f0bc-62be3476245d"
      },
      "execution_count": null,
      "outputs": [
        {
          "output_type": "execute_result",
          "data": {
            "text/plain": [
              "(7, 2)"
            ]
          },
          "metadata": {},
          "execution_count": 26
        }
      ]
    },
    {
      "cell_type": "code",
      "source": [
        "valid_set.loc[valid_set[(valid_set.categori == \"BAIK\") & (valid_set.pm10.isnull() == True)].index, \"pm10\"] = impute_1\n",
        "valid_set.loc[valid_set[(valid_set.categori == \"TIDAK SEHAT\") & (valid_set.pm10.isnull() == True)].index, \"pm10\"] = impute_0"
      ],
      "metadata": {
        "id": "zrL65NYWk9CP"
      },
      "execution_count": null,
      "outputs": []
    },
    {
      "cell_type": "code",
      "source": [
        "valid_set[valid_set.categori == \"BAIK\"].pm10.isnull().sum(), valid_set[valid_set.categori == \"TIDAK SEHAT\"].pm10.isnull().sum()"
      ],
      "metadata": {
        "colab": {
          "base_uri": "https://localhost:8080/"
        },
        "id": "YKNItI5WlAKe",
        "outputId": "1921b3cb-9ed8-4583-d9d9-bead0f2c7cbb"
      },
      "execution_count": null,
      "outputs": [
        {
          "output_type": "execute_result",
          "data": {
            "text/plain": [
              "(0, 0)"
            ]
          },
          "metadata": {},
          "execution_count": 28
        }
      ]
    },
    {
      "cell_type": "markdown",
      "source": [
        "#### 4.2.3. Testset"
      ],
      "metadata": {
        "id": "TV1SohO-lEGy"
      }
    },
    {
      "cell_type": "code",
      "source": [
        "test_set[test_set.categori == \"BAIK\"].pm10.isnull().sum(), test_set[test_set.categori == \"TIDAK SEHAT\"].pm10.isnull().sum()"
      ],
      "metadata": {
        "colab": {
          "base_uri": "https://localhost:8080/"
        },
        "id": "o_OlLXHLlCZs",
        "outputId": "81bced48-39ed-484b-af6d-d56ae5590a1a"
      },
      "execution_count": null,
      "outputs": [
        {
          "output_type": "execute_result",
          "data": {
            "text/plain": [
              "(5, 3)"
            ]
          },
          "metadata": {},
          "execution_count": 29
        }
      ]
    },
    {
      "cell_type": "code",
      "source": [
        "test_set.loc[test_set[(test_set.categori == \"BAIK\") & (test_set.pm10.isnull() == True)].index, \"pm10\"] = impute_1\n",
        "test_set.loc[test_set[(test_set.categori == \"TIDAK SEHAT\") & (test_set.pm10.isnull() == True)].index, \"pm10\"] = impute_0"
      ],
      "metadata": {
        "id": "nMITsz47lFsX"
      },
      "execution_count": null,
      "outputs": []
    },
    {
      "cell_type": "code",
      "source": [
        "test_set[test_set.categori == \"BAIK\"].pm10.isnull().sum(), test_set[test_set.categori == \"TIDAK SEHAT\"].pm10.isnull().sum()"
      ],
      "metadata": {
        "colab": {
          "base_uri": "https://localhost:8080/"
        },
        "id": "YsFLy4SAlHFh",
        "outputId": "0853abc4-9270-4e44-e87e-ebe2e6ef8321"
      },
      "execution_count": null,
      "outputs": [
        {
          "output_type": "execute_result",
          "data": {
            "text/plain": [
              "(0, 0)"
            ]
          },
          "metadata": {},
          "execution_count": 31
        }
      ]
    },
    {
      "cell_type": "markdown",
      "source": [
        "### 4.3. Handling in PM25"
      ],
      "metadata": {
        "id": "evq8t0relPUR"
      }
    },
    {
      "cell_type": "markdown",
      "source": [
        "#### 4.3.1. Trainset"
      ],
      "metadata": {
        "id": "kb9WTubJlQ5J"
      }
    },
    {
      "cell_type": "code",
      "source": [
        "impute_1 = int(df[df.categori == \"BAIK\"].pm25.mean())\n",
        "impute_0 = int(df[df.categori == \"TIDAK SEHAT\"].pm25.mean())"
      ],
      "metadata": {
        "id": "rWeTAB5GlMPz"
      },
      "execution_count": null,
      "outputs": []
    },
    {
      "cell_type": "code",
      "source": [
        "impute_1, impute_0"
      ],
      "metadata": {
        "colab": {
          "base_uri": "https://localhost:8080/"
        },
        "id": "BDZYE0vvlUBk",
        "outputId": "7b7bf854-0c26-4cb9-a129-7470347050d7"
      },
      "execution_count": null,
      "outputs": [
        {
          "output_type": "execute_result",
          "data": {
            "text/plain": [
              "(71, 113)"
            ]
          },
          "metadata": {},
          "execution_count": 33
        }
      ]
    },
    {
      "cell_type": "code",
      "source": [
        "params = params_updater(\"missing_value_pm25\", {\"BAIK\": 71, \"TIDAK SEHAT\": 113}, params, params_dir)"
      ],
      "metadata": {
        "id": "dRUru7gSlchb"
      },
      "execution_count": null,
      "outputs": []
    },
    {
      "cell_type": "code",
      "source": [
        "df[df.categori == \"BAIK\"].pm25.isnull().sum(), df[df.categori == \"TIDAK SEHAT\"].pm25.isnull().sum()"
      ],
      "metadata": {
        "colab": {
          "base_uri": "https://localhost:8080/"
        },
        "id": "tdTGf_vGlvEX",
        "outputId": "9435f3f7-2d18-4c9b-adbd-5b7895967c19"
      },
      "execution_count": null,
      "outputs": [
        {
          "output_type": "execute_result",
          "data": {
            "text/plain": [
              "(55, 0)"
            ]
          },
          "metadata": {},
          "execution_count": 35
        }
      ]
    },
    {
      "cell_type": "code",
      "source": [
        "df.loc[df[(df.categori == \"BAIK\") & (df.pm25.isnull() == True)].index, \"pm25\"] = impute_1\n",
        "df.loc[df[(df.categori == \"TIDAK SEHAT\") & (df.pm25.isnull() == True)].index, \"pm25\"] = impute_0"
      ],
      "metadata": {
        "id": "acZQyF7Vl4KX"
      },
      "execution_count": null,
      "outputs": []
    },
    {
      "cell_type": "code",
      "source": [
        "df[df.categori == \"BAIK\"].pm10.isnull().sum(), df[df.categori == \"TIDAK SEHAT\"].pm10.isnull().sum()"
      ],
      "metadata": {
        "colab": {
          "base_uri": "https://localhost:8080/"
        },
        "id": "cMhh1TTGl_ar",
        "outputId": "7898e4c9-eb67-4175-917b-7fa7ff010c01"
      },
      "execution_count": null,
      "outputs": [
        {
          "output_type": "execute_result",
          "data": {
            "text/plain": [
              "(0, 0)"
            ]
          },
          "metadata": {},
          "execution_count": 37
        }
      ]
    },
    {
      "cell_type": "markdown",
      "source": [
        "#### 4.3.2. Validset"
      ],
      "metadata": {
        "id": "BcUqn8x3mEbh"
      }
    },
    {
      "cell_type": "code",
      "source": [
        "valid_set[valid_set.categori == \"BAIK\"].pm25.isnull().sum(), valid_set[valid_set.categori == \"TIDAK SEHAT\"].pm25.isnull().sum()"
      ],
      "metadata": {
        "colab": {
          "base_uri": "https://localhost:8080/"
        },
        "id": "AwP2rpDEmC5D",
        "outputId": "1ed6e3b1-6b57-45a9-ba68-bbb7bb10f7ef"
      },
      "execution_count": null,
      "outputs": [
        {
          "output_type": "execute_result",
          "data": {
            "text/plain": [
              "(14, 0)"
            ]
          },
          "metadata": {},
          "execution_count": 38
        }
      ]
    },
    {
      "cell_type": "code",
      "source": [
        "valid_set.loc[valid_set[(valid_set.categori == \"BAIK\") & (valid_set.pm25.isnull() == True)].index, \"pm25\"] = impute_1\n",
        "valid_set.loc[valid_set[(valid_set.categori == \"TIDAK SEHAT\") & (valid_set.pm25.isnull() == True)].index, \"pm25\"] = impute_0"
      ],
      "metadata": {
        "id": "vcppzez6mRP0"
      },
      "execution_count": null,
      "outputs": []
    },
    {
      "cell_type": "code",
      "source": [
        "df[df.categori == \"BAIK\"].pm10.isnull().sum(), df[df.categori == \"TIDAK SEHAT\"].pm10.isnull().sum()"
      ],
      "metadata": {
        "colab": {
          "base_uri": "https://localhost:8080/"
        },
        "id": "beJx4_tZmU2a",
        "outputId": "95bdf7e6-0881-4cd8-97f2-498519b01feb"
      },
      "execution_count": null,
      "outputs": [
        {
          "output_type": "execute_result",
          "data": {
            "text/plain": [
              "(0, 0)"
            ]
          },
          "metadata": {},
          "execution_count": 40
        }
      ]
    },
    {
      "cell_type": "markdown",
      "source": [
        "#### 4.3.3. Testset"
      ],
      "metadata": {
        "id": "rZOOoQxKmZiB"
      }
    },
    {
      "cell_type": "code",
      "source": [
        "test_set[test_set.categori == \"BAIK\"].pm25.isnull().sum(), test_set[test_set.categori == \"TIDAK SEHAT\"].pm25.isnull().sum()"
      ],
      "metadata": {
        "colab": {
          "base_uri": "https://localhost:8080/"
        },
        "id": "VAz7Luf1mXx3",
        "outputId": "546554eb-f15b-4ef0-d526-30f38a759fcf"
      },
      "execution_count": null,
      "outputs": [
        {
          "output_type": "execute_result",
          "data": {
            "text/plain": [
              "(15, 0)"
            ]
          },
          "metadata": {},
          "execution_count": 41
        }
      ]
    },
    {
      "cell_type": "code",
      "source": [
        "test_set.loc[test_set[(test_set.categori == \"BAIK\") & (test_set.pm25.isnull() == True)].index, \"pm25\"] = impute_1\n",
        "test_set.loc[test_set[(test_set.categori == \"TIDAK SEHAT\") & (test_set.pm25.isnull() == True)].index, \"pm25\"] = impute_0"
      ],
      "metadata": {
        "id": "bbNHCE8Ombx5"
      },
      "execution_count": null,
      "outputs": []
    },
    {
      "cell_type": "code",
      "source": [
        "test_set[test_set.categori == \"BAIK\"].pm10.isnull().sum(), test_set[test_set.categori == \"TIDAK SEHAT\"].pm10.isnull().sum()"
      ],
      "metadata": {
        "colab": {
          "base_uri": "https://localhost:8080/"
        },
        "id": "8EK27OngmeOE",
        "outputId": "c07a4333-4d65-45ce-d5f9-8c6e09ffe1bd"
      },
      "execution_count": null,
      "outputs": [
        {
          "output_type": "execute_result",
          "data": {
            "text/plain": [
              "(0, 0)"
            ]
          },
          "metadata": {},
          "execution_count": 43
        }
      ]
    },
    {
      "cell_type": "markdown",
      "source": [
        "### 4.4. Handling in SO2, CO, O3, dan NO2"
      ],
      "metadata": {
        "id": "6fYcAbr5mh9E"
      }
    },
    {
      "cell_type": "code",
      "source": [
        "impute_so2 = int(df.so2.mean())\n",
        "impute_co = int(df.co.median())\n",
        "impute_o3 = int(df.o3.median())\n",
        "impute_no2 = int(df.no2.median())\n"
      ],
      "metadata": {
        "id": "F_Og_gRGmfs_"
      },
      "execution_count": null,
      "outputs": []
    },
    {
      "cell_type": "code",
      "source": [
        "impute_values = {\"so2\" : impute_so2, \"co\" : impute_co, \"o3\" : impute_o3, \"no2\" : impute_no2}"
      ],
      "metadata": {
        "id": "8vvxVOmqmlV3"
      },
      "execution_count": null,
      "outputs": []
    },
    {
      "cell_type": "code",
      "source": [
        "impute_values"
      ],
      "metadata": {
        "colab": {
          "base_uri": "https://localhost:8080/"
        },
        "id": "kdOQyDdSmml-",
        "outputId": "1eaae48b-8cb9-4b69-81ce-8ea66a4b8ebb"
      },
      "execution_count": null,
      "outputs": [
        {
          "output_type": "execute_result",
          "data": {
            "text/plain": [
              "{'so2': 35, 'co': 11, 'o3': 28, 'no2': 18}"
            ]
          },
          "metadata": {},
          "execution_count": 46
        }
      ]
    },
    {
      "cell_type": "code",
      "source": [
        "params = params_updater(\"missing_value_so2\", 35, params, params_dir)\n",
        "params = params_updater(\"missing_value_co\", 11, params, params_dir)\n",
        "params = params_updater(\"missing_value_o3\", 28, params, params_dir)\n",
        "params = params_updater(\"missing_value_no2\", 18, params, params_dir)"
      ],
      "metadata": {
        "id": "hcH5WaqcmnZt"
      },
      "execution_count": null,
      "outputs": []
    },
    {
      "cell_type": "code",
      "source": [
        "df.isnull().sum()"
      ],
      "metadata": {
        "colab": {
          "base_uri": "https://localhost:8080/"
        },
        "id": "KQbrb1EXmuqe",
        "outputId": "862ad2e1-e785-4396-ad60-e78c10191ca7"
      },
      "execution_count": null,
      "outputs": [
        {
          "output_type": "execute_result",
          "data": {
            "text/plain": [
              "stasiun      0\n",
              "pm10         0\n",
              "pm25         0\n",
              "so2         75\n",
              "co          11\n",
              "o3          35\n",
              "no2         14\n",
              "categori     0\n",
              "dtype: int64"
            ]
          },
          "metadata": {},
          "execution_count": 48
        }
      ]
    },
    {
      "cell_type": "code",
      "source": [
        "df.fillna(value = impute_values, inplace = True)"
      ],
      "metadata": {
        "id": "s-XiU7z4mwCA"
      },
      "execution_count": null,
      "outputs": []
    },
    {
      "cell_type": "code",
      "source": [
        "df.isnull().sum()"
      ],
      "metadata": {
        "colab": {
          "base_uri": "https://localhost:8080/"
        },
        "id": "lOVqb5A2mxrx",
        "outputId": "62aa6a0b-0a39-4c0c-8bac-6bdfeff6a129"
      },
      "execution_count": null,
      "outputs": [
        {
          "output_type": "execute_result",
          "data": {
            "text/plain": [
              "stasiun     0\n",
              "pm10        0\n",
              "pm25        0\n",
              "so2         0\n",
              "co          0\n",
              "o3          0\n",
              "no2         0\n",
              "categori    0\n",
              "dtype: int64"
            ]
          },
          "metadata": {},
          "execution_count": 50
        }
      ]
    },
    {
      "cell_type": "markdown",
      "source": [
        "#### 4.4.2. Validset"
      ],
      "metadata": {
        "id": "Tdn1gqZ5m15-"
      }
    },
    {
      "cell_type": "code",
      "source": [
        "valid_set.isnull().sum()"
      ],
      "metadata": {
        "colab": {
          "base_uri": "https://localhost:8080/"
        },
        "id": "cLSoFkrjmzec",
        "outputId": "61727953-3f3a-41e1-b702-f75776d956a0"
      },
      "execution_count": null,
      "outputs": [
        {
          "output_type": "execute_result",
          "data": {
            "text/plain": [
              "stasiun      0\n",
              "pm10         0\n",
              "pm25         0\n",
              "so2         15\n",
              "co           3\n",
              "o3           9\n",
              "no2          2\n",
              "categori     0\n",
              "dtype: int64"
            ]
          },
          "metadata": {},
          "execution_count": 51
        }
      ]
    },
    {
      "cell_type": "code",
      "source": [
        "valid_set.fillna(value = impute_values, inplace = True)"
      ],
      "metadata": {
        "id": "ClnFIIVsm2z8"
      },
      "execution_count": null,
      "outputs": []
    },
    {
      "cell_type": "code",
      "source": [
        "valid_set.isnull().sum()"
      ],
      "metadata": {
        "colab": {
          "base_uri": "https://localhost:8080/"
        },
        "id": "3TfIadbGm35r",
        "outputId": "eef16055-8b69-41db-8bcd-ad24d19b1091"
      },
      "execution_count": null,
      "outputs": [
        {
          "output_type": "execute_result",
          "data": {
            "text/plain": [
              "stasiun     0\n",
              "pm10        0\n",
              "pm25        0\n",
              "so2         0\n",
              "co          0\n",
              "o3          0\n",
              "no2         0\n",
              "categori    0\n",
              "dtype: int64"
            ]
          },
          "metadata": {},
          "execution_count": 53
        }
      ]
    },
    {
      "cell_type": "markdown",
      "source": [
        "#### 4.4.3. Testset"
      ],
      "metadata": {
        "id": "9pdBtie2m7WS"
      }
    },
    {
      "cell_type": "code",
      "source": [
        "test_set.fillna(value = impute_values, inplace = True)"
      ],
      "metadata": {
        "id": "GEfkbfzAm5wL"
      },
      "execution_count": null,
      "outputs": []
    },
    {
      "cell_type": "code",
      "source": [
        "test_set.isnull().sum()"
      ],
      "metadata": {
        "colab": {
          "base_uri": "https://localhost:8080/"
        },
        "id": "9PA8e_ZWm8mp",
        "outputId": "44c3c88d-e034-4c9e-8163-8042bb859921"
      },
      "execution_count": null,
      "outputs": [
        {
          "output_type": "execute_result",
          "data": {
            "text/plain": [
              "stasiun     0\n",
              "pm10        0\n",
              "pm25        0\n",
              "so2         0\n",
              "co          0\n",
              "o3          0\n",
              "no2         0\n",
              "categori    0\n",
              "dtype: int64"
            ]
          },
          "metadata": {},
          "execution_count": 55
        }
      ]
    },
    {
      "cell_type": "markdown",
      "source": [
        "## 5. Encoding Stasiun"
      ],
      "metadata": {
        "id": "1RxF_5MJm-xO"
      }
    },
    {
      "cell_type": "code",
      "source": [
        "ohe_statiun = OneHotEncoder(sparse = False)"
      ],
      "metadata": {
        "id": "0VATcvYkm9VC"
      },
      "execution_count": null,
      "outputs": []
    },
    {
      "cell_type": "code",
      "source": [
        "ohe_statiun.fit(np.array(params[\"range_stasiun\"]).reshape(-1, 1))"
      ],
      "metadata": {
        "colab": {
          "base_uri": "https://localhost:8080/",
          "height": 130
        },
        "id": "mBVII7KBnGsc",
        "outputId": "9c36a395-4b16-4d64-de6e-11325384e3ca"
      },
      "execution_count": null,
      "outputs": [
        {
          "output_type": "stream",
          "name": "stderr",
          "text": [
            "/usr/local/lib/python3.10/dist-packages/sklearn/preprocessing/_encoders.py:868: FutureWarning: `sparse` was renamed to `sparse_output` in version 1.2 and will be removed in 1.4. `sparse_output` is ignored unless you leave `sparse` to its default value.\n",
            "  warnings.warn(\n"
          ]
        },
        {
          "output_type": "execute_result",
          "data": {
            "text/plain": [
              "OneHotEncoder(sparse=False, sparse_output=False)"
            ],
            "text/html": [
              "<style>#sk-container-id-1 {color: black;background-color: white;}#sk-container-id-1 pre{padding: 0;}#sk-container-id-1 div.sk-toggleable {background-color: white;}#sk-container-id-1 label.sk-toggleable__label {cursor: pointer;display: block;width: 100%;margin-bottom: 0;padding: 0.3em;box-sizing: border-box;text-align: center;}#sk-container-id-1 label.sk-toggleable__label-arrow:before {content: \"▸\";float: left;margin-right: 0.25em;color: #696969;}#sk-container-id-1 label.sk-toggleable__label-arrow:hover:before {color: black;}#sk-container-id-1 div.sk-estimator:hover label.sk-toggleable__label-arrow:before {color: black;}#sk-container-id-1 div.sk-toggleable__content {max-height: 0;max-width: 0;overflow: hidden;text-align: left;background-color: #f0f8ff;}#sk-container-id-1 div.sk-toggleable__content pre {margin: 0.2em;color: black;border-radius: 0.25em;background-color: #f0f8ff;}#sk-container-id-1 input.sk-toggleable__control:checked~div.sk-toggleable__content {max-height: 200px;max-width: 100%;overflow: auto;}#sk-container-id-1 input.sk-toggleable__control:checked~label.sk-toggleable__label-arrow:before {content: \"▾\";}#sk-container-id-1 div.sk-estimator input.sk-toggleable__control:checked~label.sk-toggleable__label {background-color: #d4ebff;}#sk-container-id-1 div.sk-label input.sk-toggleable__control:checked~label.sk-toggleable__label {background-color: #d4ebff;}#sk-container-id-1 input.sk-hidden--visually {border: 0;clip: rect(1px 1px 1px 1px);clip: rect(1px, 1px, 1px, 1px);height: 1px;margin: -1px;overflow: hidden;padding: 0;position: absolute;width: 1px;}#sk-container-id-1 div.sk-estimator {font-family: monospace;background-color: #f0f8ff;border: 1px dotted black;border-radius: 0.25em;box-sizing: border-box;margin-bottom: 0.5em;}#sk-container-id-1 div.sk-estimator:hover {background-color: #d4ebff;}#sk-container-id-1 div.sk-parallel-item::after {content: \"\";width: 100%;border-bottom: 1px solid gray;flex-grow: 1;}#sk-container-id-1 div.sk-label:hover label.sk-toggleable__label {background-color: #d4ebff;}#sk-container-id-1 div.sk-serial::before {content: \"\";position: absolute;border-left: 1px solid gray;box-sizing: border-box;top: 0;bottom: 0;left: 50%;z-index: 0;}#sk-container-id-1 div.sk-serial {display: flex;flex-direction: column;align-items: center;background-color: white;padding-right: 0.2em;padding-left: 0.2em;position: relative;}#sk-container-id-1 div.sk-item {position: relative;z-index: 1;}#sk-container-id-1 div.sk-parallel {display: flex;align-items: stretch;justify-content: center;background-color: white;position: relative;}#sk-container-id-1 div.sk-item::before, #sk-container-id-1 div.sk-parallel-item::before {content: \"\";position: absolute;border-left: 1px solid gray;box-sizing: border-box;top: 0;bottom: 0;left: 50%;z-index: -1;}#sk-container-id-1 div.sk-parallel-item {display: flex;flex-direction: column;z-index: 1;position: relative;background-color: white;}#sk-container-id-1 div.sk-parallel-item:first-child::after {align-self: flex-end;width: 50%;}#sk-container-id-1 div.sk-parallel-item:last-child::after {align-self: flex-start;width: 50%;}#sk-container-id-1 div.sk-parallel-item:only-child::after {width: 0;}#sk-container-id-1 div.sk-dashed-wrapped {border: 1px dashed gray;margin: 0 0.4em 0.5em 0.4em;box-sizing: border-box;padding-bottom: 0.4em;background-color: white;}#sk-container-id-1 div.sk-label label {font-family: monospace;font-weight: bold;display: inline-block;line-height: 1.2em;}#sk-container-id-1 div.sk-label-container {text-align: center;}#sk-container-id-1 div.sk-container {/* jupyter's `normalize.less` sets `[hidden] { display: none; }` but bootstrap.min.css set `[hidden] { display: none !important; }` so we also need the `!important` here to be able to override the default hidden behavior on the sphinx rendered scikit-learn.org. See: https://github.com/scikit-learn/scikit-learn/issues/21755 */display: inline-block !important;position: relative;}#sk-container-id-1 div.sk-text-repr-fallback {display: none;}</style><div id=\"sk-container-id-1\" class=\"sk-top-container\"><div class=\"sk-text-repr-fallback\"><pre>OneHotEncoder(sparse=False, sparse_output=False)</pre><b>In a Jupyter environment, please rerun this cell to show the HTML representation or trust the notebook. <br />On GitHub, the HTML representation is unable to render, please try loading this page with nbviewer.org.</b></div><div class=\"sk-container\" hidden><div class=\"sk-item\"><div class=\"sk-estimator sk-toggleable\"><input class=\"sk-toggleable__control sk-hidden--visually\" id=\"sk-estimator-id-1\" type=\"checkbox\" checked><label for=\"sk-estimator-id-1\" class=\"sk-toggleable__label sk-toggleable__label-arrow\">OneHotEncoder</label><div class=\"sk-toggleable__content\"><pre>OneHotEncoder(sparse=False, sparse_output=False)</pre></div></div></div></div></div>"
            ]
          },
          "metadata": {},
          "execution_count": 57
        }
      ]
    },
    {
      "cell_type": "code",
      "source": [
        "ohe_statiun.categories_"
      ],
      "metadata": {
        "colab": {
          "base_uri": "https://localhost:8080/"
        },
        "id": "aDMdmodYnHi0",
        "outputId": "b2ef1761-6b4a-47c1-c9ee-7f911e1260ef"
      },
      "execution_count": null,
      "outputs": [
        {
          "output_type": "execute_result",
          "data": {
            "text/plain": [
              "[array(['DKI1 (Bunderan HI)', 'DKI2 (Kelapa Gading)', 'DKI3 (Jagakarsa)',\n",
              "        'DKI4 (Lubang Buaya)', 'DKI5 (Kebon Jeruk) Jakarta Barat'],\n",
              "       dtype='<U32')]"
            ]
          },
          "metadata": {},
          "execution_count": 58
        }
      ]
    },
    {
      "cell_type": "code",
      "source": [
        "joblib.dump(ohe_statiun, \"ohe_stasiun.pkl\")"
      ],
      "metadata": {
        "colab": {
          "base_uri": "https://localhost:8080/"
        },
        "id": "Dwlj51UAnJeO",
        "outputId": "bedbb458-a5b6-43f5-ad6b-14c116834a47"
      },
      "execution_count": null,
      "outputs": [
        {
          "output_type": "execute_result",
          "data": {
            "text/plain": [
              "['ohe_stasiun.pkl']"
            ]
          },
          "metadata": {},
          "execution_count": 59
        }
      ]
    },
    {
      "cell_type": "markdown",
      "source": [
        "### 5.1. Trainset"
      ],
      "metadata": {
        "id": "NQX8dGNNnauc"
      }
    },
    {
      "cell_type": "code",
      "source": [
        "stasiun_features = ohe_statiun.transform(np.array(df.stasiun.to_list()).reshape(-1, 1))"
      ],
      "metadata": {
        "id": "IVnpgqd5naAL"
      },
      "execution_count": null,
      "outputs": []
    },
    {
      "cell_type": "code",
      "source": [
        "stasiun_features = pd.DataFrame(stasiun_features, columns = params[\"range_stasiun\"])"
      ],
      "metadata": {
        "id": "bfbvLw2knMDY"
      },
      "execution_count": null,
      "outputs": []
    },
    {
      "cell_type": "code",
      "source": [
        "stasiun_features.set_index(df.index, inplace = True)"
      ],
      "metadata": {
        "id": "Y4NAkcCNnf-2"
      },
      "execution_count": null,
      "outputs": []
    },
    {
      "cell_type": "code",
      "source": [
        "df = pd.concat([stasiun_features, df], axis = 1)"
      ],
      "metadata": {
        "id": "MwKMV03RnhMe"
      },
      "execution_count": null,
      "outputs": []
    },
    {
      "cell_type": "code",
      "source": [
        "df.drop(columns = \"stasiun\", inplace = True)"
      ],
      "metadata": {
        "id": "5ZWQe1vvnigz"
      },
      "execution_count": null,
      "outputs": []
    },
    {
      "cell_type": "markdown",
      "source": [
        "### 5.2. Validset"
      ],
      "metadata": {
        "id": "vaWyJv66nnP7"
      }
    },
    {
      "cell_type": "code",
      "source": [
        "stasiun_features = ohe_statiun.transform(np.array(valid_set.stasiun.to_list()).reshape(-1, 1))"
      ],
      "metadata": {
        "id": "ewU5-8S7nlyB"
      },
      "execution_count": null,
      "outputs": []
    },
    {
      "cell_type": "code",
      "source": [
        "stasiun_features = pd.DataFrame(stasiun_features, columns = params[\"range_stasiun\"])"
      ],
      "metadata": {
        "id": "FZ-QziEAoCs-"
      },
      "execution_count": null,
      "outputs": []
    },
    {
      "cell_type": "code",
      "source": [
        "stasiun_features.set_index(valid_set.index, inplace = True)"
      ],
      "metadata": {
        "id": "KKyk6hPMoDdR"
      },
      "execution_count": null,
      "outputs": []
    },
    {
      "cell_type": "code",
      "source": [
        "valid_set = pd.concat([stasiun_features, valid_set], axis = 1)"
      ],
      "metadata": {
        "id": "hKUgLqrOoEDV"
      },
      "execution_count": null,
      "outputs": []
    },
    {
      "cell_type": "code",
      "source": [
        "valid_set.drop(columns = \"stasiun\", inplace = True)"
      ],
      "metadata": {
        "id": "ktFclpC1oEpY"
      },
      "execution_count": null,
      "outputs": []
    },
    {
      "cell_type": "markdown",
      "source": [
        "### 5.3. Testset"
      ],
      "metadata": {
        "id": "QgyY-O6UoGqa"
      }
    },
    {
      "cell_type": "code",
      "source": [
        "stasiun_features = ohe_statiun.transform(np.array(test_set.stasiun.to_list()).reshape(-1, 1))"
      ],
      "metadata": {
        "id": "nwhMnz6VoFWy"
      },
      "execution_count": null,
      "outputs": []
    },
    {
      "cell_type": "code",
      "source": [
        "stasiun_features = pd.DataFrame(stasiun_features, columns = params[\"range_stasiun\"])"
      ],
      "metadata": {
        "id": "VOJart_LoJhW"
      },
      "execution_count": null,
      "outputs": []
    },
    {
      "cell_type": "code",
      "source": [
        "stasiun_features.set_index(test_set.index, inplace = True)"
      ],
      "metadata": {
        "id": "55_E6XSgoKGV"
      },
      "execution_count": null,
      "outputs": []
    },
    {
      "cell_type": "code",
      "source": [
        "test_set = pd.concat([stasiun_features, test_set], axis = 1)"
      ],
      "metadata": {
        "id": "zCVIcz5ZoK0C"
      },
      "execution_count": null,
      "outputs": []
    },
    {
      "cell_type": "code",
      "source": [
        "test_set.drop(columns = \"stasiun\", inplace = True)"
      ],
      "metadata": {
        "id": "snuNxmhJoLex"
      },
      "execution_count": null,
      "outputs": []
    },
    {
      "cell_type": "markdown",
      "source": [
        "## 6. Balancing Label"
      ],
      "metadata": {
        "id": "R64r4wPMoO_J"
      }
    },
    {
      "cell_type": "code",
      "source": [
        "sns.histplot(data = df, x = \"categori\", hue = \"categori\")"
      ],
      "metadata": {
        "colab": {
          "base_uri": "https://localhost:8080/",
          "height": 467
        },
        "id": "Wz1gOAdioPvQ",
        "outputId": "d58be2e8-da6e-4ab4-ea39-438c01537188"
      },
      "execution_count": null,
      "outputs": [
        {
          "output_type": "execute_result",
          "data": {
            "text/plain": [
              "<Axes: xlabel='categori', ylabel='Count'>"
            ]
          },
          "metadata": {},
          "execution_count": 75
        },
        {
          "output_type": "display_data",
          "data": {
            "text/plain": [
              "<Figure size 640x480 with 1 Axes>"
            ],
            "image/png": "[encoded data removed]"
          },
          "metadata": {}
        }
      ]
    },
    {
      "cell_type": "markdown",
      "source": [
        "### 6.1. Undersampling"
      ],
      "metadata": {
        "id": "yBn4805DoW9U"
      }
    },
    {
      "cell_type": "code",
      "source": [
        "rus = RandomUnderSampler(random_state = 26)"
      ],
      "metadata": {
        "id": "QcOm2T7YoRqY"
      },
      "execution_count": null,
      "outputs": []
    },
    {
      "cell_type": "code",
      "source": [
        "x_rus, y_rus = rus.fit_resample(df.drop(\"categori\", axis = 1), df.categori)"
      ],
      "metadata": {
        "id": "0d-Q9GT8oX_r"
      },
      "execution_count": null,
      "outputs": []
    },
    {
      "cell_type": "code",
      "source": [
        "df_rus = pd.concat([x_rus, y_rus], axis = 1)"
      ],
      "metadata": {
        "id": "XhOoR5UUoa_O"
      },
      "execution_count": null,
      "outputs": []
    },
    {
      "cell_type": "code",
      "source": [
        "sns.histplot(df_rus, x = \"categori\", hue = \"categori\")"
      ],
      "metadata": {
        "colab": {
          "base_uri": "https://localhost:8080/",
          "height": 467
        },
        "id": "MkedJC6locnm",
        "outputId": "b0682c65-5fe6-4001-eaa3-d49037e3aeea"
      },
      "execution_count": null,
      "outputs": [
        {
          "output_type": "execute_result",
          "data": {
            "text/plain": [
              "<Axes: xlabel='categori', ylabel='Count'>"
            ]
          },
          "metadata": {},
          "execution_count": 79
        },
        {
          "output_type": "display_data",
          "data": {
            "text/plain": [
              "<Figure size 640x480 with 1 Axes>"
            ],
            "image/png": "[encoded data removed]"
          },
          "metadata": {}
        }
      ]
    },
    {
      "cell_type": "markdown",
      "source": [
        "### 6.2. Oversampling"
      ],
      "metadata": {
        "id": "T6wLwpEnohQB"
      }
    },
    {
      "cell_type": "code",
      "source": [
        "ros = RandomOverSampler(random_state = 11)"
      ],
      "metadata": {
        "id": "xzImgrl0oeu2"
      },
      "execution_count": null,
      "outputs": []
    },
    {
      "cell_type": "code",
      "source": [
        "x_ros, y_ros = ros.fit_resample(df.drop(\"categori\", axis = 1), df.categori)"
      ],
      "metadata": {
        "id": "Lz5NHTRyojxW"
      },
      "execution_count": null,
      "outputs": []
    },
    {
      "cell_type": "code",
      "source": [
        "df_ros = pd.concat([x_ros, y_ros], axis = 1)"
      ],
      "metadata": {
        "id": "N88Mlo23olxp"
      },
      "execution_count": null,
      "outputs": []
    },
    {
      "cell_type": "code",
      "source": [
        "sns.histplot(df_ros, x = \"categori\", hue = \"categori\")"
      ],
      "metadata": {
        "colab": {
          "base_uri": "https://localhost:8080/",
          "height": 467
        },
        "id": "Kpga21PeonUf",
        "outputId": "a351a263-4701-4964-c4c8-7edcd8bd4647"
      },
      "execution_count": null,
      "outputs": [
        {
          "output_type": "execute_result",
          "data": {
            "text/plain": [
              "<Axes: xlabel='categori', ylabel='Count'>"
            ]
          },
          "metadata": {},
          "execution_count": 83
        },
        {
          "output_type": "display_data",
          "data": {
            "text/plain": [
              "<Figure size 640x480 with 1 Axes>"
            ],
            "image/png": "[encoded data removed]"
          },
          "metadata": {}
        }
      ]
    },
    {
      "cell_type": "markdown",
      "source": [
        "### 6.3. SMOTE"
      ],
      "metadata": {
        "id": "JgIaSYVuos7B"
      }
    },
    {
      "cell_type": "code",
      "source": [
        "sm = SMOTE(random_state = 112)"
      ],
      "metadata": {
        "id": "Mo1LHZ8HooIh"
      },
      "execution_count": null,
      "outputs": []
    },
    {
      "cell_type": "code",
      "source": [
        "x_sm, y_sm = sm.fit_resample(df.drop(\"categori\", axis = 1), df.categori)"
      ],
      "metadata": {
        "id": "6rD0NQJXot4U"
      },
      "execution_count": null,
      "outputs": []
    },
    {
      "cell_type": "code",
      "source": [
        "df_sm = pd.concat([x_sm, y_sm], axis = 1)"
      ],
      "metadata": {
        "id": "qPosdCkQovMa"
      },
      "execution_count": null,
      "outputs": []
    },
    {
      "cell_type": "code",
      "source": [
        "sns.histplot(df_ros, x = \"categori\", hue = \"categori\")"
      ],
      "metadata": {
        "colab": {
          "base_uri": "https://localhost:8080/",
          "height": 467
        },
        "id": "M3meAUljowWf",
        "outputId": "fda3a9d0-31f2-41a3-ea78-692e969cadd8"
      },
      "execution_count": null,
      "outputs": [
        {
          "output_type": "execute_result",
          "data": {
            "text/plain": [
              "<Axes: xlabel='categori', ylabel='Count'>"
            ]
          },
          "metadata": {},
          "execution_count": 87
        },
        {
          "output_type": "display_data",
          "data": {
            "text/plain": [
              "<Figure size 640x480 with 1 Axes>"
            ],
            "image/png": "[encoded data removed]"
          },
          "metadata": {}
        }
      ]
    },
    {
      "cell_type": "markdown",
      "source": [
        "## 7. Label Encoding"
      ],
      "metadata": {
        "id": "6hstbMlbo4ti"
      }
    },
    {
      "cell_type": "code",
      "source": [
        "le_categori = LabelEncoder()"
      ],
      "metadata": {
        "id": "hbBRTaKvo5gL"
      },
      "execution_count": null,
      "outputs": []
    },
    {
      "cell_type": "code",
      "source": [
        "le_categori.fit(params[\"label_categories_new\"])"
      ],
      "metadata": {
        "colab": {
          "base_uri": "https://localhost:8080/",
          "height": 74
        },
        "id": "8X9-Sj04o8s_",
        "outputId": "7dbc036c-288d-41fb-bfcb-cf6a0fb00ee1"
      },
      "execution_count": null,
      "outputs": [
        {
          "output_type": "execute_result",
          "data": {
            "text/plain": [
              "LabelEncoder()"
            ],
            "text/html": [
              "<style>#sk-container-id-3 {color: black;background-color: white;}#sk-container-id-3 pre{padding: 0;}#sk-container-id-3 div.sk-toggleable {background-color: white;}#sk-container-id-3 label.sk-toggleable__label {cursor: pointer;display: block;width: 100%;margin-bottom: 0;padding: 0.3em;box-sizing: border-box;text-align: center;}#sk-container-id-3 label.sk-toggleable__label-arrow:before {content: \"▸\";float: left;margin-right: 0.25em;color: #696969;}#sk-container-id-3 label.sk-toggleable__label-arrow:hover:before {color: black;}#sk-container-id-3 div.sk-estimator:hover label.sk-toggleable__label-arrow:before {color: black;}#sk-container-id-3 div.sk-toggleable__content {max-height: 0;max-width: 0;overflow: hidden;text-align: left;background-color: #f0f8ff;}#sk-container-id-3 div.sk-toggleable__content pre {margin: 0.2em;color: black;border-radius: 0.25em;background-color: #f0f8ff;}#sk-container-id-3 input.sk-toggleable__control:checked~div.sk-toggleable__content {max-height: 200px;max-width: 100%;overflow: auto;}#sk-container-id-3 input.sk-toggleable__control:checked~label.sk-toggleable__label-arrow:before {content: \"▾\";}#sk-container-id-3 div.sk-estimator input.sk-toggleable__control:checked~label.sk-toggleable__label {background-color: #d4ebff;}#sk-container-id-3 div.sk-label input.sk-toggleable__control:checked~label.sk-toggleable__label {background-color: #d4ebff;}#sk-container-id-3 input.sk-hidden--visually {border: 0;clip: rect(1px 1px 1px 1px);clip: rect(1px, 1px, 1px, 1px);height: 1px;margin: -1px;overflow: hidden;padding: 0;position: absolute;width: 1px;}#sk-container-id-3 div.sk-estimator {font-family: monospace;background-color: #f0f8ff;border: 1px dotted black;border-radius: 0.25em;box-sizing: border-box;margin-bottom: 0.5em;}#sk-container-id-3 div.sk-estimator:hover {background-color: #d4ebff;}#sk-container-id-3 div.sk-parallel-item::after {content: \"\";width: 100%;border-bottom: 1px solid gray;flex-grow: 1;}#sk-container-id-3 div.sk-label:hover label.sk-toggleable__label {background-color: #d4ebff;}#sk-container-id-3 div.sk-serial::before {content: \"\";position: absolute;border-left: 1px solid gray;box-sizing: border-box;top: 0;bottom: 0;left: 50%;z-index: 0;}#sk-container-id-3 div.sk-serial {display: flex;flex-direction: column;align-items: center;background-color: white;padding-right: 0.2em;padding-left: 0.2em;position: relative;}#sk-container-id-3 div.sk-item {position: relative;z-index: 1;}#sk-container-id-3 div.sk-parallel {display: flex;align-items: stretch;justify-content: center;background-color: white;position: relative;}#sk-container-id-3 div.sk-item::before, #sk-container-id-3 div.sk-parallel-item::before {content: \"\";position: absolute;border-left: 1px solid gray;box-sizing: border-box;top: 0;bottom: 0;left: 50%;z-index: -1;}#sk-container-id-3 div.sk-parallel-item {display: flex;flex-direction: column;z-index: 1;position: relative;background-color: white;}#sk-container-id-3 div.sk-parallel-item:first-child::after {align-self: flex-end;width: 50%;}#sk-container-id-3 div.sk-parallel-item:last-child::after {align-self: flex-start;width: 50%;}#sk-container-id-3 div.sk-parallel-item:only-child::after {width: 0;}#sk-container-id-3 div.sk-dashed-wrapped {border: 1px dashed gray;margin: 0 0.4em 0.5em 0.4em;box-sizing: border-box;padding-bottom: 0.4em;background-color: white;}#sk-container-id-3 div.sk-label label {font-family: monospace;font-weight: bold;display: inline-block;line-height: 1.2em;}#sk-container-id-3 div.sk-label-container {text-align: center;}#sk-container-id-3 div.sk-container {/* jupyter's `normalize.less` sets `[hidden] { display: none; }` but bootstrap.min.css set `[hidden] { display: none !important; }` so we also need the `!important` here to be able to override the default hidden behavior on the sphinx rendered scikit-learn.org. See: https://github.com/scikit-learn/scikit-learn/issues/21755 */display: inline-block !important;position: relative;}#sk-container-id-3 div.sk-text-repr-fallback {display: none;}</style><div id=\"sk-container-id-3\" class=\"sk-top-container\"><div class=\"sk-text-repr-fallback\"><pre>LabelEncoder()</pre><b>In a Jupyter environment, please rerun this cell to show the HTML representation or trust the notebook. <br />On GitHub, the HTML representation is unable to render, please try loading this page with nbviewer.org.</b></div><div class=\"sk-container\" hidden><div class=\"sk-item\"><div class=\"sk-estimator sk-toggleable\"><input class=\"sk-toggleable__control sk-hidden--visually\" id=\"sk-estimator-id-3\" type=\"checkbox\" checked><label for=\"sk-estimator-id-3\" class=\"sk-toggleable__label sk-toggleable__label-arrow\">LabelEncoder</label><div class=\"sk-toggleable__content\"><pre>LabelEncoder()</pre></div></div></div></div></div>"
            ]
          },
          "metadata": {},
          "execution_count": 101
        }
      ]
    },
    {
      "cell_type": "code",
      "source": [
        "joblib.dump(le_categori, \"le_categori.pkl\")"
      ],
      "metadata": {
        "colab": {
          "base_uri": "https://localhost:8080/"
        },
        "id": "R-Robx2Ho90m",
        "outputId": "405c19d4-3fd9-47cf-be9b-0a4087053348"
      },
      "execution_count": null,
      "outputs": [
        {
          "output_type": "execute_result",
          "data": {
            "text/plain": [
              "['le_categori.pkl']"
            ]
          },
          "metadata": {},
          "execution_count": 102
        }
      ]
    },
    {
      "cell_type": "code",
      "source": [
        "params[\"label_categories_new\"]"
      ],
      "metadata": {
        "colab": {
          "base_uri": "https://localhost:8080/"
        },
        "id": "wzXyyacxpAF2",
        "outputId": "9e4e3e97-00f3-43f4-e895-677a8f32a487"
      },
      "execution_count": null,
      "outputs": [
        {
          "output_type": "execute_result",
          "data": {
            "text/plain": [
              "['BAIK', 'TIDAK SEHAT']"
            ]
          },
          "metadata": {},
          "execution_count": 103
        }
      ]
    },
    {
      "cell_type": "markdown",
      "source": [
        "### 7.1. Undersampling set"
      ],
      "metadata": {
        "id": "BIaCIYL1qLmW"
      }
    },
    {
      "cell_type": "code",
      "source": [
        "list(y_rus.unique()) == params[\"label_categories_new\"]"
      ],
      "metadata": {
        "colab": {
          "base_uri": "https://localhost:8080/"
        },
        "id": "kFDD_I1rp4nJ",
        "outputId": "e7ba4294-7229-4aaa-9ed2-47795e33a737"
      },
      "execution_count": null,
      "outputs": [
        {
          "output_type": "execute_result",
          "data": {
            "text/plain": [
              "True"
            ]
          },
          "metadata": {},
          "execution_count": 104
        }
      ]
    },
    {
      "cell_type": "code",
      "source": [
        "y_rus = le_categori.transform(y_rus)"
      ],
      "metadata": {
        "id": "iFoY7kkFqNJs"
      },
      "execution_count": null,
      "outputs": []
    },
    {
      "cell_type": "markdown",
      "source": [
        "### 7.2. Oversampling set"
      ],
      "metadata": {
        "id": "bwKSdT_rqQLX"
      }
    },
    {
      "cell_type": "code",
      "source": [
        "list(y_ros.unique()) == params[\"label_categories_new\"]"
      ],
      "metadata": {
        "colab": {
          "base_uri": "https://localhost:8080/"
        },
        "id": "QIPst_zuqOY3",
        "outputId": "e0775e2d-90b7-4c24-95c5-57cb94e892d5"
      },
      "execution_count": null,
      "outputs": [
        {
          "output_type": "execute_result",
          "data": {
            "text/plain": [
              "True"
            ]
          },
          "metadata": {},
          "execution_count": 106
        }
      ]
    },
    {
      "cell_type": "code",
      "source": [
        "y_ros = le_categori.transform(y_ros)"
      ],
      "metadata": {
        "id": "2T2vojCcqR8t"
      },
      "execution_count": null,
      "outputs": []
    },
    {
      "cell_type": "markdown",
      "source": [
        "#### 7.3. SMOTE"
      ],
      "metadata": {
        "id": "FUbVTVL6qnRM"
      }
    },
    {
      "cell_type": "code",
      "source": [
        "list(y_sm.unique()) == params[\"label_categories_new\"]"
      ],
      "metadata": {
        "colab": {
          "base_uri": "https://localhost:8080/"
        },
        "id": "J4Pe9yoGqj6g",
        "outputId": "f0fb448a-af64-44d6-c34a-59d437c654a0"
      },
      "execution_count": null,
      "outputs": [
        {
          "output_type": "execute_result",
          "data": {
            "text/plain": [
              "True"
            ]
          },
          "metadata": {},
          "execution_count": 108
        }
      ]
    },
    {
      "cell_type": "code",
      "source": [
        "y_sm = le_categori.transform(y_sm)"
      ],
      "metadata": {
        "id": "WuX12yICqo6Z"
      },
      "execution_count": null,
      "outputs": []
    },
    {
      "cell_type": "markdown",
      "source": [
        "#### 7.4. Validation Set"
      ],
      "metadata": {
        "id": "k5FEThvlqupk"
      }
    },
    {
      "cell_type": "code",
      "source": [
        "len(set(valid_set.categori.unique()) - set(params[\"label_categories_new\"])) == 0"
      ],
      "metadata": {
        "colab": {
          "base_uri": "https://localhost:8080/"
        },
        "id": "OlfNSTLmqtIs",
        "outputId": "861ac83b-a31a-48c2-c95f-743c10fb838d"
      },
      "execution_count": null,
      "outputs": [
        {
          "output_type": "execute_result",
          "data": {
            "text/plain": [
              "True"
            ]
          },
          "metadata": {},
          "execution_count": 110
        }
      ]
    },
    {
      "cell_type": "code",
      "source": [
        "valid_set.categori = le_categori.transform(valid_set.categori)"
      ],
      "metadata": {
        "id": "j3XLWQ2iqwJD"
      },
      "execution_count": null,
      "outputs": []
    },
    {
      "cell_type": "markdown",
      "source": [
        "#### 7.5. Test Set"
      ],
      "metadata": {
        "id": "prP3xyqxqzsD"
      }
    },
    {
      "cell_type": "code",
      "source": [
        "len(set(test_set.categori.unique()) - set(params[\"label_categories_new\"])) == 0"
      ],
      "metadata": {
        "colab": {
          "base_uri": "https://localhost:8080/"
        },
        "id": "5dQEMjFuqy3b",
        "outputId": "df885b69-66ed-4cb0-dc87-af364c871dad"
      },
      "execution_count": null,
      "outputs": [
        {
          "output_type": "execute_result",
          "data": {
            "text/plain": [
              "True"
            ]
          },
          "metadata": {},
          "execution_count": 112
        }
      ]
    },
    {
      "cell_type": "code",
      "source": [
        "test_set.categori = le_categori.transform(test_set.categori)"
      ],
      "metadata": {
        "id": "cVkgaELyqxJV"
      },
      "execution_count": null,
      "outputs": []
    },
    {
      "cell_type": "markdown",
      "source": [
        "## 8. Dump Data Training"
      ],
      "metadata": {
        "id": "NJU3z7Phq-pr"
      }
    },
    {
      "cell_type": "code",
      "source": [
        "joblib.dump(x_rus, \"/content/processed/x_rus.pkl\")\n",
        "joblib.dump(y_rus, \"/content/processed/y_rus.pkl\")\n",
        "\n",
        "joblib.dump(x_ros, \"/content/processed/x_ros.pkl\")\n",
        "joblib.dump(y_ros, \"/content/processed/y_ros.pkl\")\n",
        "\n",
        "joblib.dump(x_sm, \"/content/processed/x_sm.pkl\")\n",
        "joblib.dump(y_sm, \"/content/processed/y_sm.pkl\")\n",
        "\n",
        "joblib.dump(valid_set.drop(columns = \"categori\"), \"/content/processed/x_valid_feng.pkl\")\n",
        "joblib.dump(valid_set.categori, \"/content/processed/y_valid_feng.pkl\")\n",
        "\n",
        "joblib.dump(test_set.drop(columns = \"categori\"), \"/content/processed/x_test_feng.pkl\")\n",
        "joblib.dump(test_set.categori, \"/content/processed/y_test_feng.pkl\")"
      ],
      "metadata": {
        "colab": {
          "base_uri": "https://localhost:8080/"
        },
        "id": "khorVgyxq80N",
        "outputId": "914ebf0f-4e35-4ba6-c279-7775eb223174"
      },
      "execution_count": null,
      "outputs": [
        {
          "output_type": "execute_result",
          "data": {
            "text/plain": [
              "['/content/processed/x_rus.pkl']"
            ]
          },
          "metadata": {},
          "execution_count": 115
        }
      ]
    },
    {
      "cell_type": "code",
      "source": [],
      "metadata": {
        "id": "covUTJ64rRD9"
      },
      "execution_count": null,
      "outputs": []
    }
  ]
}