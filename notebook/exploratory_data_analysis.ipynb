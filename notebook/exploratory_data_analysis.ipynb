{
  "nbformat": 4,
  "nbformat_minor": 0,
  "metadata": {
    "colab": {
      "provenance": []
    },
    "kernelspec": {
      "name": "python3",
      "display_name": "Python 3"
    },
    "language_info": {
      "name": "python"
    }
  },
  "cells": [
    {
      "cell_type": "code",
      "execution_count": null,
      "metadata": {
        "id": "Nyszpz8XWHbf"
      },
      "outputs": [],
      "source": [
        "import pandas as pd\n",
        "import numpy as np\n",
        "import seaborn as sns\n",
        "import scipy.stats as scs\n",
        "import joblib\n",
        "import yaml\n",
        "import matplotlib.pyplot as plt"
      ]
    },
    {
      "cell_type": "code",
      "source": [
        "params_dir = \"/content/params.yaml\""
      ],
      "metadata": {
        "id": "9O_9u_tvWLL_"
      },
      "execution_count": null,
      "outputs": []
    },
    {
      "cell_type": "code",
      "source": [
        "def load_params(param_dir):\n",
        "    with open(param_dir, 'r') as file:\n",
        "        params = yaml.safe_load(file)\n",
        "\n",
        "    return params"
      ],
      "metadata": {
        "id": "C4x3Mh-hWWCu"
      },
      "execution_count": null,
      "outputs": []
    },
    {
      "cell_type": "code",
      "source": [
        "params = load_params(params_dir)"
      ],
      "metadata": {
        "id": "pSFGWf1pWWzy"
      },
      "execution_count": null,
      "outputs": []
    },
    {
      "cell_type": "code",
      "source": [
        "params"
      ],
      "metadata": {
        "colab": {
          "base_uri": "https://localhost:8080/"
        },
        "id": "mRdwO-xKWXeY",
        "outputId": "13bb3a92-2a26-4dae-fb08-e4d1a72bcc09"
      },
      "execution_count": null,
      "outputs": [
        {
          "output_type": "execute_result",
          "data": {
            "text/plain": [
              "{'dataset_dir': '/content/data/',\n",
              " 'datetime_columns': ['tanggal'],\n",
              " 'int32_columns': ['pm10', 'pm25', 'so2', 'co', 'o3', 'no2', 'max'],\n",
              " 'label': 'categori',\n",
              " 'label_categories': ['BAIK', 'SEDANG', 'TIDAK SEHAT'],\n",
              " 'label_categories_new': ['BAIK', 'TIDAK BAIK'],\n",
              " 'missing_value_co': 11,\n",
              " 'missing_value_no2': 18,\n",
              " 'missing_value_o3': 29,\n",
              " 'missing_value_pm10': {'BAIK': 28, 'TIDAK BAIK': 55},\n",
              " 'missing_value_pm25': {'BAIK': 38, 'TIDAK BAIK': 82},\n",
              " 'missing_value_so2': 35,\n",
              " 'object_columns': ['stasiun', 'critical', 'categori'],\n",
              " 'predictors': ['stasiun', 'pm10', 'pm25', 'so2', 'co', 'o3', 'no2'],\n",
              " 'range_co': [-1, 100],\n",
              " 'range_no2': [-1, 100],\n",
              " 'range_o3': [-1, 160],\n",
              " 'range_pm10': [-1, 800],\n",
              " 'range_pm25': [-1, 400],\n",
              " 'range_so2': [-1, 500],\n",
              " 'range_stasiun': ['DKI1 (Bunderan HI)',\n",
              "  'DKI2 (Kelapa Gading)',\n",
              "  'DKI3 (Jagakarsa)',\n",
              "  'DKI4 (Lubang Buaya)',\n",
              "  'DKI5 (Kebon Jeruk) Jakarta Barat']}"
            ]
          },
          "metadata": {},
          "execution_count": 5
        }
      ]
    },
    {
      "cell_type": "code",
      "source": [
        "x_train = joblib.load(\"/content/x_train.pkl\")\n",
        "y_train = joblib.load(\"/content/y_train.pkl\")"
      ],
      "metadata": {
        "id": "KrBV-kn5WYUH"
      },
      "execution_count": null,
      "outputs": []
    },
    {
      "cell_type": "code",
      "source": [
        "x_train"
      ],
      "metadata": {
        "colab": {
          "base_uri": "https://localhost:8080/",
          "height": 423
        },
        "id": "G48kzvTbWm0Y",
        "outputId": "599b754f-a995-4c26-a87e-1f82f6b9e5ad"
      },
      "execution_count": null,
      "outputs": [
        {
          "output_type": "execute_result",
          "data": {
            "text/plain": [
              "                               stasiun  pm10  pm25  so2  co  o3  no2\n",
              "1393                DKI1 (Bunderan HI)    66    94   30  15  20   28\n",
              "675                   DKI3 (Jagakarsa)    28    52   26   5  35    7\n",
              "1288                  DKI3 (Jagakarsa)    26    42   24   9  35   12\n",
              "1347  DKI5 (Kebon Jeruk) Jakarta Barat    23    50   36   6  10   13\n",
              "1035               DKI4 (Lubang Buaya)    -1    98   45   7  33   12\n",
              "...                                ...   ...   ...  ...  ..  ..  ...\n",
              "1108              DKI2 (Kelapa Gading)    60    79   53  11  54   17\n",
              "439   DKI5 (Kebon Jeruk) Jakarta Barat    54    92   29  11  25   25\n",
              "287   DKI5 (Kebon Jeruk) Jakarta Barat    46    75   -1  14  29   40\n",
              "953               DKI2 (Kelapa Gading)    62    79   50   9  37   18\n",
              "1420              DKI2 (Kelapa Gading)    62    79   53   9  53   17\n",
              "\n",
              "[1266 rows x 7 columns]"
            ],
            "text/html": [
              "\n",
              "  <div id=\"df-29d70dea-6523-4973-aadd-b4d1fe25c252\">\n",
              "    <div class=\"colab-df-container\">\n",
              "      <div>\n",
              "<style scoped>\n",
              "    .dataframe tbody tr th:only-of-type {\n",
              "        vertical-align: middle;\n",
              "    }\n",
              "\n",
              "    .dataframe tbody tr th {\n",
              "        vertical-align: top;\n",
              "    }\n",
              "\n",
              "    .dataframe thead th {\n",
              "        text-align: right;\n",
              "    }\n",
              "</style>\n",
              "<table border=\"1\" class=\"dataframe\">\n",
              "  <thead>\n",
              "    <tr style=\"text-align: right;\">\n",
              "      <th></th>\n",
              "      <th>stasiun</th>\n",
              "      <th>pm10</th>\n",
              "      <th>pm25</th>\n",
              "      <th>so2</th>\n",
              "      <th>co</th>\n",
              "      <th>o3</th>\n",
              "      <th>no2</th>\n",
              "    </tr>\n",
              "  </thead>\n",
              "  <tbody>\n",
              "    <tr>\n",
              "      <th>1393</th>\n",
              "      <td>DKI1 (Bunderan HI)</td>\n",
              "      <td>66</td>\n",
              "      <td>94</td>\n",
              "      <td>30</td>\n",
              "      <td>15</td>\n",
              "      <td>20</td>\n",
              "      <td>28</td>\n",
              "    </tr>\n",
              "    <tr>\n",
              "      <th>675</th>\n",
              "      <td>DKI3 (Jagakarsa)</td>\n",
              "      <td>28</td>\n",
              "      <td>52</td>\n",
              "      <td>26</td>\n",
              "      <td>5</td>\n",
              "      <td>35</td>\n",
              "      <td>7</td>\n",
              "    </tr>\n",
              "    <tr>\n",
              "      <th>1288</th>\n",
              "      <td>DKI3 (Jagakarsa)</td>\n",
              "      <td>26</td>\n",
              "      <td>42</td>\n",
              "      <td>24</td>\n",
              "      <td>9</td>\n",
              "      <td>35</td>\n",
              "      <td>12</td>\n",
              "    </tr>\n",
              "    <tr>\n",
              "      <th>1347</th>\n",
              "      <td>DKI5 (Kebon Jeruk) Jakarta Barat</td>\n",
              "      <td>23</td>\n",
              "      <td>50</td>\n",
              "      <td>36</td>\n",
              "      <td>6</td>\n",
              "      <td>10</td>\n",
              "      <td>13</td>\n",
              "    </tr>\n",
              "    <tr>\n",
              "      <th>1035</th>\n",
              "      <td>DKI4 (Lubang Buaya)</td>\n",
              "      <td>-1</td>\n",
              "      <td>98</td>\n",
              "      <td>45</td>\n",
              "      <td>7</td>\n",
              "      <td>33</td>\n",
              "      <td>12</td>\n",
              "    </tr>\n",
              "    <tr>\n",
              "      <th>...</th>\n",
              "      <td>...</td>\n",
              "      <td>...</td>\n",
              "      <td>...</td>\n",
              "      <td>...</td>\n",
              "      <td>...</td>\n",
              "      <td>...</td>\n",
              "      <td>...</td>\n",
              "    </tr>\n",
              "    <tr>\n",
              "      <th>1108</th>\n",
              "      <td>DKI2 (Kelapa Gading)</td>\n",
              "      <td>60</td>\n",
              "      <td>79</td>\n",
              "      <td>53</td>\n",
              "      <td>11</td>\n",
              "      <td>54</td>\n",
              "      <td>17</td>\n",
              "    </tr>\n",
              "    <tr>\n",
              "      <th>439</th>\n",
              "      <td>DKI5 (Kebon Jeruk) Jakarta Barat</td>\n",
              "      <td>54</td>\n",
              "      <td>92</td>\n",
              "      <td>29</td>\n",
              "      <td>11</td>\n",
              "      <td>25</td>\n",
              "      <td>25</td>\n",
              "    </tr>\n",
              "    <tr>\n",
              "      <th>287</th>\n",
              "      <td>DKI5 (Kebon Jeruk) Jakarta Barat</td>\n",
              "      <td>46</td>\n",
              "      <td>75</td>\n",
              "      <td>-1</td>\n",
              "      <td>14</td>\n",
              "      <td>29</td>\n",
              "      <td>40</td>\n",
              "    </tr>\n",
              "    <tr>\n",
              "      <th>953</th>\n",
              "      <td>DKI2 (Kelapa Gading)</td>\n",
              "      <td>62</td>\n",
              "      <td>79</td>\n",
              "      <td>50</td>\n",
              "      <td>9</td>\n",
              "      <td>37</td>\n",
              "      <td>18</td>\n",
              "    </tr>\n",
              "    <tr>\n",
              "      <th>1420</th>\n",
              "      <td>DKI2 (Kelapa Gading)</td>\n",
              "      <td>62</td>\n",
              "      <td>79</td>\n",
              "      <td>53</td>\n",
              "      <td>9</td>\n",
              "      <td>53</td>\n",
              "      <td>17</td>\n",
              "    </tr>\n",
              "  </tbody>\n",
              "</table>\n",
              "<p>1266 rows × 7 columns</p>\n",
              "</div>\n",
              "      <button class=\"colab-df-convert\" onclick=\"convertToInteractive('df-29d70dea-6523-4973-aadd-b4d1fe25c252')\"\n",
              "              title=\"Convert this dataframe to an interactive table.\"\n",
              "              style=\"display:none;\">\n",
              "        \n",
              "  <svg xmlns=\"http://www.w3.org/2000/svg\" height=\"24px\"viewBox=\"0 0 24 24\"\n",
              "       width=\"24px\">\n",
              "    <path d=\"M0 0h24v24H0V0z\" fill=\"none\"/>\n",
              "    <path d=\"M18.56 5.44l.94 2.06.94-2.06 2.06-.94-2.06-.94-.94-2.06-.94 2.06-2.06.94zm-11 1L8.5 8.5l.94-2.06 2.06-.94-2.06-.94L8.5 2.5l-.94 2.06-2.06.94zm10 10l.94 2.06.94-2.06 2.06-.94-2.06-.94-.94-2.06-.94 2.06-2.06.94z\"/><path d=\"M17.41 7.96l-1.37-1.37c-.4-.4-.92-.59-1.43-.59-.52 0-1.04.2-1.43.59L10.3 9.45l-7.72 7.72c-.78.78-.78 2.05 0 2.83L4 21.41c.39.39.9.59 1.41.59.51 0 1.02-.2 1.41-.59l7.78-7.78 2.81-2.81c.8-.78.8-2.07 0-2.86zM5.41 20L4 18.59l7.72-7.72 1.47 1.35L5.41 20z\"/>\n",
              "  </svg>\n",
              "      </button>\n",
              "      \n",
              "  <style>\n",
              "    .colab-df-container {\n",
              "      display:flex;\n",
              "      flex-wrap:wrap;\n",
              "      gap: 12px;\n",
              "    }\n",
              "\n",
              "    .colab-df-convert {\n",
              "      background-color: #E8F0FE;\n",
              "      border: none;\n",
              "      border-radius: 50%;\n",
              "      cursor: pointer;\n",
              "      display: none;\n",
              "      fill: #1967D2;\n",
              "      height: 32px;\n",
              "      padding: 0 0 0 0;\n",
              "      width: 32px;\n",
              "    }\n",
              "\n",
              "    .colab-df-convert:hover {\n",
              "      background-color: #E2EBFA;\n",
              "      box-shadow: 0px 1px 2px rgba(60, 64, 67, 0.3), 0px 1px 3px 1px rgba(60, 64, 67, 0.15);\n",
              "      fill: #174EA6;\n",
              "    }\n",
              "\n",
              "    [theme=dark] .colab-df-convert {\n",
              "      background-color: #3B4455;\n",
              "      fill: #D2E3FC;\n",
              "    }\n",
              "\n",
              "    [theme=dark] .colab-df-convert:hover {\n",
              "      background-color: #434B5C;\n",
              "      box-shadow: 0px 1px 3px 1px rgba(0, 0, 0, 0.15);\n",
              "      filter: drop-shadow(0px 1px 2px rgba(0, 0, 0, 0.3));\n",
              "      fill: #FFFFFF;\n",
              "    }\n",
              "  </style>\n",
              "\n",
              "      <script>\n",
              "        const buttonEl =\n",
              "          document.querySelector('#df-29d70dea-6523-4973-aadd-b4d1fe25c252 button.colab-df-convert');\n",
              "        buttonEl.style.display =\n",
              "          google.colab.kernel.accessAllowed ? 'block' : 'none';\n",
              "\n",
              "        async function convertToInteractive(key) {\n",
              "          const element = document.querySelector('#df-29d70dea-6523-4973-aadd-b4d1fe25c252');\n",
              "          const dataTable =\n",
              "            await google.colab.kernel.invokeFunction('convertToInteractive',\n",
              "                                                     [key], {});\n",
              "          if (!dataTable) return;\n",
              "\n",
              "          const docLinkHtml = 'Like what you see? Visit the ' +\n",
              "            '<a target=\"_blank\" href=https://colab.research.google.com/notebooks/data_table.ipynb>data table notebook</a>'\n",
              "            + ' to learn more about interactive tables.';\n",
              "          element.innerHTML = '';\n",
              "          dataTable['output_type'] = 'display_data';\n",
              "          await google.colab.output.renderOutput(dataTable, element);\n",
              "          const docLink = document.createElement('div');\n",
              "          docLink.innerHTML = docLinkHtml;\n",
              "          element.appendChild(docLink);\n",
              "        }\n",
              "      </script>\n",
              "    </div>\n",
              "  </div>\n",
              "  "
            ]
          },
          "metadata": {},
          "execution_count": 7
        }
      ]
    },
    {
      "cell_type": "code",
      "source": [
        "y_train"
      ],
      "metadata": {
        "colab": {
          "base_uri": "https://localhost:8080/"
        },
        "id": "5ZniUFjSWn0v",
        "outputId": "c8e88ff1-cd82-4457-9d6c-2abae726d9b3"
      },
      "execution_count": null,
      "outputs": [
        {
          "output_type": "execute_result",
          "data": {
            "text/plain": [
              "1393    BAIK\n",
              "675     BAIK\n",
              "1288    BAIK\n",
              "1347    BAIK\n",
              "1035    BAIK\n",
              "        ... \n",
              "1108    BAIK\n",
              "439     BAIK\n",
              "287     BAIK\n",
              "953     BAIK\n",
              "1420    BAIK\n",
              "Name: categori, Length: 1266, dtype: object"
            ]
          },
          "metadata": {},
          "execution_count": 8
        }
      ]
    },
    {
      "cell_type": "code",
      "source": [
        "df = pd.concat([x_train, y_train], axis = 1)"
      ],
      "metadata": {
        "id": "1pAkqc5eWut8"
      },
      "execution_count": null,
      "outputs": []
    },
    {
      "cell_type": "code",
      "source": [
        "df"
      ],
      "metadata": {
        "colab": {
          "base_uri": "https://localhost:8080/",
          "height": 423
        },
        "id": "XDEeI844Wwgx",
        "outputId": "659e9203-d6dd-48a3-ae22-bb05166fc3fb"
      },
      "execution_count": null,
      "outputs": [
        {
          "output_type": "execute_result",
          "data": {
            "text/plain": [
              "                               stasiun  pm10  pm25  so2  co  o3  no2 categori\n",
              "1393                DKI1 (Bunderan HI)    66    94   30  15  20   28     BAIK\n",
              "675                   DKI3 (Jagakarsa)    28    52   26   5  35    7     BAIK\n",
              "1288                  DKI3 (Jagakarsa)    26    42   24   9  35   12     BAIK\n",
              "1347  DKI5 (Kebon Jeruk) Jakarta Barat    23    50   36   6  10   13     BAIK\n",
              "1035               DKI4 (Lubang Buaya)    -1    98   45   7  33   12     BAIK\n",
              "...                                ...   ...   ...  ...  ..  ..  ...      ...\n",
              "1108              DKI2 (Kelapa Gading)    60    79   53  11  54   17     BAIK\n",
              "439   DKI5 (Kebon Jeruk) Jakarta Barat    54    92   29  11  25   25     BAIK\n",
              "287   DKI5 (Kebon Jeruk) Jakarta Barat    46    75   -1  14  29   40     BAIK\n",
              "953               DKI2 (Kelapa Gading)    62    79   50   9  37   18     BAIK\n",
              "1420              DKI2 (Kelapa Gading)    62    79   53   9  53   17     BAIK\n",
              "\n",
              "[1266 rows x 8 columns]"
            ],
            "text/html": [
              "\n",
              "  <div id=\"df-ecf4ac2d-c484-46f0-92fd-0769b72c256c\">\n",
              "    <div class=\"colab-df-container\">\n",
              "      <div>\n",
              "<style scoped>\n",
              "    .dataframe tbody tr th:only-of-type {\n",
              "        vertical-align: middle;\n",
              "    }\n",
              "\n",
              "    .dataframe tbody tr th {\n",
              "        vertical-align: top;\n",
              "    }\n",
              "\n",
              "    .dataframe thead th {\n",
              "        text-align: right;\n",
              "    }\n",
              "</style>\n",
              "<table border=\"1\" class=\"dataframe\">\n",
              "  <thead>\n",
              "    <tr style=\"text-align: right;\">\n",
              "      <th></th>\n",
              "      <th>stasiun</th>\n",
              "      <th>pm10</th>\n",
              "      <th>pm25</th>\n",
              "      <th>so2</th>\n",
              "      <th>co</th>\n",
              "      <th>o3</th>\n",
              "      <th>no2</th>\n",
              "      <th>categori</th>\n",
              "    </tr>\n",
              "  </thead>\n",
              "  <tbody>\n",
              "    <tr>\n",
              "      <th>1393</th>\n",
              "      <td>DKI1 (Bunderan HI)</td>\n",
              "      <td>66</td>\n",
              "      <td>94</td>\n",
              "      <td>30</td>\n",
              "      <td>15</td>\n",
              "      <td>20</td>\n",
              "      <td>28</td>\n",
              "      <td>BAIK</td>\n",
              "    </tr>\n",
              "    <tr>\n",
              "      <th>675</th>\n",
              "      <td>DKI3 (Jagakarsa)</td>\n",
              "      <td>28</td>\n",
              "      <td>52</td>\n",
              "      <td>26</td>\n",
              "      <td>5</td>\n",
              "      <td>35</td>\n",
              "      <td>7</td>\n",
              "      <td>BAIK</td>\n",
              "    </tr>\n",
              "    <tr>\n",
              "      <th>1288</th>\n",
              "      <td>DKI3 (Jagakarsa)</td>\n",
              "      <td>26</td>\n",
              "      <td>42</td>\n",
              "      <td>24</td>\n",
              "      <td>9</td>\n",
              "      <td>35</td>\n",
              "      <td>12</td>\n",
              "      <td>BAIK</td>\n",
              "    </tr>\n",
              "    <tr>\n",
              "      <th>1347</th>\n",
              "      <td>DKI5 (Kebon Jeruk) Jakarta Barat</td>\n",
              "      <td>23</td>\n",
              "      <td>50</td>\n",
              "      <td>36</td>\n",
              "      <td>6</td>\n",
              "      <td>10</td>\n",
              "      <td>13</td>\n",
              "      <td>BAIK</td>\n",
              "    </tr>\n",
              "    <tr>\n",
              "      <th>1035</th>\n",
              "      <td>DKI4 (Lubang Buaya)</td>\n",
              "      <td>-1</td>\n",
              "      <td>98</td>\n",
              "      <td>45</td>\n",
              "      <td>7</td>\n",
              "      <td>33</td>\n",
              "      <td>12</td>\n",
              "      <td>BAIK</td>\n",
              "    </tr>\n",
              "    <tr>\n",
              "      <th>...</th>\n",
              "      <td>...</td>\n",
              "      <td>...</td>\n",
              "      <td>...</td>\n",
              "      <td>...</td>\n",
              "      <td>...</td>\n",
              "      <td>...</td>\n",
              "      <td>...</td>\n",
              "      <td>...</td>\n",
              "    </tr>\n",
              "    <tr>\n",
              "      <th>1108</th>\n",
              "      <td>DKI2 (Kelapa Gading)</td>\n",
              "      <td>60</td>\n",
              "      <td>79</td>\n",
              "      <td>53</td>\n",
              "      <td>11</td>\n",
              "      <td>54</td>\n",
              "      <td>17</td>\n",
              "      <td>BAIK</td>\n",
              "    </tr>\n",
              "    <tr>\n",
              "      <th>439</th>\n",
              "      <td>DKI5 (Kebon Jeruk) Jakarta Barat</td>\n",
              "      <td>54</td>\n",
              "      <td>92</td>\n",
              "      <td>29</td>\n",
              "      <td>11</td>\n",
              "      <td>25</td>\n",
              "      <td>25</td>\n",
              "      <td>BAIK</td>\n",
              "    </tr>\n",
              "    <tr>\n",
              "      <th>287</th>\n",
              "      <td>DKI5 (Kebon Jeruk) Jakarta Barat</td>\n",
              "      <td>46</td>\n",
              "      <td>75</td>\n",
              "      <td>-1</td>\n",
              "      <td>14</td>\n",
              "      <td>29</td>\n",
              "      <td>40</td>\n",
              "      <td>BAIK</td>\n",
              "    </tr>\n",
              "    <tr>\n",
              "      <th>953</th>\n",
              "      <td>DKI2 (Kelapa Gading)</td>\n",
              "      <td>62</td>\n",
              "      <td>79</td>\n",
              "      <td>50</td>\n",
              "      <td>9</td>\n",
              "      <td>37</td>\n",
              "      <td>18</td>\n",
              "      <td>BAIK</td>\n",
              "    </tr>\n",
              "    <tr>\n",
              "      <th>1420</th>\n",
              "      <td>DKI2 (Kelapa Gading)</td>\n",
              "      <td>62</td>\n",
              "      <td>79</td>\n",
              "      <td>53</td>\n",
              "      <td>9</td>\n",
              "      <td>53</td>\n",
              "      <td>17</td>\n",
              "      <td>BAIK</td>\n",
              "    </tr>\n",
              "  </tbody>\n",
              "</table>\n",
              "<p>1266 rows × 8 columns</p>\n",
              "</div>\n",
              "      <button class=\"colab-df-convert\" onclick=\"convertToInteractive('df-ecf4ac2d-c484-46f0-92fd-0769b72c256c')\"\n",
              "              title=\"Convert this dataframe to an interactive table.\"\n",
              "              style=\"display:none;\">\n",
              "        \n",
              "  <svg xmlns=\"http://www.w3.org/2000/svg\" height=\"24px\"viewBox=\"0 0 24 24\"\n",
              "       width=\"24px\">\n",
              "    <path d=\"M0 0h24v24H0V0z\" fill=\"none\"/>\n",
              "    <path d=\"M18.56 5.44l.94 2.06.94-2.06 2.06-.94-2.06-.94-.94-2.06-.94 2.06-2.06.94zm-11 1L8.5 8.5l.94-2.06 2.06-.94-2.06-.94L8.5 2.5l-.94 2.06-2.06.94zm10 10l.94 2.06.94-2.06 2.06-.94-2.06-.94-.94-2.06-.94 2.06-2.06.94z\"/><path d=\"M17.41 7.96l-1.37-1.37c-.4-.4-.92-.59-1.43-.59-.52 0-1.04.2-1.43.59L10.3 9.45l-7.72 7.72c-.78.78-.78 2.05 0 2.83L4 21.41c.39.39.9.59 1.41.59.51 0 1.02-.2 1.41-.59l7.78-7.78 2.81-2.81c.8-.78.8-2.07 0-2.86zM5.41 20L4 18.59l7.72-7.72 1.47 1.35L5.41 20z\"/>\n",
              "  </svg>\n",
              "      </button>\n",
              "      \n",
              "  <style>\n",
              "    .colab-df-container {\n",
              "      display:flex;\n",
              "      flex-wrap:wrap;\n",
              "      gap: 12px;\n",
              "    }\n",
              "\n",
              "    .colab-df-convert {\n",
              "      background-color: #E8F0FE;\n",
              "      border: none;\n",
              "      border-radius: 50%;\n",
              "      cursor: pointer;\n",
              "      display: none;\n",
              "      fill: #1967D2;\n",
              "      height: 32px;\n",
              "      padding: 0 0 0 0;\n",
              "      width: 32px;\n",
              "    }\n",
              "\n",
              "    .colab-df-convert:hover {\n",
              "      background-color: #E2EBFA;\n",
              "      box-shadow: 0px 1px 2px rgba(60, 64, 67, 0.3), 0px 1px 3px 1px rgba(60, 64, 67, 0.15);\n",
              "      fill: #174EA6;\n",
              "    }\n",
              "\n",
              "    [theme=dark] .colab-df-convert {\n",
              "      background-color: #3B4455;\n",
              "      fill: #D2E3FC;\n",
              "    }\n",
              "\n",
              "    [theme=dark] .colab-df-convert:hover {\n",
              "      background-color: #434B5C;\n",
              "      box-shadow: 0px 1px 3px 1px rgba(0, 0, 0, 0.15);\n",
              "      filter: drop-shadow(0px 1px 2px rgba(0, 0, 0, 0.3));\n",
              "      fill: #FFFFFF;\n",
              "    }\n",
              "  </style>\n",
              "\n",
              "      <script>\n",
              "        const buttonEl =\n",
              "          document.querySelector('#df-ecf4ac2d-c484-46f0-92fd-0769b72c256c button.colab-df-convert');\n",
              "        buttonEl.style.display =\n",
              "          google.colab.kernel.accessAllowed ? 'block' : 'none';\n",
              "\n",
              "        async function convertToInteractive(key) {\n",
              "          const element = document.querySelector('#df-ecf4ac2d-c484-46f0-92fd-0769b72c256c');\n",
              "          const dataTable =\n",
              "            await google.colab.kernel.invokeFunction('convertToInteractive',\n",
              "                                                     [key], {});\n",
              "          if (!dataTable) return;\n",
              "\n",
              "          const docLinkHtml = 'Like what you see? Visit the ' +\n",
              "            '<a target=\"_blank\" href=https://colab.research.google.com/notebooks/data_table.ipynb>data table notebook</a>'\n",
              "            + ' to learn more about interactive tables.';\n",
              "          element.innerHTML = '';\n",
              "          dataTable['output_type'] = 'display_data';\n",
              "          await google.colab.output.renderOutput(dataTable, element);\n",
              "          const docLink = document.createElement('div');\n",
              "          docLink.innerHTML = docLinkHtml;\n",
              "          element.appendChild(docLink);\n",
              "        }\n",
              "      </script>\n",
              "    </div>\n",
              "  </div>\n",
              "  "
            ]
          },
          "metadata": {},
          "execution_count": 11
        }
      ]
    },
    {
      "cell_type": "markdown",
      "source": [
        "### 3.1. Cek Missing Value"
      ],
      "metadata": {
        "id": "ZK96CCPJW9z8"
      }
    },
    {
      "cell_type": "code",
      "source": [
        "# ubah kembali nilai yang awalnya adalah -1 menjadi NaN\n",
        "df.replace(-1, np.nan, inplace = True)"
      ],
      "metadata": {
        "id": "eMgNOe-yWzbX"
      },
      "execution_count": null,
      "outputs": []
    },
    {
      "cell_type": "code",
      "source": [
        "# cek null value\n",
        "df.isnull().sum()"
      ],
      "metadata": {
        "colab": {
          "base_uri": "https://localhost:8080/"
        },
        "id": "km9iamNLW-wh",
        "outputId": "be9cecd0-b879-4c5e-de95-fba824c3838d"
      },
      "execution_count": null,
      "outputs": [
        {
          "output_type": "execute_result",
          "data": {
            "text/plain": [
              "stasiun      0\n",
              "pm10        35\n",
              "pm25        55\n",
              "so2         75\n",
              "co          11\n",
              "o3          35\n",
              "no2         14\n",
              "categori     0\n",
              "dtype: int64"
            ]
          },
          "metadata": {},
          "execution_count": 15
        }
      ]
    },
    {
      "cell_type": "markdown",
      "source": [
        "pada dataset raw terdapat beberapa missing value atau data yang kosong.\n",
        "\n",
        "sebelum melakukan treatment pada data yang kosong tersebut. ada baiknya melihat keadaan datanya saat ini"
      ],
      "metadata": {
        "id": "5z2BsOsaXHCN"
      }
    },
    {
      "cell_type": "markdown",
      "source": [
        "### 3.2. Cek Informasi Statistik"
      ],
      "metadata": {
        "id": "PVXH-OV7XNzz"
      }
    },
    {
      "cell_type": "code",
      "source": [
        "# cek skewness\n",
        "df.skew(numeric_only = True)"
      ],
      "metadata": {
        "colab": {
          "base_uri": "https://localhost:8080/"
        },
        "id": "pEMU47dbXFri",
        "outputId": "1db6189c-a2e8-445d-958e-96e4c0e6d99f"
      },
      "execution_count": null,
      "outputs": [
        {
          "output_type": "execute_result",
          "data": {
            "text/plain": [
              "pm10    0.228964\n",
              "pm25    0.198516\n",
              "so2     0.182539\n",
              "co      1.351131\n",
              "o3      1.415873\n",
              "no2     0.977480\n",
              "dtype: float64"
            ]
          },
          "metadata": {},
          "execution_count": 16
        }
      ]
    },
    {
      "cell_type": "markdown",
      "source": [
        "kolom co, o3 dan no2 > +- 0.5 yang menandakan skew, maka dari itu kolom tersebut akan diimputasi dengan median\n",
        "\n",
        "kolom lainnya akan diimputasi dengan mean karena mendekati normal distribution"
      ],
      "metadata": {
        "id": "WQkof0gVXm1o"
      }
    },
    {
      "cell_type": "code",
      "source": [
        "# pisahkan menjadi 2 kelas untuk melihat apakah kita perlu melakukan imputasi berdasarkan kelas\n",
        "df_baik = df[df.categori == \"BAIK\"].copy()\n",
        "df_tidak_baik = df[df.categori != \"BAIK\"].copy()"
      ],
      "metadata": {
        "id": "4n7wEtC1XP3r"
      },
      "execution_count": null,
      "outputs": []
    },
    {
      "cell_type": "code",
      "source": [
        "df_baik.describe()"
      ],
      "metadata": {
        "colab": {
          "base_uri": "https://localhost:8080/",
          "height": 300
        },
        "id": "QTH7bqeOYAru",
        "outputId": "42af84e3-bcdf-43ad-bbae-bf876ad7d392"
      },
      "execution_count": null,
      "outputs": [
        {
          "output_type": "execute_result",
          "data": {
            "text/plain": [
              "              pm10         pm25          so2           co           o3  \\\n",
              "count  1047.000000  1021.000000  1005.000000  1066.000000  1045.000000   \n",
              "mean     48.976122    71.507346    34.098507    11.420263    31.546411   \n",
              "std      12.774572    17.547895    12.988320     4.579370    14.589235   \n",
              "min      14.000000    13.000000     2.000000     2.000000     7.000000   \n",
              "25%      40.000000    60.000000    24.000000     8.000000    21.000000   \n",
              "50%      52.000000    74.000000    32.000000    11.000000    28.000000   \n",
              "75%      58.000000    85.000000    43.000000    14.000000    39.000000   \n",
              "max      87.000000   100.000000    81.000000    38.000000    93.000000   \n",
              "\n",
              "               no2  \n",
              "count  1062.000000  \n",
              "mean     18.952919  \n",
              "std       9.482642  \n",
              "min       3.000000  \n",
              "25%      12.000000  \n",
              "50%      17.000000  \n",
              "75%      24.000000  \n",
              "max      65.000000  "
            ],
            "text/html": [
              "\n",
              "  <div id=\"df-b4016cdd-7d12-4550-bb57-384fed687a72\">\n",
              "    <div class=\"colab-df-container\">\n",
              "      <div>\n",
              "<style scoped>\n",
              "    .dataframe tbody tr th:only-of-type {\n",
              "        vertical-align: middle;\n",
              "    }\n",
              "\n",
              "    .dataframe tbody tr th {\n",
              "        vertical-align: top;\n",
              "    }\n",
              "\n",
              "    .dataframe thead th {\n",
              "        text-align: right;\n",
              "    }\n",
              "</style>\n",
              "<table border=\"1\" class=\"dataframe\">\n",
              "  <thead>\n",
              "    <tr style=\"text-align: right;\">\n",
              "      <th></th>\n",
              "      <th>pm10</th>\n",
              "      <th>pm25</th>\n",
              "      <th>so2</th>\n",
              "      <th>co</th>\n",
              "      <th>o3</th>\n",
              "      <th>no2</th>\n",
              "    </tr>\n",
              "  </thead>\n",
              "  <tbody>\n",
              "    <tr>\n",
              "      <th>count</th>\n",
              "      <td>1047.000000</td>\n",
              "      <td>1021.000000</td>\n",
              "      <td>1005.000000</td>\n",
              "      <td>1066.000000</td>\n",
              "      <td>1045.000000</td>\n",
              "      <td>1062.000000</td>\n",
              "    </tr>\n",
              "    <tr>\n",
              "      <th>mean</th>\n",
              "      <td>48.976122</td>\n",
              "      <td>71.507346</td>\n",
              "      <td>34.098507</td>\n",
              "      <td>11.420263</td>\n",
              "      <td>31.546411</td>\n",
              "      <td>18.952919</td>\n",
              "    </tr>\n",
              "    <tr>\n",
              "      <th>std</th>\n",
              "      <td>12.774572</td>\n",
              "      <td>17.547895</td>\n",
              "      <td>12.988320</td>\n",
              "      <td>4.579370</td>\n",
              "      <td>14.589235</td>\n",
              "      <td>9.482642</td>\n",
              "    </tr>\n",
              "    <tr>\n",
              "      <th>min</th>\n",
              "      <td>14.000000</td>\n",
              "      <td>13.000000</td>\n",
              "      <td>2.000000</td>\n",
              "      <td>2.000000</td>\n",
              "      <td>7.000000</td>\n",
              "      <td>3.000000</td>\n",
              "    </tr>\n",
              "    <tr>\n",
              "      <th>25%</th>\n",
              "      <td>40.000000</td>\n",
              "      <td>60.000000</td>\n",
              "      <td>24.000000</td>\n",
              "      <td>8.000000</td>\n",
              "      <td>21.000000</td>\n",
              "      <td>12.000000</td>\n",
              "    </tr>\n",
              "    <tr>\n",
              "      <th>50%</th>\n",
              "      <td>52.000000</td>\n",
              "      <td>74.000000</td>\n",
              "      <td>32.000000</td>\n",
              "      <td>11.000000</td>\n",
              "      <td>28.000000</td>\n",
              "      <td>17.000000</td>\n",
              "    </tr>\n",
              "    <tr>\n",
              "      <th>75%</th>\n",
              "      <td>58.000000</td>\n",
              "      <td>85.000000</td>\n",
              "      <td>43.000000</td>\n",
              "      <td>14.000000</td>\n",
              "      <td>39.000000</td>\n",
              "      <td>24.000000</td>\n",
              "    </tr>\n",
              "    <tr>\n",
              "      <th>max</th>\n",
              "      <td>87.000000</td>\n",
              "      <td>100.000000</td>\n",
              "      <td>81.000000</td>\n",
              "      <td>38.000000</td>\n",
              "      <td>93.000000</td>\n",
              "      <td>65.000000</td>\n",
              "    </tr>\n",
              "  </tbody>\n",
              "</table>\n",
              "</div>\n",
              "      <button class=\"colab-df-convert\" onclick=\"convertToInteractive('df-b4016cdd-7d12-4550-bb57-384fed687a72')\"\n",
              "              title=\"Convert this dataframe to an interactive table.\"\n",
              "              style=\"display:none;\">\n",
              "        \n",
              "  <svg xmlns=\"http://www.w3.org/2000/svg\" height=\"24px\"viewBox=\"0 0 24 24\"\n",
              "       width=\"24px\">\n",
              "    <path d=\"M0 0h24v24H0V0z\" fill=\"none\"/>\n",
              "    <path d=\"M18.56 5.44l.94 2.06.94-2.06 2.06-.94-2.06-.94-.94-2.06-.94 2.06-2.06.94zm-11 1L8.5 8.5l.94-2.06 2.06-.94-2.06-.94L8.5 2.5l-.94 2.06-2.06.94zm10 10l.94 2.06.94-2.06 2.06-.94-2.06-.94-.94-2.06-.94 2.06-2.06.94z\"/><path d=\"M17.41 7.96l-1.37-1.37c-.4-.4-.92-.59-1.43-.59-.52 0-1.04.2-1.43.59L10.3 9.45l-7.72 7.72c-.78.78-.78 2.05 0 2.83L4 21.41c.39.39.9.59 1.41.59.51 0 1.02-.2 1.41-.59l7.78-7.78 2.81-2.81c.8-.78.8-2.07 0-2.86zM5.41 20L4 18.59l7.72-7.72 1.47 1.35L5.41 20z\"/>\n",
              "  </svg>\n",
              "      </button>\n",
              "      \n",
              "  <style>\n",
              "    .colab-df-container {\n",
              "      display:flex;\n",
              "      flex-wrap:wrap;\n",
              "      gap: 12px;\n",
              "    }\n",
              "\n",
              "    .colab-df-convert {\n",
              "      background-color: #E8F0FE;\n",
              "      border: none;\n",
              "      border-radius: 50%;\n",
              "      cursor: pointer;\n",
              "      display: none;\n",
              "      fill: #1967D2;\n",
              "      height: 32px;\n",
              "      padding: 0 0 0 0;\n",
              "      width: 32px;\n",
              "    }\n",
              "\n",
              "    .colab-df-convert:hover {\n",
              "      background-color: #E2EBFA;\n",
              "      box-shadow: 0px 1px 2px rgba(60, 64, 67, 0.3), 0px 1px 3px 1px rgba(60, 64, 67, 0.15);\n",
              "      fill: #174EA6;\n",
              "    }\n",
              "\n",
              "    [theme=dark] .colab-df-convert {\n",
              "      background-color: #3B4455;\n",
              "      fill: #D2E3FC;\n",
              "    }\n",
              "\n",
              "    [theme=dark] .colab-df-convert:hover {\n",
              "      background-color: #434B5C;\n",
              "      box-shadow: 0px 1px 3px 1px rgba(0, 0, 0, 0.15);\n",
              "      filter: drop-shadow(0px 1px 2px rgba(0, 0, 0, 0.3));\n",
              "      fill: #FFFFFF;\n",
              "    }\n",
              "  </style>\n",
              "\n",
              "      <script>\n",
              "        const buttonEl =\n",
              "          document.querySelector('#df-b4016cdd-7d12-4550-bb57-384fed687a72 button.colab-df-convert');\n",
              "        buttonEl.style.display =\n",
              "          google.colab.kernel.accessAllowed ? 'block' : 'none';\n",
              "\n",
              "        async function convertToInteractive(key) {\n",
              "          const element = document.querySelector('#df-b4016cdd-7d12-4550-bb57-384fed687a72');\n",
              "          const dataTable =\n",
              "            await google.colab.kernel.invokeFunction('convertToInteractive',\n",
              "                                                     [key], {});\n",
              "          if (!dataTable) return;\n",
              "\n",
              "          const docLinkHtml = 'Like what you see? Visit the ' +\n",
              "            '<a target=\"_blank\" href=https://colab.research.google.com/notebooks/data_table.ipynb>data table notebook</a>'\n",
              "            + ' to learn more about interactive tables.';\n",
              "          element.innerHTML = '';\n",
              "          dataTable['output_type'] = 'display_data';\n",
              "          await google.colab.output.renderOutput(dataTable, element);\n",
              "          const docLink = document.createElement('div');\n",
              "          docLink.innerHTML = docLinkHtml;\n",
              "          element.appendChild(docLink);\n",
              "        }\n",
              "      </script>\n",
              "    </div>\n",
              "  </div>\n",
              "  "
            ]
          },
          "metadata": {},
          "execution_count": 19
        }
      ]
    },
    {
      "cell_type": "code",
      "source": [
        "df_tidak_baik.describe()"
      ],
      "metadata": {
        "colab": {
          "base_uri": "https://localhost:8080/",
          "height": 300
        },
        "id": "Tbrf8OOWYGPJ",
        "outputId": "2f6e0a93-7ab0-4d88-9b42-8cade8a7ecec"
      },
      "execution_count": null,
      "outputs": [
        {
          "output_type": "execute_result",
          "data": {
            "text/plain": [
              "             pm10        pm25         so2          co          o3         no2\n",
              "count  184.000000  190.000000  186.000000  189.000000  186.000000  190.000000\n",
              "mean    70.739130  113.363158   40.709677   13.904762   33.188172   23.684211\n",
              "std     11.590339   13.642825   10.903588    5.665445   15.135856    8.394711\n",
              "min     39.000000   58.000000   13.000000    4.000000   14.000000    9.000000\n",
              "25%     64.000000  105.000000   35.000000   10.000000   24.250000   18.000000\n",
              "50%     69.500000  110.000000   40.000000   13.000000   29.000000   22.000000\n",
              "75%     75.000000  118.750000   46.750000   16.000000   37.000000   26.000000\n",
              "max    179.000000  174.000000   82.000000   43.000000  151.000000   63.000000"
            ],
            "text/html": [
              "\n",
              "  <div id=\"df-a72d5267-945d-4ff2-a7ce-3d61fd954c15\">\n",
              "    <div class=\"colab-df-container\">\n",
              "      <div>\n",
              "<style scoped>\n",
              "    .dataframe tbody tr th:only-of-type {\n",
              "        vertical-align: middle;\n",
              "    }\n",
              "\n",
              "    .dataframe tbody tr th {\n",
              "        vertical-align: top;\n",
              "    }\n",
              "\n",
              "    .dataframe thead th {\n",
              "        text-align: right;\n",
              "    }\n",
              "</style>\n",
              "<table border=\"1\" class=\"dataframe\">\n",
              "  <thead>\n",
              "    <tr style=\"text-align: right;\">\n",
              "      <th></th>\n",
              "      <th>pm10</th>\n",
              "      <th>pm25</th>\n",
              "      <th>so2</th>\n",
              "      <th>co</th>\n",
              "      <th>o3</th>\n",
              "      <th>no2</th>\n",
              "    </tr>\n",
              "  </thead>\n",
              "  <tbody>\n",
              "    <tr>\n",
              "      <th>count</th>\n",
              "      <td>184.000000</td>\n",
              "      <td>190.000000</td>\n",
              "      <td>186.000000</td>\n",
              "      <td>189.000000</td>\n",
              "      <td>186.000000</td>\n",
              "      <td>190.000000</td>\n",
              "    </tr>\n",
              "    <tr>\n",
              "      <th>mean</th>\n",
              "      <td>70.739130</td>\n",
              "      <td>113.363158</td>\n",
              "      <td>40.709677</td>\n",
              "      <td>13.904762</td>\n",
              "      <td>33.188172</td>\n",
              "      <td>23.684211</td>\n",
              "    </tr>\n",
              "    <tr>\n",
              "      <th>std</th>\n",
              "      <td>11.590339</td>\n",
              "      <td>13.642825</td>\n",
              "      <td>10.903588</td>\n",
              "      <td>5.665445</td>\n",
              "      <td>15.135856</td>\n",
              "      <td>8.394711</td>\n",
              "    </tr>\n",
              "    <tr>\n",
              "      <th>min</th>\n",
              "      <td>39.000000</td>\n",
              "      <td>58.000000</td>\n",
              "      <td>13.000000</td>\n",
              "      <td>4.000000</td>\n",
              "      <td>14.000000</td>\n",
              "      <td>9.000000</td>\n",
              "    </tr>\n",
              "    <tr>\n",
              "      <th>25%</th>\n",
              "      <td>64.000000</td>\n",
              "      <td>105.000000</td>\n",
              "      <td>35.000000</td>\n",
              "      <td>10.000000</td>\n",
              "      <td>24.250000</td>\n",
              "      <td>18.000000</td>\n",
              "    </tr>\n",
              "    <tr>\n",
              "      <th>50%</th>\n",
              "      <td>69.500000</td>\n",
              "      <td>110.000000</td>\n",
              "      <td>40.000000</td>\n",
              "      <td>13.000000</td>\n",
              "      <td>29.000000</td>\n",
              "      <td>22.000000</td>\n",
              "    </tr>\n",
              "    <tr>\n",
              "      <th>75%</th>\n",
              "      <td>75.000000</td>\n",
              "      <td>118.750000</td>\n",
              "      <td>46.750000</td>\n",
              "      <td>16.000000</td>\n",
              "      <td>37.000000</td>\n",
              "      <td>26.000000</td>\n",
              "    </tr>\n",
              "    <tr>\n",
              "      <th>max</th>\n",
              "      <td>179.000000</td>\n",
              "      <td>174.000000</td>\n",
              "      <td>82.000000</td>\n",
              "      <td>43.000000</td>\n",
              "      <td>151.000000</td>\n",
              "      <td>63.000000</td>\n",
              "    </tr>\n",
              "  </tbody>\n",
              "</table>\n",
              "</div>\n",
              "      <button class=\"colab-df-convert\" onclick=\"convertToInteractive('df-a72d5267-945d-4ff2-a7ce-3d61fd954c15')\"\n",
              "              title=\"Convert this dataframe to an interactive table.\"\n",
              "              style=\"display:none;\">\n",
              "        \n",
              "  <svg xmlns=\"http://www.w3.org/2000/svg\" height=\"24px\"viewBox=\"0 0 24 24\"\n",
              "       width=\"24px\">\n",
              "    <path d=\"M0 0h24v24H0V0z\" fill=\"none\"/>\n",
              "    <path d=\"M18.56 5.44l.94 2.06.94-2.06 2.06-.94-2.06-.94-.94-2.06-.94 2.06-2.06.94zm-11 1L8.5 8.5l.94-2.06 2.06-.94-2.06-.94L8.5 2.5l-.94 2.06-2.06.94zm10 10l.94 2.06.94-2.06 2.06-.94-2.06-.94-.94-2.06-.94 2.06-2.06.94z\"/><path d=\"M17.41 7.96l-1.37-1.37c-.4-.4-.92-.59-1.43-.59-.52 0-1.04.2-1.43.59L10.3 9.45l-7.72 7.72c-.78.78-.78 2.05 0 2.83L4 21.41c.39.39.9.59 1.41.59.51 0 1.02-.2 1.41-.59l7.78-7.78 2.81-2.81c.8-.78.8-2.07 0-2.86zM5.41 20L4 18.59l7.72-7.72 1.47 1.35L5.41 20z\"/>\n",
              "  </svg>\n",
              "      </button>\n",
              "      \n",
              "  <style>\n",
              "    .colab-df-container {\n",
              "      display:flex;\n",
              "      flex-wrap:wrap;\n",
              "      gap: 12px;\n",
              "    }\n",
              "\n",
              "    .colab-df-convert {\n",
              "      background-color: #E8F0FE;\n",
              "      border: none;\n",
              "      border-radius: 50%;\n",
              "      cursor: pointer;\n",
              "      display: none;\n",
              "      fill: #1967D2;\n",
              "      height: 32px;\n",
              "      padding: 0 0 0 0;\n",
              "      width: 32px;\n",
              "    }\n",
              "\n",
              "    .colab-df-convert:hover {\n",
              "      background-color: #E2EBFA;\n",
              "      box-shadow: 0px 1px 2px rgba(60, 64, 67, 0.3), 0px 1px 3px 1px rgba(60, 64, 67, 0.15);\n",
              "      fill: #174EA6;\n",
              "    }\n",
              "\n",
              "    [theme=dark] .colab-df-convert {\n",
              "      background-color: #3B4455;\n",
              "      fill: #D2E3FC;\n",
              "    }\n",
              "\n",
              "    [theme=dark] .colab-df-convert:hover {\n",
              "      background-color: #434B5C;\n",
              "      box-shadow: 0px 1px 3px 1px rgba(0, 0, 0, 0.15);\n",
              "      filter: drop-shadow(0px 1px 2px rgba(0, 0, 0, 0.3));\n",
              "      fill: #FFFFFF;\n",
              "    }\n",
              "  </style>\n",
              "\n",
              "      <script>\n",
              "        const buttonEl =\n",
              "          document.querySelector('#df-a72d5267-945d-4ff2-a7ce-3d61fd954c15 button.colab-df-convert');\n",
              "        buttonEl.style.display =\n",
              "          google.colab.kernel.accessAllowed ? 'block' : 'none';\n",
              "\n",
              "        async function convertToInteractive(key) {\n",
              "          const element = document.querySelector('#df-a72d5267-945d-4ff2-a7ce-3d61fd954c15');\n",
              "          const dataTable =\n",
              "            await google.colab.kernel.invokeFunction('convertToInteractive',\n",
              "                                                     [key], {});\n",
              "          if (!dataTable) return;\n",
              "\n",
              "          const docLinkHtml = 'Like what you see? Visit the ' +\n",
              "            '<a target=\"_blank\" href=https://colab.research.google.com/notebooks/data_table.ipynb>data table notebook</a>'\n",
              "            + ' to learn more about interactive tables.';\n",
              "          element.innerHTML = '';\n",
              "          dataTable['output_type'] = 'display_data';\n",
              "          await google.colab.output.renderOutput(dataTable, element);\n",
              "          const docLink = document.createElement('div');\n",
              "          docLink.innerHTML = docLinkHtml;\n",
              "          element.appendChild(docLink);\n",
              "        }\n",
              "      </script>\n",
              "    </div>\n",
              "  </div>\n",
              "  "
            ]
          },
          "metadata": {},
          "execution_count": 20
        }
      ]
    },
    {
      "cell_type": "markdown",
      "source": [
        "- pm10      : mean dari kelas 0 dan 1 terpaut cukup jauh, maka akan menggunakan kelas\n",
        "- pm25      : mean dari kelas 0 dan 1 terpaut cukup jauh, maka akan menggunakan kelas\n",
        "- so2       : mean dari kelas 0 dan 1 tidak terpaut jauh, maka tidak akan menggunakan kelas\n",
        "- co        : median dari kelas 0 dan 1 tidak terpaut jauh, maka tidak akan menggunakan kelas\n",
        "- o3        : median dari kelas 0 dan 1 tidak terpaut jauh, maka tidak akan menggunakan kelas\n",
        "- no2       : median dari kelas 0 dan 1 tidak terpaut jauh, maka tidak akan menggunakan kelas"
      ],
      "metadata": {
        "id": "YfrtkEdAY4ON"
      }
    },
    {
      "cell_type": "markdown",
      "source": [
        "#### 3.2.3. Visualisasi untuk fitur PM10"
      ],
      "metadata": {
        "id": "n-NCHVFFY8io"
      }
    },
    {
      "cell_type": "code",
      "source": [
        "df['categori'].value_counts()"
      ],
      "metadata": {
        "colab": {
          "base_uri": "https://localhost:8080/"
        },
        "id": "fR1etHOjZoQt",
        "outputId": "1492c8cb-567f-4818-ddcd-dcf1dfcd7886"
      },
      "execution_count": null,
      "outputs": [
        {
          "output_type": "execute_result",
          "data": {
            "text/plain": [
              "BAIK           1076\n",
              "TIDAK SEHAT     190\n",
              "Name: categori, dtype: int64"
            ]
          },
          "metadata": {},
          "execution_count": 28
        }
      ]
    },
    {
      "cell_type": "code",
      "source": [
        "# plot untuk melihat distribusi pm10 jika tidak dibedakan berdasarkan categori\n",
        "sns.kdeplot(data = df, x = \"pm10\")\n",
        "plt.axvline(df.pm10.mean(), 0, 1, color = \"g\")"
      ],
      "metadata": {
        "colab": {
          "base_uri": "https://localhost:8080/",
          "height": 470
        },
        "id": "LG5IR9H-YMmu",
        "outputId": "d9d9cd9d-3dec-4332-d888-8faf8ed99cce"
      },
      "execution_count": null,
      "outputs": [
        {
          "output_type": "execute_result",
          "data": {
            "text/plain": [
              "<matplotlib.lines.Line2D at 0x7f11a6408760>"
            ]
          },
          "metadata": {},
          "execution_count": 29
        },
        {
          "output_type": "display_data",
          "data": {
            "text/plain": [
              "<Figure size 640x480 with 1 Axes>"
            ],
            "image/png": "[encoded data removed]"
          },
          "metadata": {}
        }
      ]
    },
    {
      "cell_type": "code",
      "source": [
        "# plot untuk melihat distribusi pm10 jika dibedakan berdasarkan categori\n",
        "sns.kdeplot(data = df, x = \"pm10\", hue = \"categori\")\n",
        "plt.axvline(df_tidak_baik.pm10.mean(), 0, 1, color = \"g\")\n",
        "plt.axvline(df_baik.pm10.mean(), 0, 1, color = \"k\")"
      ],
      "metadata": {
        "colab": {
          "base_uri": "https://localhost:8080/",
          "height": 467
        },
        "id": "K88Sq_YNY_to",
        "outputId": "77dc012a-ea77-409e-dbd5-1dd7b90a39e5"
      },
      "execution_count": null,
      "outputs": [
        {
          "output_type": "execute_result",
          "data": {
            "text/plain": [
              "<matplotlib.lines.Line2D at 0x7f11a5fc71c0>"
            ]
          },
          "metadata": {},
          "execution_count": 34
        },
        {
          "output_type": "display_data",
          "data": {
            "text/plain": [
              "<Figure size 640x480 with 1 Axes>"
            ],
            "image/png": "[encoded data removed]"
          },
          "metadata": {}
        }
      ]
    },
    {
      "cell_type": "markdown",
      "source": [
        "- distribusi sedikit skew ke kiri (nilai skew fisher-pearson negatif) namun tidak signifikan, imputasi mean\n",
        "- mean 2 kelas tidak terlalu berbeda jauh, namun kita dapat imputasi berdasarkan kelas\n",
        "- kesimpulan: untuk pm10 akan menggunakan mean dari perkelas untuk imputasi"
      ],
      "metadata": {
        "id": "dEWKT8Q-aKLX"
      }
    },
    {
      "cell_type": "markdown",
      "source": [
        "#### 3.2.4. Visualisasi untuk fitur PM25"
      ],
      "metadata": {
        "id": "XaBNBzYJay2Y"
      }
    },
    {
      "cell_type": "code",
      "source": [
        "sns.kdeplot(data = df, x = \"pm25\")\n",
        "plt.axvline(df.pm25.mean(), 0, 1, color = \"g\")"
      ],
      "metadata": {
        "colab": {
          "base_uri": "https://localhost:8080/",
          "height": 467
        },
        "id": "HpL7wNTPayNR",
        "outputId": "b1dfaa5c-50fb-412a-d814-7c8a0e5a1dc4"
      },
      "execution_count": null,
      "outputs": [
        {
          "output_type": "execute_result",
          "data": {
            "text/plain": [
              "<matplotlib.lines.Line2D at 0x7f11a62636d0>"
            ]
          },
          "metadata": {},
          "execution_count": 35
        },
        {
          "output_type": "display_data",
          "data": {
            "text/plain": [
              "<Figure size 640x480 with 1 Axes>"
            ],
            "image/png": "[encoded data removed]"
          },
          "metadata": {}
        }
      ]
    },
    {
      "cell_type": "code",
      "source": [
        "sns.kdeplot(data = df, x = \"pm25\", hue = \"categori\")\n",
        "plt.axvline(df_tidak_baik.pm25.mean(), 0, 1, color = \"g\")\n",
        "plt.axvline(df_baik.pm25.mean(), 0, 1, color = \"k\")"
      ],
      "metadata": {
        "colab": {
          "base_uri": "https://localhost:8080/",
          "height": 467
        },
        "id": "cyoCiwucZWBk",
        "outputId": "261a0111-afff-45c0-9b0c-8efd9a90f2db"
      },
      "execution_count": null,
      "outputs": [
        {
          "output_type": "execute_result",
          "data": {
            "text/plain": [
              "<matplotlib.lines.Line2D at 0x7f11a640a4a0>"
            ]
          },
          "metadata": {},
          "execution_count": 36
        },
        {
          "output_type": "display_data",
          "data": {
            "text/plain": [
              "<Figure size 640x480 with 1 Axes>"
            ],
            "image/png": "[encoded data removed]"
          },
          "metadata": {}
        }
      ]
    },
    {
      "cell_type": "markdown",
      "source": [
        "- distribusi sangat dekat dengan normal (nilai skew fisher-pearson mendekati nol), imputasi mean\n",
        "- mean 2 kelas berbeda jauh, imputasi berdasarkan kelas\n",
        "- kesimpulan: untuk pm25 akan menggunakan mean dari perkelas untuk imputasi"
      ],
      "metadata": {
        "id": "Rp9UA4zxa-Om"
      }
    },
    {
      "cell_type": "markdown",
      "source": [
        "#### 3.2.5. Visualisasi untuk fitur SO2"
      ],
      "metadata": {
        "id": "1gcZsK47bGfY"
      }
    },
    {
      "cell_type": "code",
      "source": [
        "sns.kdeplot(data = df, x = \"so2\")\n",
        "plt.axvline(df.so2.mean(), 0, 1, color = \"g\")"
      ],
      "metadata": {
        "colab": {
          "base_uri": "https://localhost:8080/",
          "height": 467
        },
        "id": "O18sFayKa6Vx",
        "outputId": "00f03c3e-af6c-41be-e097-3a56e4b22b02"
      },
      "execution_count": null,
      "outputs": [
        {
          "output_type": "execute_result",
          "data": {
            "text/plain": [
              "<matplotlib.lines.Line2D at 0x7f11a6298490>"
            ]
          },
          "metadata": {},
          "execution_count": 37
        },
        {
          "output_type": "display_data",
          "data": {
            "text/plain": [
              "<Figure size 640x480 with 1 Axes>"
            ],
            "image/png": "[encoded data removed]"
          },
          "metadata": {}
        }
      ]
    },
    {
      "cell_type": "code",
      "source": [
        "sns.kdeplot(data = df, x = \"so2\", hue = \"categori\")\n",
        "plt.axvline(df_tidak_baik.so2.mean(), 0, 1, color = \"g\")\n",
        "plt.axvline(df_baik.so2.mean(), 0, 1, color = \"k\")"
      ],
      "metadata": {
        "colab": {
          "base_uri": "https://localhost:8080/",
          "height": 467
        },
        "id": "ICo5M5C4bJMe",
        "outputId": "7717d7de-c93c-4394-fbde-ec7c58066192"
      },
      "execution_count": null,
      "outputs": [
        {
          "output_type": "execute_result",
          "data": {
            "text/plain": [
              "<matplotlib.lines.Line2D at 0x7f11a5d913f0>"
            ]
          },
          "metadata": {},
          "execution_count": 38
        },
        {
          "output_type": "display_data",
          "data": {
            "text/plain": [
              "<Figure size 640x480 with 1 Axes>"
            ],
            "image/png": "[encoded data removed]"
          },
          "metadata": {}
        }
      ]
    },
    {
      "cell_type": "markdown",
      "source": [
        "- distribusi sangat dekat dengan normal (nilai skew fisher-pearson mendekati nol), imputasi mean\n",
        "- mean 2 kelas berbeda jauh, imputasi secara keseluruhan kelas\n",
        "- kesimpulan: untuk so2 akan menggunakan mean seluruh kelas untuk imputasi"
      ],
      "metadata": {
        "id": "J377CRRrbkF2"
      }
    },
    {
      "cell_type": "markdown",
      "source": [
        "#### 3.2.6. Visualisasi untuk fitur CO"
      ],
      "metadata": {
        "id": "7_v2Fb8Tbfbt"
      }
    },
    {
      "cell_type": "code",
      "source": [
        "sns.kdeplot(data = df, x = \"co\")\n",
        "plt.axvline(df.co.mean(), 0, 1, color = \"g\")"
      ],
      "metadata": {
        "colab": {
          "base_uri": "https://localhost:8080/",
          "height": 467
        },
        "id": "anoU9D4DbNck",
        "outputId": "0dd47243-22da-4572-800e-21f72b111f3f"
      },
      "execution_count": null,
      "outputs": [
        {
          "output_type": "execute_result",
          "data": {
            "text/plain": [
              "<matplotlib.lines.Line2D at 0x7f11a5d93c10>"
            ]
          },
          "metadata": {},
          "execution_count": 39
        },
        {
          "output_type": "display_data",
          "data": {
            "text/plain": [
              "<Figure size 640x480 with 1 Axes>"
            ],
            "image/png": "[encoded data removed]"
          },
          "metadata": {}
        }
      ]
    },
    {
      "cell_type": "code",
      "source": [
        "sns.kdeplot(data = df, x = \"o3\", hue = \"categori\")\n",
        "plt.axvline(df_tidak_baik.o3.median(), 0, 1, color = \"g\")\n",
        "plt.axvline(df_baik.o3.median(), 0, 1, color = \"k\")"
      ],
      "metadata": {
        "colab": {
          "base_uri": "https://localhost:8080/",
          "height": 467
        },
        "id": "4sQj_tIXbinZ",
        "outputId": "e74041d3-4434-4e3d-f42a-50d3f4f974f8"
      },
      "execution_count": null,
      "outputs": [
        {
          "output_type": "execute_result",
          "data": {
            "text/plain": [
              "<matplotlib.lines.Line2D at 0x7f11a5c9e3b0>"
            ]
          },
          "metadata": {},
          "execution_count": 40
        },
        {
          "output_type": "display_data",
          "data": {
            "text/plain": [
              "<Figure size 640x480 with 1 Axes>"
            ],
            "image/png": "[encoded data removed]"
          },
          "metadata": {}
        }
      ]
    },
    {
      "cell_type": "markdown",
      "source": [
        "- distribusi sedikit skew ke kiri (nilai skew fisher-pearson positive) cukup signifikan, imputasi median\n",
        "- median 2 kelas tidak terlalu berbeda jauh, namun kita imputuasi untuk keseluruhan kelas\n",
        "- kesimpulan: untuk 03 akan menggunakan median untuk imputasi seluruh kelas"
      ],
      "metadata": {
        "id": "jvwnpFCdcCTm"
      }
    },
    {
      "cell_type": "markdown",
      "source": [
        "#### 3.2.8. Visualisasi untuk fitur NO2"
      ],
      "metadata": {
        "id": "LumRy59tcTKG"
      }
    },
    {
      "cell_type": "code",
      "source": [
        "sns.kdeplot(data = df, x = \"no2\")\n",
        "plt.axvline(df.no2.mean(), 0, 1, color = \"g\")"
      ],
      "metadata": {
        "colab": {
          "base_uri": "https://localhost:8080/",
          "height": 467
        },
        "id": "2XCJQv9Cb_GO",
        "outputId": "1e171fc7-c86f-409f-a3ab-9994c2443917"
      },
      "execution_count": null,
      "outputs": [
        {
          "output_type": "execute_result",
          "data": {
            "text/plain": [
              "<matplotlib.lines.Line2D at 0x7f11a5c9ece0>"
            ]
          },
          "metadata": {},
          "execution_count": 41
        },
        {
          "output_type": "display_data",
          "data": {
            "text/plain": [
              "<Figure size 640x480 with 1 Axes>"
            ],
            "image/png": "[encoded data removed]"
          },
          "metadata": {}
        }
      ]
    },
    {
      "cell_type": "code",
      "source": [
        "sns.kdeplot(data = df, x = \"no2\", hue = \"categori\")\n",
        "plt.axvline(df_tidak_baik.no2.median(), 0, 1, color = \"g\")\n",
        "plt.axvline(df_baik.no2.median(), 0, 1, color = \"k\")"
      ],
      "metadata": {
        "colab": {
          "base_uri": "https://localhost:8080/",
          "height": 467
        },
        "id": "i3BwbYD2cVtr",
        "outputId": "e2b465b8-fe0c-4986-ba80-08a40c50fbec"
      },
      "execution_count": null,
      "outputs": [
        {
          "output_type": "execute_result",
          "data": {
            "text/plain": [
              "<matplotlib.lines.Line2D at 0x7f11a5b77610>"
            ]
          },
          "metadata": {},
          "execution_count": 42
        },
        {
          "output_type": "display_data",
          "data": {
            "text/plain": [
              "<Figure size 640x480 with 1 Axes>"
            ],
            "image/png": "[encoded data removed]"
          },
          "metadata": {}
        }
      ]
    },
    {
      "cell_type": "markdown",
      "source": [
        "- distribusi sedikit skew ke kiri (nilai skew fisher-pearson positive) cukup signifikan, imputasi median\n",
        "- median 2 kelas tidak terlalu berbeda jauh, namun kita imputuasi untuk keseluruhan kelas\n",
        "- kesimpulan: untuk no2 akan menggunakan median untuk imputasi seluruh kelas"
      ],
      "metadata": {
        "id": "mpeTwn7uc6Jf"
      }
    },
    {
      "cell_type": "markdown",
      "source": [
        "#### 3.2.9. Pearson Corrlation"
      ],
      "metadata": {
        "id": "ECAcJsTpdW61"
      }
    },
    {
      "cell_type": "code",
      "source": [
        "sns.heatmap(df.corr(numeric_only = True))"
      ],
      "metadata": {
        "colab": {
          "base_uri": "https://localhost:8080/",
          "height": 453
        },
        "id": "K0LZ6yYmczkS",
        "outputId": "1ba36ef3-bec8-4540-fc84-2c1a5c15baef"
      },
      "execution_count": null,
      "outputs": [
        {
          "output_type": "execute_result",
          "data": {
            "text/plain": [
              "<Axes: >"
            ]
          },
          "metadata": {},
          "execution_count": 43
        },
        {
          "output_type": "display_data",
          "data": {
            "text/plain": [
              "<Figure size 640x480 with 2 Axes>"
            ],
            "image/png": "[encoded data removed]"
          },
          "metadata": {}
        }
      ]
    },
    {
      "cell_type": "markdown",
      "source": [
        "#### 3.2.10. T Test untuk PM10"
      ],
      "metadata": {
        "id": "9rfeCQpVdf_X"
      }
    },
    {
      "cell_type": "markdown",
      "source": [
        "- h0    = mean pm10 untuk kelas 0 = mean pm10 untuk kelas 1\n",
        "- h1    = mean pm10 untuk kelas 0 != mean pm10 untuk kelas 1"
      ],
      "metadata": {
        "id": "0XAjOILjdiIO"
      }
    },
    {
      "cell_type": "code",
      "source": [
        "# perform t-test untuk 2 variabel\n",
        "scs.ttest_ind(\n",
        "    df_baik[df_baik.pm10.isnull() != True].pm10,\n",
        "    df_tidak_baik[df_tidak_baik.pm10.isnull() != True].pm10\n",
        ")"
      ],
      "metadata": {
        "colab": {
          "base_uri": "https://localhost:8080/"
        },
        "id": "AMNQX9lkdZ67",
        "outputId": "def49882-8954-489d-db9c-2a3bdb198aed"
      },
      "execution_count": null,
      "outputs": [
        {
          "output_type": "execute_result",
          "data": {
            "text/plain": [
              "Ttest_indResult(statistic=-21.598288669944786, pvalue=5.817127681203351e-88)"
            ]
          },
          "metadata": {},
          "execution_count": 44
        }
      ]
    },
    {
      "cell_type": "code",
      "source": [
        "# nilai t critical untuk alpha 0.05\n",
        "scs.t.ppf(0.05, df = (len(df) - 2))"
      ],
      "metadata": {
        "colab": {
          "base_uri": "https://localhost:8080/"
        },
        "id": "xjOX7iW4dynM",
        "outputId": "fd6caea8-0e74-432d-87e1-588ebab0c96b"
      },
      "execution_count": null,
      "outputs": [
        {
          "output_type": "execute_result",
          "data": {
            "text/plain": [
              "-1.646060029911409"
            ]
          },
          "metadata": {},
          "execution_count": 46
        }
      ]
    },
    {
      "cell_type": "markdown",
      "source": [
        "- dengan nilai t-value < t-critical dan nilai p-value < 0.05 maka h0 di reject\n",
        "- mean antara kelas 0 dan kelas 1 untuk pm10 statistically significant"
      ],
      "metadata": {
        "id": "VqKUIWJxeMKG"
      }
    },
    {
      "cell_type": "markdown",
      "source": [
        "#### 3.2.11. T Test untuk PM25"
      ],
      "metadata": {
        "id": "YgY3eIo6eU_e"
      }
    },
    {
      "cell_type": "markdown",
      "source": [
        "- h0    = mean pm25 untuk kelas 0 = mean pm25 untuk kelas 1\n",
        "- h1    = mean pm25 untuk kelas 0 != mean pm25 untuk kelas 1"
      ],
      "metadata": {
        "id": "k1BqzdNxeWPW"
      }
    },
    {
      "cell_type": "code",
      "source": [
        "# perform t-test untuk 2 variabel\n",
        "scs.ttest_ind(\n",
        "    df_baik[df_baik.pm25.isnull() != True].pm25,\n",
        "    df_tidak_baik[df_tidak_baik.pm25.isnull() != True].pm25\n",
        ")"
      ],
      "metadata": {
        "colab": {
          "base_uri": "https://localhost:8080/"
        },
        "id": "M2NsdeWnd0ry",
        "outputId": "bc2b89be-3e0b-4950-d492-999c52d6f917"
      },
      "execution_count": null,
      "outputs": [
        {
          "output_type": "execute_result",
          "data": {
            "text/plain": [
              "Ttest_indResult(statistic=-31.167997829049362, pvalue=5.152632047874556e-157)"
            ]
          },
          "metadata": {},
          "execution_count": 48
        }
      ]
    },
    {
      "cell_type": "code",
      "source": [
        "# nilai t critical untuk alpha 0.05\n",
        "scs.t.ppf(0.05, df = (len(df) - 2))"
      ],
      "metadata": {
        "colab": {
          "base_uri": "https://localhost:8080/"
        },
        "id": "0_Ve-zIFeYje",
        "outputId": "efbd6172-d2df-4a80-b68f-3526844d718d"
      },
      "execution_count": null,
      "outputs": [
        {
          "output_type": "execute_result",
          "data": {
            "text/plain": [
              "-1.646060029911409"
            ]
          },
          "metadata": {},
          "execution_count": 50
        }
      ]
    },
    {
      "cell_type": "markdown",
      "source": [
        "- dengan nilai t-value < t-critical dan nilai p-value < 0.05 maka h0 di reject\n",
        "- mean antara kelas 0 dan kelas 1 untuk pm25 statistically significant"
      ],
      "metadata": {
        "id": "73L2ctGzei5W"
      }
    },
    {
      "cell_type": "markdown",
      "source": [
        "#### 3.2.12 T Test untuk SO2"
      ],
      "metadata": {
        "id": "87Bx9XBselih"
      }
    },
    {
      "cell_type": "markdown",
      "source": [
        "- h0    = mean so2 untuk kelas 0 = mean so2 untuk kelas 1\n",
        "- h1    = mean so2 untuk kelas 0 != mean so2 untuk kelas 1"
      ],
      "metadata": {
        "id": "K_ohSVdjepLf"
      }
    },
    {
      "cell_type": "code",
      "source": [
        "# perform t-test untuk 2 variabel\n",
        "scs.ttest_ind(\n",
        "    df_baik[df_baik.so2.isnull() != True].so2,\n",
        "    df_tidak_baik[df_tidak_baik.so2.isnull() != True].so2\n",
        ")"
      ],
      "metadata": {
        "colab": {
          "base_uri": "https://localhost:8080/"
        },
        "id": "CR3zkRbYee19",
        "outputId": "498b9890-f011-461a-8faa-a2d722760b05"
      },
      "execution_count": null,
      "outputs": [
        {
          "output_type": "execute_result",
          "data": {
            "text/plain": [
              "Ttest_indResult(statistic=-6.528613660967165, pvalue=9.809520916599598e-11)"
            ]
          },
          "metadata": {},
          "execution_count": 55
        }
      ]
    },
    {
      "cell_type": "code",
      "source": [
        "# nilai t critical untuk alpha 0.05\n",
        "scs.t.ppf(0.05, df = (len(df) - 2))"
      ],
      "metadata": {
        "colab": {
          "base_uri": "https://localhost:8080/"
        },
        "id": "z9BWFCW5erBZ",
        "outputId": "e69e9e0f-98a7-4848-a995-10468480f955"
      },
      "execution_count": null,
      "outputs": [
        {
          "output_type": "execute_result",
          "data": {
            "text/plain": [
              "-1.646060029911409"
            ]
          },
          "metadata": {},
          "execution_count": 56
        }
      ]
    },
    {
      "cell_type": "markdown",
      "source": [
        "- dengan nilai t-value < t-critical dan nilai p-value < 0.05 maka h0 di reject\n",
        "- mean antara kelas 0 dan kelas 1 untuk so2 statistically significant"
      ],
      "metadata": {
        "id": "4X8l2lLdflho"
      }
    },
    {
      "cell_type": "markdown",
      "source": [
        "#### 3.2.13 T Test untuk CO"
      ],
      "metadata": {
        "id": "ooajc1wLfn_v"
      }
    },
    {
      "cell_type": "markdown",
      "source": [
        "- h0    = mean co untuk kelas 0 = mean co untuk kelas 1\n",
        "- h1    = mean co untuk kelas 0 != mean co untuk kelas 1"
      ],
      "metadata": {
        "id": "zXetkdKOfvPy"
      }
    },
    {
      "cell_type": "code",
      "source": [
        "# perform t-test untuk 2 variabel\n",
        "scs.ttest_ind(\n",
        "    df_baik[df_baik.co.isnull() != True].co,\n",
        "    df_tidak_baik[df_tidak_baik.co.isnull() != True].co\n",
        ")"
      ],
      "metadata": {
        "colab": {
          "base_uri": "https://localhost:8080/"
        },
        "id": "O3Cr2euoewVH",
        "outputId": "ef5e9103-1169-435c-937f-4b3e82992c3d"
      },
      "execution_count": null,
      "outputs": [
        {
          "output_type": "execute_result",
          "data": {
            "text/plain": [
              "Ttest_indResult(statistic=-6.615880081861031, pvalue=5.458290807678369e-11)"
            ]
          },
          "metadata": {},
          "execution_count": 58
        }
      ]
    },
    {
      "cell_type": "code",
      "source": [
        "# nilai t critical untuk alpha 0.05\n",
        "scs.t.ppf(0.05, df = (len(df) - 2))"
      ],
      "metadata": {
        "colab": {
          "base_uri": "https://localhost:8080/"
        },
        "id": "m6X5hY5sfxRy",
        "outputId": "e9abbe28-b4a1-4c58-dadb-c171cc7ea623"
      },
      "execution_count": null,
      "outputs": [
        {
          "output_type": "execute_result",
          "data": {
            "text/plain": [
              "-1.646060029911409"
            ]
          },
          "metadata": {},
          "execution_count": 59
        }
      ]
    },
    {
      "cell_type": "markdown",
      "source": [
        "- dengan nilai t-value < t-critical dan nilai p-value < 0.05 maka h0 di reject\n",
        "- mean antara kelas 0 dan kelas 1 untuk co statistically significant"
      ],
      "metadata": {
        "id": "vhGqiLw7f3c_"
      }
    },
    {
      "cell_type": "markdown",
      "source": [
        "#### 3.2.14 T Test untuk O3"
      ],
      "metadata": {
        "id": "fx6zlUz-f6DP"
      }
    },
    {
      "cell_type": "markdown",
      "source": [
        "- h0    = mean o3 untuk kelas 0 = mean o3 untuk kelas 1\n",
        "- h1    = mean o3 untuk kelas 0 != mean o3 untuk kelas 1"
      ],
      "metadata": {
        "id": "-QciKcpEf8uO"
      }
    },
    {
      "cell_type": "code",
      "source": [
        "# perform t-test untuk 2 variabel\n",
        "scs.ttest_ind(\n",
        "    df_baik[df_baik.o3.isnull() != True].o3,\n",
        "    df_tidak_baik[df_tidak_baik.o3.isnull() != True].o3,\n",
        "    equal_var = False\n",
        ")"
      ],
      "metadata": {
        "colab": {
          "base_uri": "https://localhost:8080/"
        },
        "id": "SMdhYkZPf1NW",
        "outputId": "23ca7351-5287-4505-d5d2-ff0c9c79b644"
      },
      "execution_count": null,
      "outputs": [
        {
          "output_type": "execute_result",
          "data": {
            "text/plain": [
              "Ttest_indResult(statistic=-1.370339038712427, pvalue=0.17181016262512436)"
            ]
          },
          "metadata": {},
          "execution_count": 62
        }
      ]
    },
    {
      "cell_type": "code",
      "source": [
        "# nilai t critical untuk alpha 0.05\n",
        "scs.t.ppf(0.05, df = (len(df) - 2))"
      ],
      "metadata": {
        "colab": {
          "base_uri": "https://localhost:8080/"
        },
        "id": "abgCmjV1f-no",
        "outputId": "ffffb4e6-58f8-46e2-a065-d7ea8dbbb419"
      },
      "execution_count": null,
      "outputs": [
        {
          "output_type": "execute_result",
          "data": {
            "text/plain": [
              "-1.646060029911409"
            ]
          },
          "metadata": {},
          "execution_count": 63
        }
      ]
    },
    {
      "cell_type": "markdown",
      "source": [
        "- dengan nilai t-value < t-critical dan nilai p-value < 0.05 maka h0 di reject\n",
        "- mean antara kelas 0 dan kelas 1 untuk o3 statistically significant"
      ],
      "metadata": {
        "id": "aR7JPyMSgWuf"
      }
    },
    {
      "cell_type": "markdown",
      "source": [
        "#### 3.2.15 T Test untuk NO2"
      ],
      "metadata": {
        "id": "p-_qkSOggdg3"
      }
    },
    {
      "cell_type": "markdown",
      "source": [
        "- h0    = mean no2 untuk kelas 0 = mean no2 untuk kelas 1\n",
        "- h1    = mean no2 untuk kelas 0 != mean no2 untuk kelas 1"
      ],
      "metadata": {
        "id": "vEtdnIhLga76"
      }
    },
    {
      "cell_type": "code",
      "source": [
        "# perform t-test untuk 2 variabel\n",
        "scs.ttest_ind(\n",
        "    df_baik[df_baik.no2.isnull() != True].no2,\n",
        "    df_tidak_baik[df_tidak_baik.no2.isnull() != True].no2\n",
        ")"
      ],
      "metadata": {
        "colab": {
          "base_uri": "https://localhost:8080/"
        },
        "id": "aA28m69af_Wr",
        "outputId": "79be5432-f36e-4ac3-97f9-a49aa506dfc3"
      },
      "execution_count": null,
      "outputs": [
        {
          "output_type": "execute_result",
          "data": {
            "text/plain": [
              "Ttest_indResult(statistic=-6.440320812809557, pvalue=1.6965866059375713e-10)"
            ]
          },
          "metadata": {},
          "execution_count": 64
        }
      ]
    },
    {
      "cell_type": "code",
      "source": [
        "# nilai t critical untuk alpha 0.05\n",
        "print(\"t critical: {}\".format(scs.t.ppf(0.05, df = (len(df) - 2))))"
      ],
      "metadata": {
        "colab": {
          "base_uri": "https://localhost:8080/"
        },
        "id": "s6CzacrfgiW6",
        "outputId": "6bbd2c51-6e9e-4852-8e35-49be74e02fed"
      },
      "execution_count": null,
      "outputs": [
        {
          "output_type": "stream",
          "name": "stdout",
          "text": [
            "t critical: -1.646060029911409\n"
          ]
        }
      ]
    },
    {
      "cell_type": "markdown",
      "source": [
        "- dengan nilai t-value < t-critical dan nilai p-value < 0.05 maka h0 di reject\n",
        "- mean antara kelas 0 dan kelas 1 untuk no2 statistically significant"
      ],
      "metadata": {
        "id": "Btcf7goIgmHP"
      }
    },
    {
      "cell_type": "markdown",
      "source": [
        "### 3.3. Cek Imbalance Label"
      ],
      "metadata": {
        "id": "Xlgq97e3hPNA"
      }
    },
    {
      "cell_type": "code",
      "source": [
        "df['categori'].value_counts()"
      ],
      "metadata": {
        "colab": {
          "base_uri": "https://localhost:8080/"
        },
        "id": "hFj1GMu0gkF1",
        "outputId": "d5278ec2-07f6-4632-c0b0-052c87d37ee2"
      },
      "execution_count": null,
      "outputs": [
        {
          "output_type": "execute_result",
          "data": {
            "text/plain": [
              "BAIK           1076\n",
              "TIDAK SEHAT     190\n",
              "Name: categori, dtype: int64"
            ]
          },
          "metadata": {},
          "execution_count": 67
        }
      ]
    },
    {
      "cell_type": "code",
      "source": [
        "sns.histplot(data = df, x = \"categori\", hue = \"categori\")"
      ],
      "metadata": {
        "colab": {
          "base_uri": "https://localhost:8080/",
          "height": 467
        },
        "id": "swvpReGLhQXx",
        "outputId": "48d21a64-15a6-4b39-f01e-29b34a34e771"
      },
      "execution_count": null,
      "outputs": [
        {
          "output_type": "execute_result",
          "data": {
            "text/plain": [
              "<Axes: xlabel='categori', ylabel='Count'>"
            ]
          },
          "metadata": {},
          "execution_count": 68
        },
        {
          "output_type": "display_data",
          "data": {
            "text/plain": [
              "<Figure size 640x480 with 1 Axes>"
            ],
            "image/png": "[encoded data removed]"
          },
          "metadata": {}
        }
      ]
    },
    {
      "cell_type": "markdown",
      "source": [
        "### 3.4. Cek Outliers"
      ],
      "metadata": {
        "id": "3xXQrdIdhaZ_"
      }
    },
    {
      "cell_type": "code",
      "source": [
        "sns.boxplot(data = df, x = \"pm10\")"
      ],
      "metadata": {
        "colab": {
          "base_uri": "https://localhost:8080/",
          "height": 467
        },
        "id": "Yn6LSAs2hTEP",
        "outputId": "e8769255-057a-4888-ef60-039db4f742cd"
      },
      "execution_count": null,
      "outputs": [
        {
          "output_type": "execute_result",
          "data": {
            "text/plain": [
              "<Axes: xlabel='pm10'>"
            ]
          },
          "metadata": {},
          "execution_count": 69
        },
        {
          "output_type": "display_data",
          "data": {
            "text/plain": [
              "<Figure size 640x480 with 1 Axes>"
            ],
            "image/png": "[encoded data removed]"
          },
          "metadata": {}
        }
      ]
    },
    {
      "cell_type": "code",
      "source": [
        "sns.boxplot(data = dataset, x = \"pm25\")"
      ],
      "metadata": {
        "colab": {
          "base_uri": "https://localhost:8080/",
          "height": 467
        },
        "id": "AJoOsT01hcH2",
        "outputId": "4b6967b7-7674-4778-af51-e2050e92189a"
      },
      "execution_count": null,
      "outputs": [
        {
          "output_type": "execute_result",
          "data": {
            "text/plain": [
              "<Axes: xlabel='pm25'>"
            ]
          },
          "metadata": {},
          "execution_count": 70
        },
        {
          "output_type": "display_data",
          "data": {
            "text/plain": [
              "<Figure size 640x480 with 1 Axes>"
            ],
            "image/png": "[encoded data removed]"
          },
          "metadata": {}
        }
      ]
    },
    {
      "cell_type": "code",
      "source": [
        "sns.boxplot(data = dataset, x = \"so2\")"
      ],
      "metadata": {
        "colab": {
          "base_uri": "https://localhost:8080/",
          "height": 467
        },
        "id": "jWTBuTanhdJY",
        "outputId": "209aa5d6-98f5-4b33-b03f-9e49799e2ea5"
      },
      "execution_count": null,
      "outputs": [
        {
          "output_type": "execute_result",
          "data": {
            "text/plain": [
              "<Axes: xlabel='so2'>"
            ]
          },
          "metadata": {},
          "execution_count": 71
        },
        {
          "output_type": "display_data",
          "data": {
            "text/plain": [
              "<Figure size 640x480 with 1 Axes>"
            ],
            "image/png": "[encoded data removed]"
          },
          "metadata": {}
        }
      ]
    },
    {
      "cell_type": "code",
      "source": [
        "sns.boxplot(data = dataset, x = \"co\")"
      ],
      "metadata": {
        "colab": {
          "base_uri": "https://localhost:8080/",
          "height": 467
        },
        "id": "pEV8SkHtheCL",
        "outputId": "9b4f9e2f-7ba9-4a2a-c0fe-4f24f0fb1d91"
      },
      "execution_count": null,
      "outputs": [
        {
          "output_type": "execute_result",
          "data": {
            "text/plain": [
              "<Axes: xlabel='co'>"
            ]
          },
          "metadata": {},
          "execution_count": 72
        },
        {
          "output_type": "display_data",
          "data": {
            "text/plain": [
              "<Figure size 640x480 with 1 Axes>"
            ],
            "image/png": "[encoded data removed]"
          },
          "metadata": {}
        }
      ]
    },
    {
      "cell_type": "code",
      "source": [
        "sns.boxplot(data = dataset, x = \"o3\")"
      ],
      "metadata": {
        "colab": {
          "base_uri": "https://localhost:8080/",
          "height": 467
        },
        "id": "IY3-upOBhfIn",
        "outputId": "841f67dd-5dee-4a0e-badc-1b0c1baa425b"
      },
      "execution_count": null,
      "outputs": [
        {
          "output_type": "execute_result",
          "data": {
            "text/plain": [
              "<Axes: xlabel='o3'>"
            ]
          },
          "metadata": {},
          "execution_count": 73
        },
        {
          "output_type": "display_data",
          "data": {
            "text/plain": [
              "<Figure size 640x480 with 1 Axes>"
            ],
            "image/png": "[encoded data removed]"
          },
          "metadata": {}
        }
      ]
    },
    {
      "cell_type": "code",
      "source": [
        "sns.boxplot(data = dataset, x = \"no2\")"
      ],
      "metadata": {
        "colab": {
          "base_uri": "https://localhost:8080/",
          "height": 467
        },
        "id": "UgFD8jsvhgD5",
        "outputId": "8a9d6a79-dd43-4eed-a911-d8a4a3b70ced"
      },
      "execution_count": null,
      "outputs": [
        {
          "output_type": "execute_result",
          "data": {
            "text/plain": [
              "<Axes: xlabel='no2'>"
            ]
          },
          "metadata": {},
          "execution_count": 74
        },
        {
          "output_type": "display_data",
          "data": {
            "text/plain": [
              "<Figure size 640x480 with 1 Axes>"
            ],
            "image/png": "[encoded data removed]"
          },
          "metadata": {}
        }
      ]
    },
    {
      "cell_type": "markdown",
      "source": [
        "1. Missing value handling\n",
        "-  pm10      : mean kelas\n",
        "-  pm25      : mean kelas\n",
        "-  so2       : mean\n",
        "-  co        : median\n",
        "-  o3        : median\n",
        "-  no2       : median\n",
        "\n",
        "3. Balancing label baik dan tidak baik\n",
        "\n",
        "4. Outlier removal"
      ],
      "metadata": {
        "id": "lUa7N-tqhjnJ"
      }
    },
    {
      "cell_type": "code",
      "source": [],
      "metadata": {
        "id": "uz456METhg53"
      },
      "execution_count": null,
      "outputs": []
    }
  ]
}